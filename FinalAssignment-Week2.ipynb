{
 "cells": [
  {
   "cell_type": "markdown",
   "metadata": {},
   "source": [
    "# What is around each of top 100 world-class universities?"
   ]
  },
  {
   "cell_type": "code",
   "execution_count": 27,
   "metadata": {},
   "outputs": [],
   "source": [
    "import pandas as pd\n",
    "import numpy as np\n",
    "import html5lib\n",
    "import lxml\n",
    "import re\n",
    "import requests\n",
    "import json\n",
    "from bs4 import BeautifulSoup\n",
    "from selenium import webdriver\n",
    "from selenium.webdriver import ActionChains\n",
    "from selenium.webdriver.support.ui import WebDriverWait\n",
    "from selenium.webdriver.common.by import By\n",
    "from selenium.webdriver.support import expected_conditions as EC\n",
    "import matplotlib.pyplot as plt\n",
    "import folium\n",
    "import time\n",
    "import geocoder\n",
    "from tqdm import tqdm\n",
    "import sys\n",
    "import linecache\n",
    "pd.set_option('display.max_rows', None)"
   ]
  },
  {
   "cell_type": "code",
   "execution_count": 2,
   "metadata": {},
   "outputs": [],
   "source": [
    "option = webdriver.ChromeOptions()\n",
    "chrome_prefs = {}\n",
    "option.experimental_options[\"prefs\"] = chrome_prefs\n",
    "option.add_argument('--headless')\n",
    "option.add_argument('--no-sandbox')\n",
    "option.add_argument('--disable-dev-shm-usage')\n",
    "chrome_prefs[\"profile.default_content_settings\"] = {\"images\": 2}\n",
    "chrome_prefs[\"profile.managed_default_content_settings\"] = {\"images\": 2}"
   ]
  },
  {
   "cell_type": "code",
   "execution_count": 3,
   "metadata": {},
   "outputs": [],
   "source": [
    "url = 'https://www.topuniversities.com/university-rankings/world-university-rankings/2020'"
   ]
  },
  {
   "cell_type": "code",
   "execution_count": 4,
   "metadata": {},
   "outputs": [],
   "source": [
    "tableCSSselector = '.quicktabs_main'\n",
    "clickPerPageCSSselector = '#qs-rankings_length > label > span.jcf-select.jcf-unselectable > span.jcf-select-opener'\n",
    "click100CSSselector = '#qs-rankings_length > label > span.jcf-select.jcf-unselectable.jcf-drop-active > div > div > span > span > ul > li:nth-child(3) > span'"
   ]
  },
  {
   "cell_type": "code",
   "execution_count": 5,
   "metadata": {},
   "outputs": [],
   "source": [
    "def PrintException():\n",
    "    exc_type, exc_obj, tb = sys.exc_info()\n",
    "    f = tb.tb_frame\n",
    "    lineno = tb.tb_lineno\n",
    "    filename = f.f_code.co_filename\n",
    "    linecache.checkcache(filename)\n",
    "    line = linecache.getline(filename, lineno, f.f_globals)\n",
    "    print('Exception in ({}, line {} \"{}\"): {}'.format(filename, lineno, line.strip(), exc_obj))"
   ]
  },
  {
   "cell_type": "code",
   "execution_count": 8,
   "metadata": {},
   "outputs": [
    {
     "name": "stdout",
     "output_type": "stream",
     "text": [
      "ready ro scrape.\n",
      "Top 100 institutions shown\n"
     ]
    },
    {
     "name": "stderr",
     "output_type": "stream",
     "text": [
      "  0%|                                                                                          | 0/100 [00:00<?, ?it/s]"
     ]
    },
    {
     "name": "stdout",
     "output_type": "stream",
     "text": [
      "1: Massachusetts Institute of Technology (MIT)\n"
     ]
    },
    {
     "name": "stderr",
     "output_type": "stream",
     "text": [
      "  1%|▊                                                                                 | 1/100 [00:05<08:56,  5.42s/it]"
     ]
    },
    {
     "name": "stdout",
     "output_type": "stream",
     "text": [
      "2: Stanford University\n"
     ]
    },
    {
     "name": "stderr",
     "output_type": "stream",
     "text": [
      "  2%|█▋                                                                                | 2/100 [00:21<14:18,  8.76s/it]"
     ]
    },
    {
     "name": "stdout",
     "output_type": "stream",
     "text": [
      "3: Harvard University\n"
     ]
    },
    {
     "name": "stderr",
     "output_type": "stream",
     "text": [
      "  3%|██▍                                                                               | 3/100 [00:36<16:52, 10.44s/it]"
     ]
    },
    {
     "name": "stdout",
     "output_type": "stream",
     "text": [
      "4: University of Oxford\n"
     ]
    },
    {
     "name": "stderr",
     "output_type": "stream",
     "text": [
      "  4%|███▎                                                                              | 4/100 [00:45<16:09, 10.09s/it]"
     ]
    },
    {
     "name": "stdout",
     "output_type": "stream",
     "text": [
      "5: California Institute of Technology (Caltech)\n"
     ]
    },
    {
     "name": "stderr",
     "output_type": "stream",
     "text": [
      "  5%|████                                                                              | 5/100 [00:56<16:23, 10.35s/it]"
     ]
    },
    {
     "name": "stdout",
     "output_type": "stream",
     "text": [
      "6: ETH Zurich - Swiss Federal Institute of Technology\n"
     ]
    },
    {
     "name": "stderr",
     "output_type": "stream",
     "text": [
      "  6%|████▉                                                                             | 6/100 [01:10<18:00, 11.50s/it]"
     ]
    },
    {
     "name": "stdout",
     "output_type": "stream",
     "text": [
      "7: University of Cambridge\n"
     ]
    },
    {
     "name": "stderr",
     "output_type": "stream",
     "text": [
      "  7%|█████▋                                                                            | 7/100 [01:19<16:30, 10.65s/it]"
     ]
    },
    {
     "name": "stdout",
     "output_type": "stream",
     "text": [
      "8: UCL\n"
     ]
    },
    {
     "name": "stderr",
     "output_type": "stream",
     "text": [
      "  8%|██████▌                                                                           | 8/100 [01:29<16:07, 10.52s/it]"
     ]
    },
    {
     "name": "stdout",
     "output_type": "stream",
     "text": [
      "9: Imperial College London\n"
     ]
    },
    {
     "name": "stderr",
     "output_type": "stream",
     "text": [
      "  9%|███████▍                                                                          | 9/100 [01:39<15:30, 10.22s/it]"
     ]
    },
    {
     "name": "stdout",
     "output_type": "stream",
     "text": [
      "10: University of Chicago\n"
     ]
    },
    {
     "name": "stderr",
     "output_type": "stream",
     "text": [
      " 10%|████████                                                                         | 10/100 [01:46<14:12,  9.47s/it]"
     ]
    },
    {
     "name": "stdout",
     "output_type": "stream",
     "text": [
      "11: Nanyang Technological University, Singapore (NTU)\n"
     ]
    },
    {
     "name": "stderr",
     "output_type": "stream",
     "text": [
      " 11%|████████▉                                                                        | 11/100 [01:55<13:52,  9.35s/it]"
     ]
    },
    {
     "name": "stdout",
     "output_type": "stream",
     "text": [
      "12: National University of Singapore (NUS)\n"
     ]
    },
    {
     "name": "stderr",
     "output_type": "stream",
     "text": [
      " 12%|█████████▋                                                                       | 12/100 [02:03<12:59,  8.86s/it]"
     ]
    },
    {
     "name": "stdout",
     "output_type": "stream",
     "text": [
      "13: Princeton University\n"
     ]
    },
    {
     "name": "stderr",
     "output_type": "stream",
     "text": [
      " 13%|██████████▌                                                                      | 13/100 [02:10<12:08,  8.38s/it]"
     ]
    },
    {
     "name": "stdout",
     "output_type": "stream",
     "text": [
      "14: Cornell University\n"
     ]
    },
    {
     "name": "stderr",
     "output_type": "stream",
     "text": [
      " 14%|███████████▎                                                                     | 14/100 [02:21<13:08,  9.17s/it]"
     ]
    },
    {
     "name": "stdout",
     "output_type": "stream",
     "text": [
      "15: University of Pennsylvania\n"
     ]
    },
    {
     "name": "stderr",
     "output_type": "stream",
     "text": [
      " 15%|████████████▏                                                                    | 15/100 [02:31<13:01,  9.19s/it]"
     ]
    },
    {
     "name": "stdout",
     "output_type": "stream",
     "text": [
      "16: Tsinghua University\n"
     ]
    },
    {
     "name": "stderr",
     "output_type": "stream",
     "text": [
      " 16%|████████████▉                                                                    | 16/100 [02:39<12:40,  9.06s/it]"
     ]
    },
    {
     "name": "stdout",
     "output_type": "stream",
     "text": [
      "17: Yale University\n"
     ]
    },
    {
     "name": "stderr",
     "output_type": "stream",
     "text": [
      " 17%|█████████████▊                                                                   | 17/100 [02:48<12:30,  9.04s/it]"
     ]
    },
    {
     "name": "stdout",
     "output_type": "stream",
     "text": [
      "18: Columbia University\n"
     ]
    },
    {
     "name": "stderr",
     "output_type": "stream",
     "text": [
      " 18%|██████████████▌                                                                  | 18/100 [02:58<12:26,  9.10s/it]"
     ]
    },
    {
     "name": "stdout",
     "output_type": "stream",
     "text": [
      "19: EPFL\n"
     ]
    },
    {
     "name": "stderr",
     "output_type": "stream",
     "text": [
      " 19%|███████████████▍                                                                 | 19/100 [03:06<11:58,  8.87s/it]"
     ]
    },
    {
     "name": "stdout",
     "output_type": "stream",
     "text": [
      "20: The University of Edinburgh\n"
     ]
    },
    {
     "name": "stderr",
     "output_type": "stream",
     "text": [
      " 20%|████████████████▏                                                                | 20/100 [03:17<12:52,  9.65s/it]"
     ]
    },
    {
     "name": "stdout",
     "output_type": "stream",
     "text": [
      "21: University of Michigan-Ann Arbor\n"
     ]
    },
    {
     "name": "stderr",
     "output_type": "stream",
     "text": [
      " 21%|█████████████████                                                                | 21/100 [03:25<11:40,  8.86s/it]"
     ]
    },
    {
     "name": "stdout",
     "output_type": "stream",
     "text": [
      "22: Peking University\n"
     ]
    },
    {
     "name": "stderr",
     "output_type": "stream",
     "text": [
      " 22%|█████████████████▊                                                               | 22/100 [03:36<12:41,  9.76s/it]"
     ]
    },
    {
     "name": "stdout",
     "output_type": "stream",
     "text": [
      "23: The University of Tokyo\n"
     ]
    },
    {
     "name": "stderr",
     "output_type": "stream",
     "text": [
      " 23%|██████████████████▋                                                              | 23/100 [03:47<12:44,  9.93s/it]"
     ]
    },
    {
     "name": "stdout",
     "output_type": "stream",
     "text": [
      "24: Johns Hopkins University\n"
     ]
    },
    {
     "name": "stderr",
     "output_type": "stream",
     "text": [
      " 24%|███████████████████▍                                                             | 24/100 [03:56<12:20,  9.74s/it]"
     ]
    },
    {
     "name": "stdout",
     "output_type": "stream",
     "text": [
      "25: Duke University\n"
     ]
    },
    {
     "name": "stderr",
     "output_type": "stream",
     "text": [
      " 25%|████████████████████▎                                                            | 25/100 [04:05<12:03,  9.65s/it]"
     ]
    },
    {
     "name": "stdout",
     "output_type": "stream",
     "text": [
      "26: The University of Hong Kong\n"
     ]
    },
    {
     "name": "stderr",
     "output_type": "stream",
     "text": [
      " 26%|█████████████████████                                                            | 26/100 [04:16<12:16,  9.95s/it]"
     ]
    },
    {
     "name": "stdout",
     "output_type": "stream",
     "text": [
      "27: The University of Manchester\n"
     ]
    },
    {
     "name": "stderr",
     "output_type": "stream",
     "text": [
      " 27%|█████████████████████▊                                                           | 27/100 [04:28<12:46, 10.49s/it]"
     ]
    },
    {
     "name": "stdout",
     "output_type": "stream",
     "text": [
      "28: University of California, Berkeley (UCB)\n"
     ]
    },
    {
     "name": "stderr",
     "output_type": "stream",
     "text": [
      " 28%|██████████████████████▋                                                          | 28/100 [04:36<11:50,  9.87s/it]"
     ]
    },
    {
     "name": "stdout",
     "output_type": "stream",
     "text": [
      "29: The Australian National University\n"
     ]
    },
    {
     "name": "stderr",
     "output_type": "stream",
     "text": [
      " 29%|███████████████████████▍                                                         | 29/100 [04:46<11:28,  9.70s/it]"
     ]
    },
    {
     "name": "stdout",
     "output_type": "stream",
     "text": [
      "30: University of Toronto\n"
     ]
    },
    {
     "name": "stderr",
     "output_type": "stream",
     "text": [
      " 30%|████████████████████████▎                                                        | 30/100 [04:54<10:52,  9.32s/it]"
     ]
    },
    {
     "name": "stdout",
     "output_type": "stream",
     "text": [
      "31: Northwestern University\n"
     ]
    },
    {
     "name": "stderr",
     "output_type": "stream",
     "text": [
      " 31%|█████████████████████████                                                        | 31/100 [05:02<10:15,  8.92s/it]"
     ]
    },
    {
     "name": "stdout",
     "output_type": "stream",
     "text": [
      "32: The Hong Kong University of Science and Technology\n"
     ]
    },
    {
     "name": "stderr",
     "output_type": "stream",
     "text": [
      " 32%|█████████████████████████▉                                                       | 32/100 [05:12<10:28,  9.24s/it]"
     ]
    },
    {
     "name": "stdout",
     "output_type": "stream",
     "text": [
      "33: King's College London\n"
     ]
    },
    {
     "name": "stderr",
     "output_type": "stream",
     "text": [
      " 33%|██████████████████████████▋                                                      | 33/100 [05:20<09:45,  8.75s/it]"
     ]
    },
    {
     "name": "stdout",
     "output_type": "stream",
     "text": [
      "34: Kyoto University\n"
     ]
    },
    {
     "name": "stderr",
     "output_type": "stream",
     "text": [
      " 34%|███████████████████████████▌                                                     | 34/100 [05:27<09:01,  8.21s/it]"
     ]
    },
    {
     "name": "stdout",
     "output_type": "stream",
     "text": [
      "35: McGill University\n"
     ]
    },
    {
     "name": "stderr",
     "output_type": "stream",
     "text": [
      " 35%|████████████████████████████▎                                                    | 35/100 [05:36<09:22,  8.65s/it]"
     ]
    },
    {
     "name": "stdout",
     "output_type": "stream",
     "text": [
      "36: University of California, Los Angeles (UCLA)\n"
     ]
    },
    {
     "name": "stderr",
     "output_type": "stream",
     "text": [
      " 36%|█████████████████████████████▏                                                   | 36/100 [05:43<08:45,  8.21s/it]"
     ]
    },
    {
     "name": "stdout",
     "output_type": "stream",
     "text": [
      "37: Seoul National University\n"
     ]
    },
    {
     "name": "stderr",
     "output_type": "stream",
     "text": [
      " 37%|█████████████████████████████▉                                                   | 37/100 [05:51<08:29,  8.09s/it]"
     ]
    },
    {
     "name": "stdout",
     "output_type": "stream",
     "text": [
      "38: The University of Melbourne\n"
     ]
    },
    {
     "name": "stderr",
     "output_type": "stream",
     "text": [
      " 38%|██████████████████████████████▊                                                  | 38/100 [05:58<08:04,  7.82s/it]"
     ]
    },
    {
     "name": "stdout",
     "output_type": "stream",
     "text": [
      "39: New York University (NYU)\n"
     ]
    },
    {
     "name": "stderr",
     "output_type": "stream",
     "text": [
      " 39%|███████████████████████████████▌                                                 | 39/100 [06:06<07:59,  7.87s/it]"
     ]
    },
    {
     "name": "stdout",
     "output_type": "stream",
     "text": [
      "40: Fudan University\n"
     ]
    },
    {
     "name": "stderr",
     "output_type": "stream",
     "text": [
      " 40%|████████████████████████████████▍                                                | 40/100 [06:15<07:58,  7.97s/it]"
     ]
    },
    {
     "name": "stdout",
     "output_type": "stream",
     "text": [
      "41: KAIST - Korea Advanced Institute of Science & Technology\n"
     ]
    },
    {
     "name": "stderr",
     "output_type": "stream",
     "text": [
      " 41%|█████████████████████████████████▏                                               | 41/100 [06:23<08:06,  8.25s/it]"
     ]
    },
    {
     "name": "stdout",
     "output_type": "stream",
     "text": [
      "42: The University of Sydney\n"
     ]
    },
    {
     "name": "stderr",
     "output_type": "stream",
     "text": [
      " 42%|██████████████████████████████████                                               | 42/100 [06:34<08:38,  8.94s/it]"
     ]
    },
    {
     "name": "stdout",
     "output_type": "stream",
     "text": [
      "43: The University of New South Wales (UNSW Sydney)\n"
     ]
    },
    {
     "name": "stderr",
     "output_type": "stream",
     "text": [
      " 43%|██████████████████████████████████▊                                              | 43/100 [06:42<08:10,  8.60s/it]"
     ]
    },
    {
     "name": "stdout",
     "output_type": "stream",
     "text": [
      "44: The London School of Economics and Political Science (LSE)\n"
     ]
    },
    {
     "name": "stderr",
     "output_type": "stream",
     "text": [
      " 44%|███████████████████████████████████▋                                             | 44/100 [06:49<07:30,  8.04s/it]"
     ]
    },
    {
     "name": "stdout",
     "output_type": "stream",
     "text": [
      "45: University of California, San Diego (UCSD)\n"
     ]
    },
    {
     "name": "stderr",
     "output_type": "stream",
     "text": [
      " 45%|████████████████████████████████████▍                                            | 45/100 [06:57<07:20,  8.02s/it]"
     ]
    },
    {
     "name": "stdout",
     "output_type": "stream",
     "text": [
      "46: The Chinese University of Hong Kong (CUHK)\n"
     ]
    },
    {
     "name": "stderr",
     "output_type": "stream",
     "text": [
      " 46%|█████████████████████████████████████▎                                           | 46/100 [07:07<07:47,  8.67s/it]"
     ]
    },
    {
     "name": "stdout",
     "output_type": "stream",
     "text": [
      "47: The University of Queensland\n"
     ]
    },
    {
     "name": "stderr",
     "output_type": "stream",
     "text": [
      " 47%|██████████████████████████████████████                                           | 47/100 [07:15<07:31,  8.51s/it]"
     ]
    },
    {
     "name": "stdout",
     "output_type": "stream",
     "text": [
      "48: Carnegie Mellon University\n"
     ]
    },
    {
     "name": "stderr",
     "output_type": "stream",
     "text": [
      " 48%|██████████████████████████████████████▉                                          | 48/100 [07:23<07:11,  8.29s/it]"
     ]
    },
    {
     "name": "stdout",
     "output_type": "stream",
     "text": [
      "49: University of Bristol\n"
     ]
    },
    {
     "name": "stderr",
     "output_type": "stream",
     "text": [
      " 49%|███████████████████████████████████████▋                                         | 49/100 [07:34<07:46,  9.14s/it]"
     ]
    },
    {
     "name": "stdout",
     "output_type": "stream",
     "text": [
      "50: Delft University of Technology\n"
     ]
    },
    {
     "name": "stderr",
     "output_type": "stream",
     "text": [
      " 50%|████████████████████████████████████████▌                                        | 50/100 [07:43<07:31,  9.03s/it]"
     ]
    },
    {
     "name": "stdout",
     "output_type": "stream",
     "text": [
      "51: University of British Columbia\n"
     ]
    },
    {
     "name": "stderr",
     "output_type": "stream",
     "text": [
      " 51%|█████████████████████████████████████████▎                                       | 51/100 [07:52<07:34,  9.28s/it]"
     ]
    },
    {
     "name": "stdout",
     "output_type": "stream",
     "text": [
      "52: City University of Hong Kong\n"
     ]
    },
    {
     "name": "stderr",
     "output_type": "stream",
     "text": [
      " 53%|██████████████████████████████████████████▉                                      | 53/100 [08:06<06:14,  7.97s/it]"
     ]
    },
    {
     "name": "stdout",
     "output_type": "stream",
     "text": [
      "Error occured when scraping Université PSL\n",
      "Exception in (<ipython-input-8-185efa91d527>, line 51 \"uniLoc = re.findall('(?!\\n).+', uniLocRaw.text)[0]\"): 'NoneType' object has no attribute 'text'\n",
      "Continue to the next iteration.\n",
      "54: Zhejiang University\n"
     ]
    },
    {
     "name": "stderr",
     "output_type": "stream",
     "text": [
      " 54%|███████████████████████████████████████████▋                                     | 54/100 [08:14<06:03,  7.90s/it]"
     ]
    },
    {
     "name": "stdout",
     "output_type": "stream",
     "text": [
      "55: Technical University of Munich\n"
     ]
    },
    {
     "name": "stderr",
     "output_type": "stream",
     "text": [
      " 55%|████████████████████████████████████████████▌                                    | 55/100 [08:18<05:07,  6.83s/it]"
     ]
    },
    {
     "name": "stdout",
     "output_type": "stream",
     "text": [
      "56: University of Wisconsin-Madison\n"
     ]
    },
    {
     "name": "stderr",
     "output_type": "stream",
     "text": [
      " 56%|█████████████████████████████████████████████▎                                   | 56/100 [08:28<05:38,  7.69s/it]"
     ]
    },
    {
     "name": "stdout",
     "output_type": "stream",
     "text": [
      "57: Brown University\n"
     ]
    },
    {
     "name": "stderr",
     "output_type": "stream",
     "text": [
      " 57%|██████████████████████████████████████████████▏                                  | 57/100 [08:38<05:57,  8.32s/it]"
     ]
    },
    {
     "name": "stdout",
     "output_type": "stream",
     "text": [
      "58: Monash University\n"
     ]
    },
    {
     "name": "stderr",
     "output_type": "stream",
     "text": [
      " 58%|██████████████████████████████████████████████▉                                  | 58/100 [08:45<05:37,  8.04s/it]"
     ]
    },
    {
     "name": "stdout",
     "output_type": "stream",
     "text": [
      "59: Tokyo Institute of Technology (Tokyo Tech)\n"
     ]
    },
    {
     "name": "stderr",
     "output_type": "stream",
     "text": [
      " 59%|███████████████████████████████████████████████▊                                 | 59/100 [08:53<05:32,  8.12s/it]"
     ]
    },
    {
     "name": "stdout",
     "output_type": "stream",
     "text": [
      "60: Ecole Polytechnique\n"
     ]
    },
    {
     "name": "stderr",
     "output_type": "stream",
     "text": [
      " 60%|████████████████████████████████████████████████▌                                | 60/100 [09:00<05:06,  7.67s/it]"
     ]
    },
    {
     "name": "stdout",
     "output_type": "stream",
     "text": [
      "61: Shanghai Jiao Tong University\n"
     ]
    },
    {
     "name": "stderr",
     "output_type": "stream",
     "text": [
      " 61%|█████████████████████████████████████████████████▍                               | 61/100 [09:07<04:52,  7.49s/it]"
     ]
    },
    {
     "name": "stdout",
     "output_type": "stream",
     "text": [
      "62: The University of Warwick\n"
     ]
    },
    {
     "name": "stderr",
     "output_type": "stream",
     "text": [
      " 62%|██████████████████████████████████████████████████▏                              | 62/100 [09:16<05:01,  7.94s/it]"
     ]
    },
    {
     "name": "stdout",
     "output_type": "stream",
     "text": [
      "63: Ludwig-Maximilians-Universität München\n"
     ]
    },
    {
     "name": "stderr",
     "output_type": "stream",
     "text": [
      " 63%|███████████████████████████████████████████████████                              | 63/100 [09:23<04:47,  7.77s/it]"
     ]
    },
    {
     "name": "stdout",
     "output_type": "stream",
     "text": [
      "64: University of Amsterdam\n"
     ]
    },
    {
     "name": "stderr",
     "output_type": "stream",
     "text": [
      " 64%|███████████████████████████████████████████████████▊                             | 64/100 [09:33<04:55,  8.21s/it]"
     ]
    },
    {
     "name": "stdout",
     "output_type": "stream",
     "text": [
      "65: University of Texas at Austin\n"
     ]
    },
    {
     "name": "stderr",
     "output_type": "stream",
     "text": [
      " 65%|████████████████████████████████████████████████████▋                            | 65/100 [09:41<04:54,  8.42s/it]"
     ]
    },
    {
     "name": "stdout",
     "output_type": "stream",
     "text": [
      "66: Ruprecht-Karls-Universität Heidelberg\n"
     ]
    },
    {
     "name": "stderr",
     "output_type": "stream",
     "text": [
      " 66%|█████████████████████████████████████████████████████▍                           | 66/100 [09:50<04:51,  8.58s/it]"
     ]
    },
    {
     "name": "stdout",
     "output_type": "stream",
     "text": [
      "67: University of Glasgow\n"
     ]
    },
    {
     "name": "stderr",
     "output_type": "stream",
     "text": [
      " 67%|██████████████████████████████████████████████████████▎                          | 67/100 [09:59<04:39,  8.48s/it]"
     ]
    },
    {
     "name": "stdout",
     "output_type": "stream",
     "text": [
      "68: University of Washington\n"
     ]
    },
    {
     "name": "stderr",
     "output_type": "stream",
     "text": [
      " 68%|███████████████████████████████████████████████████████                          | 68/100 [10:09<04:45,  8.91s/it]"
     ]
    },
    {
     "name": "stdout",
     "output_type": "stream",
     "text": [
      "69: National Taiwan University (NTU)\n"
     ]
    },
    {
     "name": "stderr",
     "output_type": "stream",
     "text": [
      " 69%|███████████████████████████████████████████████████████▉                         | 69/100 [10:18<04:39,  9.02s/it]"
     ]
    },
    {
     "name": "stdout",
     "output_type": "stream",
     "text": [
      "70: Universiti Malaya (UM)\n"
     ]
    },
    {
     "name": "stderr",
     "output_type": "stream",
     "text": [
      " 70%|████████████████████████████████████████████████████████▋                        | 70/100 [10:26<04:19,  8.65s/it]"
     ]
    },
    {
     "name": "stdout",
     "output_type": "stream",
     "text": [
      "71: Osaka University\n"
     ]
    },
    {
     "name": "stderr",
     "output_type": "stream",
     "text": [
      " 71%|█████████████████████████████████████████████████████████▌                       | 71/100 [10:34<04:04,  8.42s/it]"
     ]
    },
    {
     "name": "stdout",
     "output_type": "stream",
     "text": [
      "72: Georgia Institute of Technology\n"
     ]
    },
    {
     "name": "stderr",
     "output_type": "stream",
     "text": [
      " 72%|██████████████████████████████████████████████████████████▎                      | 72/100 [10:43<04:00,  8.60s/it]"
     ]
    },
    {
     "name": "stdout",
     "output_type": "stream",
     "text": [
      "73: Universidad de Buenos Aires (UBA)\n"
     ]
    },
    {
     "name": "stderr",
     "output_type": "stream",
     "text": [
      " 73%|███████████████████████████████████████████████████████████▏                     | 73/100 [10:52<03:58,  8.82s/it]"
     ]
    },
    {
     "name": "stdout",
     "output_type": "stream",
     "text": [
      "74: University of Illinois at Urbana-Champaign\n"
     ]
    },
    {
     "name": "stderr",
     "output_type": "stream",
     "text": [
      " 74%|███████████████████████████████████████████████████████████▉                     | 74/100 [11:01<03:50,  8.88s/it]"
     ]
    },
    {
     "name": "stdout",
     "output_type": "stream",
     "text": [
      "75: University of Zurich\n"
     ]
    },
    {
     "name": "stderr",
     "output_type": "stream",
     "text": [
      " 76%|█████████████████████████████████████████████████████████████▌                   | 76/100 [11:18<03:26,  8.59s/it]"
     ]
    },
    {
     "name": "stdout",
     "output_type": "stream",
     "text": [
      "Error occured when scraping Sorbonne University\n",
      "Exception in (<ipython-input-8-185efa91d527>, line 51 \"uniLoc = re.findall('(?!\\n).+', uniLocRaw.text)[0]\"): 'NoneType' object has no attribute 'text'\n",
      "Continue to the next iteration.\n",
      "77: Durham University\n"
     ]
    },
    {
     "name": "stderr",
     "output_type": "stream",
     "text": [
      " 77%|██████████████████████████████████████████████████████████████▎                  | 77/100 [11:26<03:13,  8.41s/it]"
     ]
    },
    {
     "name": "stdout",
     "output_type": "stream",
     "text": [
      "78: The University of Sheffield\n"
     ]
    },
    {
     "name": "stderr",
     "output_type": "stream",
     "text": [
      " 78%|███████████████████████████████████████████████████████████████▏                 | 78/100 [11:36<03:17,  8.96s/it]"
     ]
    },
    {
     "name": "stdout",
     "output_type": "stream",
     "text": [
      "79: KU Leuven\n"
     ]
    },
    {
     "name": "stderr",
     "output_type": "stream",
     "text": [
      " 79%|███████████████████████████████████████████████████████████████▉                 | 79/100 [11:46<03:12,  9.15s/it]"
     ]
    },
    {
     "name": "stdout",
     "output_type": "stream",
     "text": [
      "80: University of Birmingham\n"
     ]
    },
    {
     "name": "stderr",
     "output_type": "stream",
     "text": [
      " 80%|████████████████████████████████████████████████████████████████▊                | 80/100 [11:52<02:46,  8.30s/it]"
     ]
    },
    {
     "name": "stdout",
     "output_type": "stream",
     "text": [
      "81: University of Copenhagen\n"
     ]
    },
    {
     "name": "stderr",
     "output_type": "stream",
     "text": [
      " 81%|█████████████████████████████████████████████████████████████████▌               | 81/100 [11:59<02:27,  7.76s/it]"
     ]
    },
    {
     "name": "stdout",
     "output_type": "stream",
     "text": [
      "82: Tohoku University\n"
     ]
    },
    {
     "name": "stderr",
     "output_type": "stream",
     "text": [
      " 82%|██████████████████████████████████████████████████████████████████▍              | 82/100 [12:07<02:24,  8.05s/it]"
     ]
    },
    {
     "name": "stdout",
     "output_type": "stream",
     "text": [
      "83: Korea University\n"
     ]
    },
    {
     "name": "stderr",
     "output_type": "stream",
     "text": [
      " 83%|███████████████████████████████████████████████████████████████████▏             | 83/100 [12:16<02:19,  8.19s/it]"
     ]
    },
    {
     "name": "stdout",
     "output_type": "stream",
     "text": [
      "84: The University of Auckland\n"
     ]
    },
    {
     "name": "stderr",
     "output_type": "stream",
     "text": [
      " 84%|████████████████████████████████████████████████████████████████████             | 84/100 [12:26<02:19,  8.70s/it]"
     ]
    },
    {
     "name": "stdout",
     "output_type": "stream",
     "text": [
      "85: Lomonosov Moscow State University\n"
     ]
    },
    {
     "name": "stderr",
     "output_type": "stream",
     "text": [
      " 85%|████████████████████████████████████████████████████████████████████▊            | 85/100 [12:32<01:59,  7.96s/it]"
     ]
    },
    {
     "name": "stdout",
     "output_type": "stream",
     "text": [
      "86: Rice University\n"
     ]
    },
    {
     "name": "stderr",
     "output_type": "stream",
     "text": [
      " 86%|█████████████████████████████████████████████████████████████████████▋           | 86/100 [12:39<01:46,  7.60s/it]"
     ]
    },
    {
     "name": "stdout",
     "output_type": "stream",
     "text": [
      "87: The University of Western Australia\n"
     ]
    },
    {
     "name": "stderr",
     "output_type": "stream",
     "text": [
      " 87%|██████████████████████████████████████████████████████████████████████▍          | 87/100 [12:48<01:45,  8.13s/it]"
     ]
    },
    {
     "name": "stdout",
     "output_type": "stream",
     "text": [
      "88: Pohang University of Science And Technology (POSTECH)\n"
     ]
    },
    {
     "name": "stderr",
     "output_type": "stream",
     "text": [
      " 88%|███████████████████████████████████████████████████████████████████████▎         | 88/100 [12:57<01:39,  8.28s/it]"
     ]
    },
    {
     "name": "stdout",
     "output_type": "stream",
     "text": [
      "89: University of Science and Technology of China\n"
     ]
    },
    {
     "name": "stderr",
     "output_type": "stream",
     "text": [
      " 89%|████████████████████████████████████████████████████████████████████████         | 89/100 [13:03<01:24,  7.68s/it]"
     ]
    },
    {
     "name": "stdout",
     "output_type": "stream",
     "text": [
      "90: University of North Carolina, Chapel Hill\n"
     ]
    },
    {
     "name": "stderr",
     "output_type": "stream",
     "text": [
      " 90%|████████████████████████████████████████████████████████████████████████▉        | 90/100 [13:11<01:19,  7.91s/it]"
     ]
    },
    {
     "name": "stdout",
     "output_type": "stream",
     "text": [
      "91: The Hong Kong Polytechnic University\n"
     ]
    },
    {
     "name": "stderr",
     "output_type": "stream",
     "text": [
      " 91%|█████████████████████████████████████████████████████████████████████████▋       | 91/100 [13:19<01:11,  7.93s/it]"
     ]
    },
    {
     "name": "stdout",
     "output_type": "stream",
     "text": [
      "92: Lund University\n"
     ]
    },
    {
     "name": "stderr",
     "output_type": "stream",
     "text": [
      " 92%|██████████████████████████████████████████████████████████████████████████▌      | 92/100 [13:27<01:01,  7.67s/it]"
     ]
    },
    {
     "name": "stdout",
     "output_type": "stream",
     "text": [
      "93: Pennsylvania State University\n"
     ]
    },
    {
     "name": "stderr",
     "output_type": "stream",
     "text": [
      " 93%|███████████████████████████████████████████████████████████████████████████▎     | 93/100 [13:33<00:51,  7.34s/it]"
     ]
    },
    {
     "name": "stdout",
     "output_type": "stream",
     "text": [
      "94: University of Leeds\n"
     ]
    },
    {
     "name": "stderr",
     "output_type": "stream",
     "text": [
      " 94%|████████████████████████████████████████████████████████████████████████████▏    | 94/100 [13:42<00:46,  7.71s/it]"
     ]
    },
    {
     "name": "stdout",
     "output_type": "stream",
     "text": [
      "95: Sungkyunkwan University(SKKU)\n"
     ]
    },
    {
     "name": "stderr",
     "output_type": "stream",
     "text": [
      " 95%|████████████████████████████████████████████████████████████████████████████▉    | 95/100 [13:48<00:37,  7.42s/it]"
     ]
    },
    {
     "name": "stdout",
     "output_type": "stream",
     "text": [
      "96: University of Nottingham\n"
     ]
    },
    {
     "name": "stderr",
     "output_type": "stream",
     "text": [
      " 96%|█████████████████████████████████████████████████████████████████████████████▊   | 96/100 [13:58<00:32,  8.07s/it]"
     ]
    },
    {
     "name": "stdout",
     "output_type": "stream",
     "text": [
      "97: University of Southampton\n"
     ]
    },
    {
     "name": "stderr",
     "output_type": "stream",
     "text": [
      " 97%|██████████████████████████████████████████████████████████████████████████████▌  | 97/100 [14:06<00:24,  8.00s/it]"
     ]
    },
    {
     "name": "stdout",
     "output_type": "stream",
     "text": [
      "98: Boston University\n"
     ]
    },
    {
     "name": "stderr",
     "output_type": "stream",
     "text": [
      " 98%|███████████████████████████████████████████████████████████████████████████████▍ | 98/100 [14:14<00:15,  7.99s/it]"
     ]
    },
    {
     "name": "stdout",
     "output_type": "stream",
     "text": [
      "99: KTH Royal Institute of Technology\n"
     ]
    },
    {
     "name": "stderr",
     "output_type": "stream",
     "text": [
      " 99%|████████████████████████████████████████████████████████████████████████████████▏| 99/100 [14:21<00:07,  7.79s/it]"
     ]
    },
    {
     "name": "stdout",
     "output_type": "stream",
     "text": [
      "100: University of St Andrews\n"
     ]
    },
    {
     "name": "stderr",
     "output_type": "stream",
     "text": [
      "100%|████████████████████████████████████████████████████████████████████████████████| 100/100 [14:28<00:00,  8.69s/it]\n"
     ]
    }
   ],
   "source": [
    "driver = webdriver.Chrome() #options = option)\n",
    "driver.get(url)\n",
    "\n",
    "wait = WebDriverWait(driver, 20)\n",
    "wait.until(EC.visibility_of_all_elements_located((By.CSS_SELECTOR, tableCSSselector)))\n",
    "print('ready ro scrape.')\n",
    "\n",
    "driver.execute_script(\"window.scrollTo(0, 2100)\")\n",
    "\n",
    "time.sleep(1)\n",
    "\n",
    "cursor = driver.find_element_by_css_selector(clickPerPageCSSselector)\n",
    "cursor.click()\n",
    "time.sleep(2)\n",
    "\n",
    "cursor = driver.find_element_by_css_selector(click100CSSselector)\n",
    "cursor.click()\n",
    "time.sleep(5)\n",
    "\n",
    "print('Top 100 institutions shown')\n",
    "\n",
    "soup = BeautifulSoup(driver.page_source, 'html5lib')\n",
    "\n",
    "QSurl = 'https://www.topuniversities.com'\n",
    "\n",
    "uniName = []\n",
    "uniLink = []\n",
    "for i in soup.findAll('a', class_='title'):\n",
    "    uniName.append(i.text)\n",
    "    uniLink.append(i.get('href'))\n",
    "\n",
    "mapCanvasXpath = '//*[@id=\"scene\"]/div[3]/canvas'\n",
    "whatsHereCSSselector = '#action-menu > ul > li:nth-child(3)'\n",
    "LatLonCSSselector = '#reveal-card > div > div.widget-reveal-card-container > button.link-like.widget-reveal-card-lat-lng'\n",
    "\n",
    "uniLocList = []\n",
    "LatLonList = []\n",
    "\n",
    "for i in tqdm(range(len(uniName))):\n",
    "    try:\n",
    "        urlUni = QSurl + uniLink[i]\n",
    "        driver.get(urlUni)\n",
    "    \n",
    "        soupUni = BeautifulSoup(driver.page_source, 'html5lib')\n",
    "    \n",
    "        uniLocRaw = soupUni.select_one('.location')\n",
    "        if uniLocRaw == None:\n",
    "            locCSSselectorAltern = '#block-system-main > div > div.basic-pro > div.lead_section > header > div.container > div.title_info > div.location'\n",
    "            uniLocRaw = soupUni.select_one(locCSSselectorAltern)\n",
    "\n",
    "        uniLoc = re.findall('(?!\\n).+', uniLocRaw.text)[0]\n",
    "        uniLoc = uniLoc[:uniLoc.find(' View')]\n",
    "    \n",
    "#     urlUniLoc = uniLoc.find('a').get('href')\n",
    "#     gmapAPI = urlUniLoc[urlUniLoc.find('//')+2:]\n",
    "    \n",
    "#     driver.get('https://' + gmapAPI)\n",
    "    \n",
    "#     wait = WebDriverWait(driver, 30)\n",
    "#     wait.until(EC.visibility_of_all_elements_located((By.XPATH, mapCanvasXpath)))\n",
    "    \n",
    "#     action = ActionChains(driver)\n",
    "#     action.move_to_element(driver.find_element_by_xpath(mapCanvasXpath)).perform()\n",
    "#     action.context_click().perform()\n",
    "#     time.sleep(2)\n",
    "    \n",
    "#     cursor = driver.find_element_by_css_selector(whatsHereCSSselector)\n",
    "#     cursor.click()\n",
    "#     time.sleep(2)\n",
    "    \n",
    "#     soupGmaps = BeautifulSoup(driver.page_source, 'html5lib')\n",
    "\n",
    "#     LatLon = soupGmaps.select_one(LatLonCSSselector).get('aria-label')\n",
    "#     LatLon = list(map(float, LatLon.split(', ')))\n",
    "    \n",
    "        uniLocList.append(uniLoc)\n",
    "#     LatLonList.append(LatLon)\n",
    "        \n",
    "        print(str(i+1) + ': ' + uniName[i])\n",
    "        time.sleep(1)\n",
    "    except:\n",
    "        print('Error occured when scraping ' + uniName[i])\n",
    "        PrintException()\n",
    "        print('Continue to the next iteration.')\n",
    "        uniLocList.append('')\n",
    "        continue\n",
    "    \n",
    "driver.close()"
   ]
  },
  {
   "cell_type": "code",
   "execution_count": 23,
   "metadata": {},
   "outputs": [],
   "source": [
    "uniCountryList = []\n",
    "uniAddressList = []\n",
    "uniCityList = []\n",
    "\n",
    "for j in uniLocList:\n",
    "    try:\n",
    "        uniCountry = re.findall('(?<=,\\s)\\w+(?:$|\\s\\w+$)', j)[0]\n",
    "        uniAddress = re.findall('.+(?=,.+$)', j)[0]\n",
    "        uniCity = re.findall('\\w+(?=,\\s\\w+(?:$|\\s\\w+$))', j)[0]\n",
    "    except:\n",
    "        if 'Hong Kong' in j:\n",
    "            uniCity = 'Hong Kong S.A.R.'\n",
    "        elif '' in j:\n",
    "            uniCountry = ''\n",
    "            uniAddress = ''\n",
    "            uniCity = ''\n",
    "    \n",
    "    if 'City' in uniCity:\n",
    "        uniCity = 'Kyoto'\n",
    "    elif 'York' in uniCity:\n",
    "        uniCity = 'New York'\n",
    "    elif 'Haven' in uniCity:\n",
    "        uniCity = 'New Haven'\n",
    "    elif 'Angeles' in uniCity:\n",
    "        uniCity = 'Los Angeles'\n",
    "    elif 'Jolla' in uniCity:\n",
    "        uniCity = 'La Jolla'\n",
    "    elif 'Lumpur' in uniCity:\n",
    "        uniCity = 'Kuala Lumpur'\n",
    "    elif 'Aires' in uniCity:\n",
    "        uniCity = 'Buenos Aires'\n",
    "    elif 'Hill' in uniCity:\n",
    "        uniCity = 'Chapel Hill'\n",
    "    elif 'Park' in uniCity:\n",
    "        uniCity = 'University Park'\n",
    "    elif 'Andrews' in uniCity:\n",
    "        uniCity = 'St. Andrews'\n",
    "    \n",
    "    uniCountryList.append(uniCountry)\n",
    "    uniAddressList.append(uniAddress)\n",
    "    uniCityList.append(uniCity)"
   ]
  },
  {
   "cell_type": "code",
   "execution_count": 29,
   "metadata": {},
   "outputs": [
    {
     "data": {
      "text/plain": [
       "'St. Andrews'"
      ]
     },
     "execution_count": 29,
     "metadata": {},
     "output_type": "execute_result"
    }
   ],
   "source": [
    "uniCity"
   ]
  },
  {
   "cell_type": "code",
   "execution_count": 32,
   "metadata": {},
   "outputs": [],
   "source": [
    "dataUni = [uniName, uniCityList, uniCountryList, uniLocList]\n",
    "df = pd.DataFrame(dataUni).T\n",
    "df.columns = ['Institution Name','City/Town','Country','Address']"
   ]
  },
  {
   "cell_type": "code",
   "execution_count": 33,
   "metadata": {},
   "outputs": [
    {
     "data": {
      "text/html": [
       "<div>\n",
       "<style scoped>\n",
       "    .dataframe tbody tr th:only-of-type {\n",
       "        vertical-align: middle;\n",
       "    }\n",
       "\n",
       "    .dataframe tbody tr th {\n",
       "        vertical-align: top;\n",
       "    }\n",
       "\n",
       "    .dataframe thead th {\n",
       "        text-align: right;\n",
       "    }\n",
       "</style>\n",
       "<table border=\"1\" class=\"dataframe\">\n",
       "  <thead>\n",
       "    <tr style=\"text-align: right;\">\n",
       "      <th></th>\n",
       "      <th>Institution Name</th>\n",
       "      <th>City/Town</th>\n",
       "      <th>Country</th>\n",
       "      <th>Address</th>\n",
       "    </tr>\n",
       "  </thead>\n",
       "  <tbody>\n",
       "    <tr>\n",
       "      <th>0</th>\n",
       "      <td>Massachusetts Institute of Technology (MIT)</td>\n",
       "      <td>Cambridge</td>\n",
       "      <td>United States</td>\n",
       "      <td>77 Massachusetts Avenue Cambridge, United States</td>\n",
       "    </tr>\n",
       "    <tr>\n",
       "      <th>1</th>\n",
       "      <td>Stanford University</td>\n",
       "      <td>Stanford</td>\n",
       "      <td>United States</td>\n",
       "      <td>450 Serra Mall Stanford, United States</td>\n",
       "    </tr>\n",
       "    <tr>\n",
       "      <th>2</th>\n",
       "      <td>Harvard University</td>\n",
       "      <td>Cambridge</td>\n",
       "      <td>United States</td>\n",
       "      <td>1350 Massachusetts Avenue Cambridge, United St...</td>\n",
       "    </tr>\n",
       "    <tr>\n",
       "      <th>3</th>\n",
       "      <td>University of Oxford</td>\n",
       "      <td>Oxford</td>\n",
       "      <td>United Kingdom</td>\n",
       "      <td>Wellington Square Oxford, United Kingdom</td>\n",
       "    </tr>\n",
       "    <tr>\n",
       "      <th>4</th>\n",
       "      <td>California Institute of Technology (Caltech)</td>\n",
       "      <td>Pasadena</td>\n",
       "      <td>United States</td>\n",
       "      <td>1200 East California Boulevard Pasadena, Unite...</td>\n",
       "    </tr>\n",
       "    <tr>\n",
       "      <th>5</th>\n",
       "      <td>ETH Zurich - Swiss Federal Institute of Techno...</td>\n",
       "      <td>Zürich</td>\n",
       "      <td>Switzerland</td>\n",
       "      <td>Raemistrasse 101 Zürich, Switzerland</td>\n",
       "    </tr>\n",
       "    <tr>\n",
       "      <th>6</th>\n",
       "      <td>University of Cambridge</td>\n",
       "      <td>Cambridge</td>\n",
       "      <td>United Kingdom</td>\n",
       "      <td>The Old Schools, Trinity Lane Cambridge, Unite...</td>\n",
       "    </tr>\n",
       "    <tr>\n",
       "      <th>7</th>\n",
       "      <td>UCL</td>\n",
       "      <td>London</td>\n",
       "      <td>United Kingdom</td>\n",
       "      <td>University College London, Gower Street London...</td>\n",
       "    </tr>\n",
       "    <tr>\n",
       "      <th>8</th>\n",
       "      <td>Imperial College London</td>\n",
       "      <td>London</td>\n",
       "      <td>United Kingdom</td>\n",
       "      <td>South Kensington London, United Kingdom</td>\n",
       "    </tr>\n",
       "    <tr>\n",
       "      <th>9</th>\n",
       "      <td>University of Chicago</td>\n",
       "      <td>Chicago</td>\n",
       "      <td>United States</td>\n",
       "      <td>Edward H. Levi Hall, 5801 South Ellis Avenue C...</td>\n",
       "    </tr>\n",
       "    <tr>\n",
       "      <th>10</th>\n",
       "      <td>Nanyang Technological University, Singapore (NTU)</td>\n",
       "      <td>Singapore</td>\n",
       "      <td>Singapore</td>\n",
       "      <td>50 Nanyang Avenue Singapore, Singapore</td>\n",
       "    </tr>\n",
       "    <tr>\n",
       "      <th>11</th>\n",
       "      <td>National University of Singapore (NUS)</td>\n",
       "      <td>Singapore</td>\n",
       "      <td>Singapore</td>\n",
       "      <td>21 Lower Kent Ridge Road Singapore, Singapore</td>\n",
       "    </tr>\n",
       "    <tr>\n",
       "      <th>12</th>\n",
       "      <td>Princeton University</td>\n",
       "      <td>Princeton</td>\n",
       "      <td>United States</td>\n",
       "      <td>Princeton University Princeton, United States</td>\n",
       "    </tr>\n",
       "    <tr>\n",
       "      <th>13</th>\n",
       "      <td>Cornell University</td>\n",
       "      <td>Ithaca</td>\n",
       "      <td>United States</td>\n",
       "      <td>144 East Avenue Ithaca, United States</td>\n",
       "    </tr>\n",
       "    <tr>\n",
       "      <th>14</th>\n",
       "      <td>University of Pennsylvania</td>\n",
       "      <td>Philadelphia</td>\n",
       "      <td>United States</td>\n",
       "      <td>University of Pennsylvania Philadelphia, Unite...</td>\n",
       "    </tr>\n",
       "    <tr>\n",
       "      <th>15</th>\n",
       "      <td>Tsinghua University</td>\n",
       "      <td>Beijing</td>\n",
       "      <td>China</td>\n",
       "      <td>30 Shuangqing Rd Beijing, China</td>\n",
       "    </tr>\n",
       "    <tr>\n",
       "      <th>16</th>\n",
       "      <td>Yale University</td>\n",
       "      <td>New Haven</td>\n",
       "      <td>United States</td>\n",
       "      <td>Yale University New Haven, United States</td>\n",
       "    </tr>\n",
       "    <tr>\n",
       "      <th>17</th>\n",
       "      <td>Columbia University</td>\n",
       "      <td>New York</td>\n",
       "      <td>United States</td>\n",
       "      <td>Columbia University 116th Street &amp; Broadway Ne...</td>\n",
       "    </tr>\n",
       "    <tr>\n",
       "      <th>18</th>\n",
       "      <td>EPFL</td>\n",
       "      <td>Lausanne</td>\n",
       "      <td>Switzerland</td>\n",
       "      <td>Ecole Polytechnique Federale de Lausanne Lausa...</td>\n",
       "    </tr>\n",
       "    <tr>\n",
       "      <th>19</th>\n",
       "      <td>The University of Edinburgh</td>\n",
       "      <td>Edinburgh</td>\n",
       "      <td>United Kingdom</td>\n",
       "      <td>University of Edinburgh, Old College South Bri...</td>\n",
       "    </tr>\n",
       "    <tr>\n",
       "      <th>20</th>\n",
       "      <td>University of Michigan-Ann Arbor</td>\n",
       "      <td>Arbor</td>\n",
       "      <td>United States</td>\n",
       "      <td>G-664 Haven Hall, 505 South State Street Ann A...</td>\n",
       "    </tr>\n",
       "    <tr>\n",
       "      <th>21</th>\n",
       "      <td>Peking University</td>\n",
       "      <td>Beijing</td>\n",
       "      <td>China</td>\n",
       "      <td>No. 5 Yiheyuan Road Haidian District Beijing, ...</td>\n",
       "    </tr>\n",
       "    <tr>\n",
       "      <th>22</th>\n",
       "      <td>The University of Tokyo</td>\n",
       "      <td>Tokyo</td>\n",
       "      <td>Japan</td>\n",
       "      <td>7-3-1 Hongo Tokyo, Japan</td>\n",
       "    </tr>\n",
       "    <tr>\n",
       "      <th>23</th>\n",
       "      <td>Johns Hopkins University</td>\n",
       "      <td>Baltimore</td>\n",
       "      <td>United States</td>\n",
       "      <td>Johns Hopkins University Baltimore, United States</td>\n",
       "    </tr>\n",
       "    <tr>\n",
       "      <th>24</th>\n",
       "      <td>Duke University</td>\n",
       "      <td>Durham</td>\n",
       "      <td>United States</td>\n",
       "      <td>2138 Campus Drive Box 90586 Durham, United States</td>\n",
       "    </tr>\n",
       "    <tr>\n",
       "      <th>25</th>\n",
       "      <td>The University of Hong Kong</td>\n",
       "      <td>Hong Kong S.A.R.</td>\n",
       "      <td>China</td>\n",
       "      <td>Main Building, Pokfulam Road, Pokfulam Pok Fu ...</td>\n",
       "    </tr>\n",
       "    <tr>\n",
       "      <th>26</th>\n",
       "      <td>The University of Manchester</td>\n",
       "      <td>Manchester</td>\n",
       "      <td>United Kingdom</td>\n",
       "      <td>The University of Manchester, Oxford Road Manc...</td>\n",
       "    </tr>\n",
       "    <tr>\n",
       "      <th>27</th>\n",
       "      <td>University of California, Berkeley (UCB)</td>\n",
       "      <td>Berkeley</td>\n",
       "      <td>United States</td>\n",
       "      <td>Campanile Way Berkeley, United States</td>\n",
       "    </tr>\n",
       "    <tr>\n",
       "      <th>28</th>\n",
       "      <td>The Australian National University</td>\n",
       "      <td>Canberra</td>\n",
       "      <td>Australia</td>\n",
       "      <td>The Australian National University Canberra, A...</td>\n",
       "    </tr>\n",
       "    <tr>\n",
       "      <th>29</th>\n",
       "      <td>University of Toronto</td>\n",
       "      <td>Toronto</td>\n",
       "      <td>Canada</td>\n",
       "      <td>27 King's College Circle Toronto, Ontario Toro...</td>\n",
       "    </tr>\n",
       "    <tr>\n",
       "      <th>30</th>\n",
       "      <td>Northwestern University</td>\n",
       "      <td>Evanston</td>\n",
       "      <td>United States</td>\n",
       "      <td>1841 Sheridan Road Evanston, United States</td>\n",
       "    </tr>\n",
       "    <tr>\n",
       "      <th>31</th>\n",
       "      <td>The Hong Kong University of Science and Techno...</td>\n",
       "      <td>Hong Kong S.A.R.</td>\n",
       "      <td>China</td>\n",
       "      <td>Clear Water Bay Kowloon, Hong Kong S.A.R., China</td>\n",
       "    </tr>\n",
       "    <tr>\n",
       "      <th>32</th>\n",
       "      <td>King's College London</td>\n",
       "      <td>London</td>\n",
       "      <td>United Kingdom</td>\n",
       "      <td>The Strand London, United Kingdom</td>\n",
       "    </tr>\n",
       "    <tr>\n",
       "      <th>33</th>\n",
       "      <td>Kyoto University</td>\n",
       "      <td>Kyoto</td>\n",
       "      <td>Japan</td>\n",
       "      <td>Yoshida-Honmachi Sakyo-ku Kyoto City, Japan</td>\n",
       "    </tr>\n",
       "    <tr>\n",
       "      <th>34</th>\n",
       "      <td>McGill University</td>\n",
       "      <td>Montreal</td>\n",
       "      <td>Canada</td>\n",
       "      <td>3415 McTavish Street Montreal, Canada</td>\n",
       "    </tr>\n",
       "    <tr>\n",
       "      <th>35</th>\n",
       "      <td>University of California, Los Angeles (UCLA)</td>\n",
       "      <td>Los Angeles</td>\n",
       "      <td>United States</td>\n",
       "      <td>405 Hilgard Avenue Los Angeles, United States</td>\n",
       "    </tr>\n",
       "    <tr>\n",
       "      <th>36</th>\n",
       "      <td>Seoul National University</td>\n",
       "      <td>Seoul</td>\n",
       "      <td>South Korea</td>\n",
       "      <td>1 Gwanak-ro Gwanak-gu Seoul, South Korea</td>\n",
       "    </tr>\n",
       "    <tr>\n",
       "      <th>37</th>\n",
       "      <td>The University of Melbourne</td>\n",
       "      <td>University Park</td>\n",
       "      <td>Australia</td>\n",
       "      <td>Grattan Street Parkville, Australia</td>\n",
       "    </tr>\n",
       "    <tr>\n",
       "      <th>38</th>\n",
       "      <td>New York University (NYU)</td>\n",
       "      <td>New York</td>\n",
       "      <td>United States</td>\n",
       "      <td>New York University (NYU) New York, United States</td>\n",
       "    </tr>\n",
       "    <tr>\n",
       "      <th>39</th>\n",
       "      <td>Fudan University</td>\n",
       "      <td>Shanghai</td>\n",
       "      <td>China</td>\n",
       "      <td>220 Handan Road, Yang Pu Shanghai, China</td>\n",
       "    </tr>\n",
       "    <tr>\n",
       "      <th>40</th>\n",
       "      <td>KAIST - Korea Advanced Institute of Science &amp; ...</td>\n",
       "      <td>Daejeon</td>\n",
       "      <td>South Korea</td>\n",
       "      <td>373-1 Guseong-dong Daejeon, South Korea</td>\n",
       "    </tr>\n",
       "    <tr>\n",
       "      <th>41</th>\n",
       "      <td>The University of Sydney</td>\n",
       "      <td>Sydney</td>\n",
       "      <td>Australia</td>\n",
       "      <td>Camperdown Sydney, Australia</td>\n",
       "    </tr>\n",
       "    <tr>\n",
       "      <th>42</th>\n",
       "      <td>The University of New South Wales (UNSW Sydney)</td>\n",
       "      <td>Sydney</td>\n",
       "      <td>Australia</td>\n",
       "      <td>High St Kensington, Sydney, Australia</td>\n",
       "    </tr>\n",
       "    <tr>\n",
       "      <th>43</th>\n",
       "      <td>The London School of Economics and Political S...</td>\n",
       "      <td>London</td>\n",
       "      <td>United Kingdom</td>\n",
       "      <td>Houghton Street London, United Kingdom</td>\n",
       "    </tr>\n",
       "    <tr>\n",
       "      <th>44</th>\n",
       "      <td>University of California, San Diego (UCSD)</td>\n",
       "      <td>La Jolla</td>\n",
       "      <td>United States</td>\n",
       "      <td>9500 Gilman Drive La Jolla, United States</td>\n",
       "    </tr>\n",
       "    <tr>\n",
       "      <th>45</th>\n",
       "      <td>The Chinese University of Hong Kong (CUHK)</td>\n",
       "      <td>Hong Kong S.A.R.</td>\n",
       "      <td>China</td>\n",
       "      <td>The Chinese University of Hong Kong Sha Tin, H...</td>\n",
       "    </tr>\n",
       "    <tr>\n",
       "      <th>46</th>\n",
       "      <td>The University of Queensland</td>\n",
       "      <td>Brisbane</td>\n",
       "      <td>Australia</td>\n",
       "      <td>JD Story Building, Level 2, University of Quee...</td>\n",
       "    </tr>\n",
       "    <tr>\n",
       "      <th>47</th>\n",
       "      <td>Carnegie Mellon University</td>\n",
       "      <td>Pittsburgh</td>\n",
       "      <td>United States</td>\n",
       "      <td>5000 Forbes Avenue Pittsburgh, United States</td>\n",
       "    </tr>\n",
       "    <tr>\n",
       "      <th>48</th>\n",
       "      <td>University of Bristol</td>\n",
       "      <td>Bristol</td>\n",
       "      <td>United Kingdom</td>\n",
       "      <td>Beacon House, Queens Road Bristol, United Kingdom</td>\n",
       "    </tr>\n",
       "    <tr>\n",
       "      <th>49</th>\n",
       "      <td>Delft University of Technology</td>\n",
       "      <td>Delft</td>\n",
       "      <td>Netherlands</td>\n",
       "      <td>2628 CN Stevinweg 1 Delft, Netherlands</td>\n",
       "    </tr>\n",
       "    <tr>\n",
       "      <th>50</th>\n",
       "      <td>University of British Columbia</td>\n",
       "      <td>Vancouver</td>\n",
       "      <td>Canada</td>\n",
       "      <td>2329 West Mall Vancouver, Canada</td>\n",
       "    </tr>\n",
       "    <tr>\n",
       "      <th>51</th>\n",
       "      <td>City University of Hong Kong</td>\n",
       "      <td>Hong Kong S.A.R.</td>\n",
       "      <td>China</td>\n",
       "      <td>83 Tat Chee Ave Kowloon Tong Kowloon, Hong Kon...</td>\n",
       "    </tr>\n",
       "    <tr>\n",
       "      <th>52</th>\n",
       "      <td>Université PSL</td>\n",
       "      <td></td>\n",
       "      <td></td>\n",
       "      <td></td>\n",
       "    </tr>\n",
       "    <tr>\n",
       "      <th>53</th>\n",
       "      <td>Zhejiang University</td>\n",
       "      <td>Hangzhou</td>\n",
       "      <td>China</td>\n",
       "      <td>866 Yuhangtang Road West Lake District Hangzho...</td>\n",
       "    </tr>\n",
       "    <tr>\n",
       "      <th>54</th>\n",
       "      <td>Technical University of Munich</td>\n",
       "      <td>Munich</td>\n",
       "      <td>Germany</td>\n",
       "      <td>Technical University of Munich, Arcisstraße 21...</td>\n",
       "    </tr>\n",
       "    <tr>\n",
       "      <th>55</th>\n",
       "      <td>University of Wisconsin-Madison</td>\n",
       "      <td>Madison</td>\n",
       "      <td>United States</td>\n",
       "      <td>University of Wisconsin-Madison Madison, Unite...</td>\n",
       "    </tr>\n",
       "    <tr>\n",
       "      <th>56</th>\n",
       "      <td>Brown University</td>\n",
       "      <td>Providence</td>\n",
       "      <td>United States</td>\n",
       "      <td>Brown University Providence, United States</td>\n",
       "    </tr>\n",
       "    <tr>\n",
       "      <th>57</th>\n",
       "      <td>Monash University</td>\n",
       "      <td>Melbourne</td>\n",
       "      <td>Australia</td>\n",
       "      <td>Wellington Rd &amp; Blackburn Rd Clayton Melbourne...</td>\n",
       "    </tr>\n",
       "    <tr>\n",
       "      <th>58</th>\n",
       "      <td>Tokyo Institute of Technology (Tokyo Tech)</td>\n",
       "      <td>Tokyo</td>\n",
       "      <td>Japan</td>\n",
       "      <td>2-12-1 Ookayama Meguro-ku Tokyo, Japan</td>\n",
       "    </tr>\n",
       "    <tr>\n",
       "      <th>59</th>\n",
       "      <td>Ecole Polytechnique</td>\n",
       "      <td>Palaiseau</td>\n",
       "      <td>France</td>\n",
       "      <td>Route de Saclay Palaiseau, France</td>\n",
       "    </tr>\n",
       "    <tr>\n",
       "      <th>60</th>\n",
       "      <td>Shanghai Jiao Tong University</td>\n",
       "      <td>Shanghai</td>\n",
       "      <td>China</td>\n",
       "      <td>800 Dong Chuan Road Shanghai, China</td>\n",
       "    </tr>\n",
       "    <tr>\n",
       "      <th>61</th>\n",
       "      <td>The University of Warwick</td>\n",
       "      <td>Coventry</td>\n",
       "      <td>United Kingdom</td>\n",
       "      <td>Coventry, United Kingdom</td>\n",
       "    </tr>\n",
       "    <tr>\n",
       "      <th>62</th>\n",
       "      <td>Ludwig-Maximilians-Universität München</td>\n",
       "      <td>München</td>\n",
       "      <td>Germany</td>\n",
       "      <td>Geschwister-Scholl Platz 1 München, Germany</td>\n",
       "    </tr>\n",
       "    <tr>\n",
       "      <th>63</th>\n",
       "      <td>University of Amsterdam</td>\n",
       "      <td>Amsterdam</td>\n",
       "      <td>Netherlands</td>\n",
       "      <td>Roeterseiland, REC-E Roetersstraat 11 Amsterda...</td>\n",
       "    </tr>\n",
       "    <tr>\n",
       "      <th>64</th>\n",
       "      <td>University of Texas at Austin</td>\n",
       "      <td>Austin</td>\n",
       "      <td>United States</td>\n",
       "      <td>University of Texas at Austin Austin, United S...</td>\n",
       "    </tr>\n",
       "    <tr>\n",
       "      <th>65</th>\n",
       "      <td>Ruprecht-Karls-Universität Heidelberg</td>\n",
       "      <td>Heidelberg</td>\n",
       "      <td>Germany</td>\n",
       "      <td>Grabengasse 1 Heidelberg, Germany</td>\n",
       "    </tr>\n",
       "    <tr>\n",
       "      <th>66</th>\n",
       "      <td>University of Glasgow</td>\n",
       "      <td>Glasgow</td>\n",
       "      <td>United Kingdom</td>\n",
       "      <td>University Avenue Glasgow, United Kingdom</td>\n",
       "    </tr>\n",
       "    <tr>\n",
       "      <th>67</th>\n",
       "      <td>University of Washington</td>\n",
       "      <td>Seattle</td>\n",
       "      <td>United States</td>\n",
       "      <td>University of Washington Seattle, United States</td>\n",
       "    </tr>\n",
       "    <tr>\n",
       "      <th>68</th>\n",
       "      <td>National Taiwan University (NTU)</td>\n",
       "      <td>Taipei</td>\n",
       "      <td>Taiwan</td>\n",
       "      <td>No.1, Sec. 4, Roosevelt Road, Taipei, Taiwan</td>\n",
       "    </tr>\n",
       "    <tr>\n",
       "      <th>69</th>\n",
       "      <td>Universiti Malaya (UM)</td>\n",
       "      <td>Kuala Lumpur</td>\n",
       "      <td>Malaysia</td>\n",
       "      <td>Universiti Malaya Jalan Universiti Kuala Lumpu...</td>\n",
       "    </tr>\n",
       "    <tr>\n",
       "      <th>70</th>\n",
       "      <td>Osaka University</td>\n",
       "      <td>Osaka</td>\n",
       "      <td>Japan</td>\n",
       "      <td>1-1 Yamadaoka, Suita Osaka, Japan</td>\n",
       "    </tr>\n",
       "    <tr>\n",
       "      <th>71</th>\n",
       "      <td>Georgia Institute of Technology</td>\n",
       "      <td>Atlanta</td>\n",
       "      <td>United States</td>\n",
       "      <td>North Avenue Atlanta, United States</td>\n",
       "    </tr>\n",
       "    <tr>\n",
       "      <th>72</th>\n",
       "      <td>Universidad de Buenos Aires (UBA)</td>\n",
       "      <td>Buenos Aires</td>\n",
       "      <td>Argentina</td>\n",
       "      <td>Viamonte 430 Buenos Aires, Argentina</td>\n",
       "    </tr>\n",
       "    <tr>\n",
       "      <th>73</th>\n",
       "      <td>University of Illinois at Urbana-Champaign</td>\n",
       "      <td>Champaign</td>\n",
       "      <td>United States</td>\n",
       "      <td>901 West Illinois Street Champaign, United States</td>\n",
       "    </tr>\n",
       "    <tr>\n",
       "      <th>74</th>\n",
       "      <td>University of Zurich</td>\n",
       "      <td>Zürich</td>\n",
       "      <td>Switzerland</td>\n",
       "      <td>Rämistrasse 71 Zürich, Switzerland</td>\n",
       "    </tr>\n",
       "    <tr>\n",
       "      <th>75</th>\n",
       "      <td>Sorbonne University</td>\n",
       "      <td></td>\n",
       "      <td></td>\n",
       "      <td></td>\n",
       "    </tr>\n",
       "    <tr>\n",
       "      <th>76</th>\n",
       "      <td>Durham University</td>\n",
       "      <td>Durham</td>\n",
       "      <td>United Kingdom</td>\n",
       "      <td>The University Office The Palatine Centre Durh...</td>\n",
       "    </tr>\n",
       "    <tr>\n",
       "      <th>77</th>\n",
       "      <td>The University of Sheffield</td>\n",
       "      <td>Sheffield</td>\n",
       "      <td>United Kingdom</td>\n",
       "      <td>Western Bank Sheffield, United Kingdom</td>\n",
       "    </tr>\n",
       "    <tr>\n",
       "      <th>78</th>\n",
       "      <td>KU Leuven</td>\n",
       "      <td>Leuven</td>\n",
       "      <td>Belgium</td>\n",
       "      <td>Oude Markt 13 Leuven, Belgium</td>\n",
       "    </tr>\n",
       "    <tr>\n",
       "      <th>79</th>\n",
       "      <td>University of Birmingham</td>\n",
       "      <td>Birmingham</td>\n",
       "      <td>United Kingdom</td>\n",
       "      <td>Edgbaston Birmingham, United Kingdom</td>\n",
       "    </tr>\n",
       "    <tr>\n",
       "      <th>80</th>\n",
       "      <td>University of Copenhagen</td>\n",
       "      <td>Copenhagen</td>\n",
       "      <td>Denmark</td>\n",
       "      <td>Nørregade 10 Copenhagen, Denmark</td>\n",
       "    </tr>\n",
       "    <tr>\n",
       "      <th>81</th>\n",
       "      <td>Tohoku University</td>\n",
       "      <td>Sendai</td>\n",
       "      <td>Japan</td>\n",
       "      <td>2-1-1 Katahira, Aoba-ku Sendai, Japan</td>\n",
       "    </tr>\n",
       "    <tr>\n",
       "      <th>82</th>\n",
       "      <td>Korea University</td>\n",
       "      <td>Seoul</td>\n",
       "      <td>South Korea</td>\n",
       "      <td>145 Anam-Ro, Seongbuk-Gu Seoul, South Korea</td>\n",
       "    </tr>\n",
       "    <tr>\n",
       "      <th>83</th>\n",
       "      <td>The University of Auckland</td>\n",
       "      <td>Auckland</td>\n",
       "      <td>New Zealand</td>\n",
       "      <td>Auckland CBD Auckland, New Zealand</td>\n",
       "    </tr>\n",
       "    <tr>\n",
       "      <th>84</th>\n",
       "      <td>Lomonosov Moscow State University</td>\n",
       "      <td>Moscow</td>\n",
       "      <td>Russia</td>\n",
       "      <td>GSP-1, Leninskie Gory Moscow, Russia</td>\n",
       "    </tr>\n",
       "    <tr>\n",
       "      <th>85</th>\n",
       "      <td>Rice University</td>\n",
       "      <td>Houston</td>\n",
       "      <td>United States</td>\n",
       "      <td>6100 Main Street Houston, United States</td>\n",
       "    </tr>\n",
       "    <tr>\n",
       "      <th>86</th>\n",
       "      <td>The University of Western Australia</td>\n",
       "      <td>Perth</td>\n",
       "      <td>Australia</td>\n",
       "      <td>35 Stirling Highway Crawley Perth, Australia</td>\n",
       "    </tr>\n",
       "    <tr>\n",
       "      <th>87</th>\n",
       "      <td>Pohang University of Science And Technology (P...</td>\n",
       "      <td>Pohang</td>\n",
       "      <td>South Korea</td>\n",
       "      <td>77 Cheongam-Ro Nam-Gu Pohang, South Korea</td>\n",
       "    </tr>\n",
       "    <tr>\n",
       "      <th>88</th>\n",
       "      <td>University of Science and Technology of China</td>\n",
       "      <td>Hefei</td>\n",
       "      <td>China</td>\n",
       "      <td>No. 96?Jinzhai Road Hefei, China</td>\n",
       "    </tr>\n",
       "    <tr>\n",
       "      <th>89</th>\n",
       "      <td>University of North Carolina, Chapel Hill</td>\n",
       "      <td>Chapel Hill</td>\n",
       "      <td>United States</td>\n",
       "      <td>CB #2200, Jackson Hall Chapel Hill, United States</td>\n",
       "    </tr>\n",
       "    <tr>\n",
       "      <th>90</th>\n",
       "      <td>The Hong Kong Polytechnic University</td>\n",
       "      <td>Hong Kong S.A.R.</td>\n",
       "      <td>China</td>\n",
       "      <td>11號 Yuk Choi Rd Hung Hom Kowloon, Hong Kong S....</td>\n",
       "    </tr>\n",
       "    <tr>\n",
       "      <th>91</th>\n",
       "      <td>Lund University</td>\n",
       "      <td>Lund</td>\n",
       "      <td>Sweden</td>\n",
       "      <td>Paradisgatan 2 Lund, Sweden</td>\n",
       "    </tr>\n",
       "    <tr>\n",
       "      <th>92</th>\n",
       "      <td>Pennsylvania State University</td>\n",
       "      <td>University Park</td>\n",
       "      <td>United States</td>\n",
       "      <td>State College University Park, United States</td>\n",
       "    </tr>\n",
       "    <tr>\n",
       "      <th>93</th>\n",
       "      <td>University of Leeds</td>\n",
       "      <td>Leeds</td>\n",
       "      <td>United Kingdom</td>\n",
       "      <td>Leeds, United Kingdom</td>\n",
       "    </tr>\n",
       "    <tr>\n",
       "      <th>94</th>\n",
       "      <td>Sungkyunkwan University(SKKU)</td>\n",
       "      <td>Suwon</td>\n",
       "      <td>South Korea</td>\n",
       "      <td>2066 Seobu-ro Jangan-gu Suwon, South Korea</td>\n",
       "    </tr>\n",
       "    <tr>\n",
       "      <th>95</th>\n",
       "      <td>University of Nottingham</td>\n",
       "      <td>Nottingham</td>\n",
       "      <td>United Kingdom</td>\n",
       "      <td>University Park Nottingham, United Kingdom</td>\n",
       "    </tr>\n",
       "    <tr>\n",
       "      <th>96</th>\n",
       "      <td>University of Southampton</td>\n",
       "      <td>Southampton</td>\n",
       "      <td>United Kingdom</td>\n",
       "      <td>University Road Southampton, United Kingdom</td>\n",
       "    </tr>\n",
       "    <tr>\n",
       "      <th>97</th>\n",
       "      <td>Boston University</td>\n",
       "      <td>Boston</td>\n",
       "      <td>United States</td>\n",
       "      <td>One Silber Way Boston, United States</td>\n",
       "    </tr>\n",
       "    <tr>\n",
       "      <th>98</th>\n",
       "      <td>KTH Royal Institute of Technology</td>\n",
       "      <td>Stockholm</td>\n",
       "      <td>Sweden</td>\n",
       "      <td>Brinellvägen 8 Stockholm, Sweden</td>\n",
       "    </tr>\n",
       "    <tr>\n",
       "      <th>99</th>\n",
       "      <td>University of St Andrews</td>\n",
       "      <td>St. Andrews</td>\n",
       "      <td>United Kingdom</td>\n",
       "      <td>University of St Andrews St. Andrews, United K...</td>\n",
       "    </tr>\n",
       "  </tbody>\n",
       "</table>\n",
       "</div>"
      ],
      "text/plain": [
       "                                     Institution Name         City/Town  \\\n",
       "0         Massachusetts Institute of Technology (MIT)         Cambridge   \n",
       "1                                 Stanford University          Stanford   \n",
       "2                                  Harvard University         Cambridge   \n",
       "3                                University of Oxford            Oxford   \n",
       "4        California Institute of Technology (Caltech)          Pasadena   \n",
       "5   ETH Zurich - Swiss Federal Institute of Techno...            Zürich   \n",
       "6                             University of Cambridge         Cambridge   \n",
       "7                                                 UCL            London   \n",
       "8                             Imperial College London            London   \n",
       "9                               University of Chicago           Chicago   \n",
       "10  Nanyang Technological University, Singapore (NTU)         Singapore   \n",
       "11             National University of Singapore (NUS)         Singapore   \n",
       "12                               Princeton University         Princeton   \n",
       "13                                 Cornell University            Ithaca   \n",
       "14                         University of Pennsylvania      Philadelphia   \n",
       "15                                Tsinghua University           Beijing   \n",
       "16                                    Yale University         New Haven   \n",
       "17                                Columbia University          New York   \n",
       "18                                               EPFL          Lausanne   \n",
       "19                        The University of Edinburgh         Edinburgh   \n",
       "20                   University of Michigan-Ann Arbor             Arbor   \n",
       "21                                  Peking University           Beijing   \n",
       "22                            The University of Tokyo             Tokyo   \n",
       "23                           Johns Hopkins University         Baltimore   \n",
       "24                                    Duke University            Durham   \n",
       "25                        The University of Hong Kong  Hong Kong S.A.R.   \n",
       "26                       The University of Manchester        Manchester   \n",
       "27           University of California, Berkeley (UCB)          Berkeley   \n",
       "28                 The Australian National University          Canberra   \n",
       "29                              University of Toronto           Toronto   \n",
       "30                            Northwestern University          Evanston   \n",
       "31  The Hong Kong University of Science and Techno...  Hong Kong S.A.R.   \n",
       "32                              King's College London            London   \n",
       "33                                   Kyoto University             Kyoto   \n",
       "34                                  McGill University          Montreal   \n",
       "35       University of California, Los Angeles (UCLA)       Los Angeles   \n",
       "36                          Seoul National University             Seoul   \n",
       "37                        The University of Melbourne   University Park   \n",
       "38                          New York University (NYU)          New York   \n",
       "39                                   Fudan University          Shanghai   \n",
       "40  KAIST - Korea Advanced Institute of Science & ...           Daejeon   \n",
       "41                           The University of Sydney            Sydney   \n",
       "42    The University of New South Wales (UNSW Sydney)            Sydney   \n",
       "43  The London School of Economics and Political S...            London   \n",
       "44         University of California, San Diego (UCSD)          La Jolla   \n",
       "45         The Chinese University of Hong Kong (CUHK)  Hong Kong S.A.R.   \n",
       "46                       The University of Queensland          Brisbane   \n",
       "47                         Carnegie Mellon University        Pittsburgh   \n",
       "48                              University of Bristol           Bristol   \n",
       "49                     Delft University of Technology             Delft   \n",
       "50                     University of British Columbia         Vancouver   \n",
       "51                       City University of Hong Kong  Hong Kong S.A.R.   \n",
       "52                                     Université PSL                     \n",
       "53                                Zhejiang University          Hangzhou   \n",
       "54                     Technical University of Munich            Munich   \n",
       "55                    University of Wisconsin-Madison           Madison   \n",
       "56                                   Brown University        Providence   \n",
       "57                                  Monash University         Melbourne   \n",
       "58         Tokyo Institute of Technology (Tokyo Tech)             Tokyo   \n",
       "59                                Ecole Polytechnique         Palaiseau   \n",
       "60                      Shanghai Jiao Tong University          Shanghai   \n",
       "61                          The University of Warwick          Coventry   \n",
       "62             Ludwig-Maximilians-Universität München           München   \n",
       "63                            University of Amsterdam         Amsterdam   \n",
       "64                      University of Texas at Austin            Austin   \n",
       "65              Ruprecht-Karls-Universität Heidelberg        Heidelberg   \n",
       "66                              University of Glasgow           Glasgow   \n",
       "67                           University of Washington           Seattle   \n",
       "68                   National Taiwan University (NTU)            Taipei   \n",
       "69                             Universiti Malaya (UM)      Kuala Lumpur   \n",
       "70                                   Osaka University             Osaka   \n",
       "71                    Georgia Institute of Technology           Atlanta   \n",
       "72                  Universidad de Buenos Aires (UBA)      Buenos Aires   \n",
       "73         University of Illinois at Urbana-Champaign         Champaign   \n",
       "74                               University of Zurich            Zürich   \n",
       "75                                Sorbonne University                     \n",
       "76                                  Durham University            Durham   \n",
       "77                        The University of Sheffield         Sheffield   \n",
       "78                                          KU Leuven            Leuven   \n",
       "79                           University of Birmingham        Birmingham   \n",
       "80                           University of Copenhagen        Copenhagen   \n",
       "81                                  Tohoku University            Sendai   \n",
       "82                                   Korea University             Seoul   \n",
       "83                         The University of Auckland          Auckland   \n",
       "84                  Lomonosov Moscow State University            Moscow   \n",
       "85                                    Rice University           Houston   \n",
       "86                The University of Western Australia             Perth   \n",
       "87  Pohang University of Science And Technology (P...            Pohang   \n",
       "88      University of Science and Technology of China             Hefei   \n",
       "89          University of North Carolina, Chapel Hill       Chapel Hill   \n",
       "90               The Hong Kong Polytechnic University  Hong Kong S.A.R.   \n",
       "91                                    Lund University              Lund   \n",
       "92                      Pennsylvania State University   University Park   \n",
       "93                                University of Leeds             Leeds   \n",
       "94                      Sungkyunkwan University(SKKU)             Suwon   \n",
       "95                           University of Nottingham        Nottingham   \n",
       "96                          University of Southampton       Southampton   \n",
       "97                                  Boston University            Boston   \n",
       "98                  KTH Royal Institute of Technology         Stockholm   \n",
       "99                           University of St Andrews       St. Andrews   \n",
       "\n",
       "           Country                                            Address  \n",
       "0    United States   77 Massachusetts Avenue Cambridge, United States  \n",
       "1    United States             450 Serra Mall Stanford, United States  \n",
       "2    United States  1350 Massachusetts Avenue Cambridge, United St...  \n",
       "3   United Kingdom           Wellington Square Oxford, United Kingdom  \n",
       "4    United States  1200 East California Boulevard Pasadena, Unite...  \n",
       "5      Switzerland               Raemistrasse 101 Zürich, Switzerland  \n",
       "6   United Kingdom  The Old Schools, Trinity Lane Cambridge, Unite...  \n",
       "7   United Kingdom  University College London, Gower Street London...  \n",
       "8   United Kingdom            South Kensington London, United Kingdom  \n",
       "9    United States  Edward H. Levi Hall, 5801 South Ellis Avenue C...  \n",
       "10       Singapore             50 Nanyang Avenue Singapore, Singapore  \n",
       "11       Singapore      21 Lower Kent Ridge Road Singapore, Singapore  \n",
       "12   United States      Princeton University Princeton, United States  \n",
       "13   United States              144 East Avenue Ithaca, United States  \n",
       "14   United States  University of Pennsylvania Philadelphia, Unite...  \n",
       "15           China                    30 Shuangqing Rd Beijing, China  \n",
       "16   United States           Yale University New Haven, United States  \n",
       "17   United States  Columbia University 116th Street & Broadway Ne...  \n",
       "18     Switzerland  Ecole Polytechnique Federale de Lausanne Lausa...  \n",
       "19  United Kingdom  University of Edinburgh, Old College South Bri...  \n",
       "20   United States  G-664 Haven Hall, 505 South State Street Ann A...  \n",
       "21           China  No. 5 Yiheyuan Road Haidian District Beijing, ...  \n",
       "22           Japan                           7-3-1 Hongo Tokyo, Japan  \n",
       "23   United States  Johns Hopkins University Baltimore, United States  \n",
       "24   United States  2138 Campus Drive Box 90586 Durham, United States  \n",
       "25           China  Main Building, Pokfulam Road, Pokfulam Pok Fu ...  \n",
       "26  United Kingdom  The University of Manchester, Oxford Road Manc...  \n",
       "27   United States              Campanile Way Berkeley, United States  \n",
       "28       Australia  The Australian National University Canberra, A...  \n",
       "29          Canada  27 King's College Circle Toronto, Ontario Toro...  \n",
       "30   United States         1841 Sheridan Road Evanston, United States  \n",
       "31           China   Clear Water Bay Kowloon, Hong Kong S.A.R., China  \n",
       "32  United Kingdom                  The Strand London, United Kingdom  \n",
       "33           Japan        Yoshida-Honmachi Sakyo-ku Kyoto City, Japan  \n",
       "34          Canada              3415 McTavish Street Montreal, Canada  \n",
       "35   United States      405 Hilgard Avenue Los Angeles, United States  \n",
       "36     South Korea           1 Gwanak-ro Gwanak-gu Seoul, South Korea  \n",
       "37       Australia                Grattan Street Parkville, Australia  \n",
       "38   United States  New York University (NYU) New York, United States  \n",
       "39           China           220 Handan Road, Yang Pu Shanghai, China  \n",
       "40     South Korea            373-1 Guseong-dong Daejeon, South Korea  \n",
       "41       Australia                       Camperdown Sydney, Australia  \n",
       "42       Australia              High St Kensington, Sydney, Australia  \n",
       "43  United Kingdom             Houghton Street London, United Kingdom  \n",
       "44   United States          9500 Gilman Drive La Jolla, United States  \n",
       "45           China  The Chinese University of Hong Kong Sha Tin, H...  \n",
       "46       Australia  JD Story Building, Level 2, University of Quee...  \n",
       "47   United States       5000 Forbes Avenue Pittsburgh, United States  \n",
       "48  United Kingdom  Beacon House, Queens Road Bristol, United Kingdom  \n",
       "49     Netherlands             2628 CN Stevinweg 1 Delft, Netherlands  \n",
       "50          Canada                   2329 West Mall Vancouver, Canada  \n",
       "51           China  83 Tat Chee Ave Kowloon Tong Kowloon, Hong Kon...  \n",
       "52                                                                     \n",
       "53           China  866 Yuhangtang Road West Lake District Hangzho...  \n",
       "54         Germany  Technical University of Munich, Arcisstraße 21...  \n",
       "55   United States  University of Wisconsin-Madison Madison, Unite...  \n",
       "56   United States         Brown University Providence, United States  \n",
       "57       Australia  Wellington Rd & Blackburn Rd Clayton Melbourne...  \n",
       "58           Japan             2-12-1 Ookayama Meguro-ku Tokyo, Japan  \n",
       "59          France                  Route de Saclay Palaiseau, France  \n",
       "60           China                800 Dong Chuan Road Shanghai, China  \n",
       "61  United Kingdom                           Coventry, United Kingdom  \n",
       "62         Germany        Geschwister-Scholl Platz 1 München, Germany  \n",
       "63     Netherlands  Roeterseiland, REC-E Roetersstraat 11 Amsterda...  \n",
       "64   United States  University of Texas at Austin Austin, United S...  \n",
       "65         Germany                  Grabengasse 1 Heidelberg, Germany  \n",
       "66  United Kingdom          University Avenue Glasgow, United Kingdom  \n",
       "67   United States    University of Washington Seattle, United States  \n",
       "68          Taiwan       No.1, Sec. 4, Roosevelt Road, Taipei, Taiwan  \n",
       "69        Malaysia  Universiti Malaya Jalan Universiti Kuala Lumpu...  \n",
       "70           Japan                  1-1 Yamadaoka, Suita Osaka, Japan  \n",
       "71   United States                North Avenue Atlanta, United States  \n",
       "72       Argentina               Viamonte 430 Buenos Aires, Argentina  \n",
       "73   United States  901 West Illinois Street Champaign, United States  \n",
       "74     Switzerland                 Rämistrasse 71 Zürich, Switzerland  \n",
       "75                                                                     \n",
       "76  United Kingdom  The University Office The Palatine Centre Durh...  \n",
       "77  United Kingdom             Western Bank Sheffield, United Kingdom  \n",
       "78         Belgium                      Oude Markt 13 Leuven, Belgium  \n",
       "79  United Kingdom               Edgbaston Birmingham, United Kingdom  \n",
       "80         Denmark                   Nørregade 10 Copenhagen, Denmark  \n",
       "81           Japan              2-1-1 Katahira, Aoba-ku Sendai, Japan  \n",
       "82     South Korea        145 Anam-Ro, Seongbuk-Gu Seoul, South Korea  \n",
       "83     New Zealand                 Auckland CBD Auckland, New Zealand  \n",
       "84          Russia               GSP-1, Leninskie Gory Moscow, Russia  \n",
       "85   United States            6100 Main Street Houston, United States  \n",
       "86       Australia       35 Stirling Highway Crawley Perth, Australia  \n",
       "87     South Korea          77 Cheongam-Ro Nam-Gu Pohang, South Korea  \n",
       "88           China                   No. 96?Jinzhai Road Hefei, China  \n",
       "89   United States  CB #2200, Jackson Hall Chapel Hill, United States  \n",
       "90           China  11號 Yuk Choi Rd Hung Hom Kowloon, Hong Kong S....  \n",
       "91          Sweden                        Paradisgatan 2 Lund, Sweden  \n",
       "92   United States       State College University Park, United States  \n",
       "93  United Kingdom                              Leeds, United Kingdom  \n",
       "94     South Korea         2066 Seobu-ro Jangan-gu Suwon, South Korea  \n",
       "95  United Kingdom         University Park Nottingham, United Kingdom  \n",
       "96  United Kingdom        University Road Southampton, United Kingdom  \n",
       "97   United States               One Silber Way Boston, United States  \n",
       "98          Sweden                   Brinellvägen 8 Stockholm, Sweden  \n",
       "99  United Kingdom  University of St Andrews St. Andrews, United K...  "
      ]
     },
     "execution_count": 33,
     "metadata": {},
     "output_type": "execute_result"
    }
   ],
   "source": [
    "df"
   ]
  },
  {
   "cell_type": "markdown",
   "metadata": {},
   "source": [
    "Get the locations of Univeristé PSL and Sorbonne University from Times Higher Education."
   ]
  },
  {
   "cell_type": "code",
   "execution_count": 34,
   "metadata": {},
   "outputs": [],
   "source": [
    "UPSLloc = '60 rue Mazarine, Paris, 75006, France'\n",
    "SorbonneLoc = \"21 Rue de l'Ecole-de-Medecine, Paris, 75006, France\""
   ]
  },
  {
   "cell_type": "code",
   "execution_count": 43,
   "metadata": {},
   "outputs": [],
   "source": [
    "df.loc[df['Institution Name'] == 'Université PSL', ['City/Town','Country','Address']] = ['Paris','France',UPSLloc]\n",
    "df.loc[df['Institution Name'] == 'Sorbonne University', ['City/Town','Country','Address']] = ['Paris','France',SorbonneLoc]"
   ]
  },
  {
   "cell_type": "code",
   "execution_count": 44,
   "metadata": {},
   "outputs": [
    {
     "data": {
      "text/html": [
       "<div>\n",
       "<style scoped>\n",
       "    .dataframe tbody tr th:only-of-type {\n",
       "        vertical-align: middle;\n",
       "    }\n",
       "\n",
       "    .dataframe tbody tr th {\n",
       "        vertical-align: top;\n",
       "    }\n",
       "\n",
       "    .dataframe thead th {\n",
       "        text-align: right;\n",
       "    }\n",
       "</style>\n",
       "<table border=\"1\" class=\"dataframe\">\n",
       "  <thead>\n",
       "    <tr style=\"text-align: right;\">\n",
       "      <th></th>\n",
       "      <th>Institution Name</th>\n",
       "      <th>City/Town</th>\n",
       "      <th>Country</th>\n",
       "      <th>Address</th>\n",
       "    </tr>\n",
       "  </thead>\n",
       "  <tbody>\n",
       "    <tr>\n",
       "      <th>0</th>\n",
       "      <td>Massachusetts Institute of Technology (MIT)</td>\n",
       "      <td>Cambridge</td>\n",
       "      <td>United States</td>\n",
       "      <td>77 Massachusetts Avenue Cambridge, United States</td>\n",
       "    </tr>\n",
       "    <tr>\n",
       "      <th>1</th>\n",
       "      <td>Stanford University</td>\n",
       "      <td>Stanford</td>\n",
       "      <td>United States</td>\n",
       "      <td>450 Serra Mall Stanford, United States</td>\n",
       "    </tr>\n",
       "    <tr>\n",
       "      <th>2</th>\n",
       "      <td>Harvard University</td>\n",
       "      <td>Cambridge</td>\n",
       "      <td>United States</td>\n",
       "      <td>1350 Massachusetts Avenue Cambridge, United St...</td>\n",
       "    </tr>\n",
       "    <tr>\n",
       "      <th>3</th>\n",
       "      <td>University of Oxford</td>\n",
       "      <td>Oxford</td>\n",
       "      <td>United Kingdom</td>\n",
       "      <td>Wellington Square Oxford, United Kingdom</td>\n",
       "    </tr>\n",
       "    <tr>\n",
       "      <th>4</th>\n",
       "      <td>California Institute of Technology (Caltech)</td>\n",
       "      <td>Pasadena</td>\n",
       "      <td>United States</td>\n",
       "      <td>1200 East California Boulevard Pasadena, Unite...</td>\n",
       "    </tr>\n",
       "    <tr>\n",
       "      <th>5</th>\n",
       "      <td>ETH Zurich - Swiss Federal Institute of Techno...</td>\n",
       "      <td>Zürich</td>\n",
       "      <td>Switzerland</td>\n",
       "      <td>Raemistrasse 101 Zürich, Switzerland</td>\n",
       "    </tr>\n",
       "    <tr>\n",
       "      <th>6</th>\n",
       "      <td>University of Cambridge</td>\n",
       "      <td>Cambridge</td>\n",
       "      <td>United Kingdom</td>\n",
       "      <td>The Old Schools, Trinity Lane Cambridge, Unite...</td>\n",
       "    </tr>\n",
       "    <tr>\n",
       "      <th>7</th>\n",
       "      <td>UCL</td>\n",
       "      <td>London</td>\n",
       "      <td>United Kingdom</td>\n",
       "      <td>University College London, Gower Street London...</td>\n",
       "    </tr>\n",
       "    <tr>\n",
       "      <th>8</th>\n",
       "      <td>Imperial College London</td>\n",
       "      <td>London</td>\n",
       "      <td>United Kingdom</td>\n",
       "      <td>South Kensington London, United Kingdom</td>\n",
       "    </tr>\n",
       "    <tr>\n",
       "      <th>9</th>\n",
       "      <td>University of Chicago</td>\n",
       "      <td>Chicago</td>\n",
       "      <td>United States</td>\n",
       "      <td>Edward H. Levi Hall, 5801 South Ellis Avenue C...</td>\n",
       "    </tr>\n",
       "    <tr>\n",
       "      <th>10</th>\n",
       "      <td>Nanyang Technological University, Singapore (NTU)</td>\n",
       "      <td>Singapore</td>\n",
       "      <td>Singapore</td>\n",
       "      <td>50 Nanyang Avenue Singapore, Singapore</td>\n",
       "    </tr>\n",
       "    <tr>\n",
       "      <th>11</th>\n",
       "      <td>National University of Singapore (NUS)</td>\n",
       "      <td>Singapore</td>\n",
       "      <td>Singapore</td>\n",
       "      <td>21 Lower Kent Ridge Road Singapore, Singapore</td>\n",
       "    </tr>\n",
       "    <tr>\n",
       "      <th>12</th>\n",
       "      <td>Princeton University</td>\n",
       "      <td>Princeton</td>\n",
       "      <td>United States</td>\n",
       "      <td>Princeton University Princeton, United States</td>\n",
       "    </tr>\n",
       "    <tr>\n",
       "      <th>13</th>\n",
       "      <td>Cornell University</td>\n",
       "      <td>Ithaca</td>\n",
       "      <td>United States</td>\n",
       "      <td>144 East Avenue Ithaca, United States</td>\n",
       "    </tr>\n",
       "    <tr>\n",
       "      <th>14</th>\n",
       "      <td>University of Pennsylvania</td>\n",
       "      <td>Philadelphia</td>\n",
       "      <td>United States</td>\n",
       "      <td>University of Pennsylvania Philadelphia, Unite...</td>\n",
       "    </tr>\n",
       "    <tr>\n",
       "      <th>15</th>\n",
       "      <td>Tsinghua University</td>\n",
       "      <td>Beijing</td>\n",
       "      <td>China</td>\n",
       "      <td>30 Shuangqing Rd Beijing, China</td>\n",
       "    </tr>\n",
       "    <tr>\n",
       "      <th>16</th>\n",
       "      <td>Yale University</td>\n",
       "      <td>New Haven</td>\n",
       "      <td>United States</td>\n",
       "      <td>Yale University New Haven, United States</td>\n",
       "    </tr>\n",
       "    <tr>\n",
       "      <th>17</th>\n",
       "      <td>Columbia University</td>\n",
       "      <td>New York</td>\n",
       "      <td>United States</td>\n",
       "      <td>Columbia University 116th Street &amp; Broadway Ne...</td>\n",
       "    </tr>\n",
       "    <tr>\n",
       "      <th>18</th>\n",
       "      <td>EPFL</td>\n",
       "      <td>Lausanne</td>\n",
       "      <td>Switzerland</td>\n",
       "      <td>Ecole Polytechnique Federale de Lausanne Lausa...</td>\n",
       "    </tr>\n",
       "    <tr>\n",
       "      <th>19</th>\n",
       "      <td>The University of Edinburgh</td>\n",
       "      <td>Edinburgh</td>\n",
       "      <td>United Kingdom</td>\n",
       "      <td>University of Edinburgh, Old College South Bri...</td>\n",
       "    </tr>\n",
       "    <tr>\n",
       "      <th>20</th>\n",
       "      <td>University of Michigan-Ann Arbor</td>\n",
       "      <td>Arbor</td>\n",
       "      <td>United States</td>\n",
       "      <td>G-664 Haven Hall, 505 South State Street Ann A...</td>\n",
       "    </tr>\n",
       "    <tr>\n",
       "      <th>21</th>\n",
       "      <td>Peking University</td>\n",
       "      <td>Beijing</td>\n",
       "      <td>China</td>\n",
       "      <td>No. 5 Yiheyuan Road Haidian District Beijing, ...</td>\n",
       "    </tr>\n",
       "    <tr>\n",
       "      <th>22</th>\n",
       "      <td>The University of Tokyo</td>\n",
       "      <td>Tokyo</td>\n",
       "      <td>Japan</td>\n",
       "      <td>7-3-1 Hongo Tokyo, Japan</td>\n",
       "    </tr>\n",
       "    <tr>\n",
       "      <th>23</th>\n",
       "      <td>Johns Hopkins University</td>\n",
       "      <td>Baltimore</td>\n",
       "      <td>United States</td>\n",
       "      <td>Johns Hopkins University Baltimore, United States</td>\n",
       "    </tr>\n",
       "    <tr>\n",
       "      <th>24</th>\n",
       "      <td>Duke University</td>\n",
       "      <td>Durham</td>\n",
       "      <td>United States</td>\n",
       "      <td>2138 Campus Drive Box 90586 Durham, United States</td>\n",
       "    </tr>\n",
       "    <tr>\n",
       "      <th>25</th>\n",
       "      <td>The University of Hong Kong</td>\n",
       "      <td>Hong Kong S.A.R.</td>\n",
       "      <td>China</td>\n",
       "      <td>Main Building, Pokfulam Road, Pokfulam Pok Fu ...</td>\n",
       "    </tr>\n",
       "    <tr>\n",
       "      <th>26</th>\n",
       "      <td>The University of Manchester</td>\n",
       "      <td>Manchester</td>\n",
       "      <td>United Kingdom</td>\n",
       "      <td>The University of Manchester, Oxford Road Manc...</td>\n",
       "    </tr>\n",
       "    <tr>\n",
       "      <th>27</th>\n",
       "      <td>University of California, Berkeley (UCB)</td>\n",
       "      <td>Berkeley</td>\n",
       "      <td>United States</td>\n",
       "      <td>Campanile Way Berkeley, United States</td>\n",
       "    </tr>\n",
       "    <tr>\n",
       "      <th>28</th>\n",
       "      <td>The Australian National University</td>\n",
       "      <td>Canberra</td>\n",
       "      <td>Australia</td>\n",
       "      <td>The Australian National University Canberra, A...</td>\n",
       "    </tr>\n",
       "    <tr>\n",
       "      <th>29</th>\n",
       "      <td>University of Toronto</td>\n",
       "      <td>Toronto</td>\n",
       "      <td>Canada</td>\n",
       "      <td>27 King's College Circle Toronto, Ontario Toro...</td>\n",
       "    </tr>\n",
       "    <tr>\n",
       "      <th>30</th>\n",
       "      <td>Northwestern University</td>\n",
       "      <td>Evanston</td>\n",
       "      <td>United States</td>\n",
       "      <td>1841 Sheridan Road Evanston, United States</td>\n",
       "    </tr>\n",
       "    <tr>\n",
       "      <th>31</th>\n",
       "      <td>The Hong Kong University of Science and Techno...</td>\n",
       "      <td>Hong Kong S.A.R.</td>\n",
       "      <td>China</td>\n",
       "      <td>Clear Water Bay Kowloon, Hong Kong S.A.R., China</td>\n",
       "    </tr>\n",
       "    <tr>\n",
       "      <th>32</th>\n",
       "      <td>King's College London</td>\n",
       "      <td>London</td>\n",
       "      <td>United Kingdom</td>\n",
       "      <td>The Strand London, United Kingdom</td>\n",
       "    </tr>\n",
       "    <tr>\n",
       "      <th>33</th>\n",
       "      <td>Kyoto University</td>\n",
       "      <td>Kyoto</td>\n",
       "      <td>Japan</td>\n",
       "      <td>Yoshida-Honmachi Sakyo-ku Kyoto City, Japan</td>\n",
       "    </tr>\n",
       "    <tr>\n",
       "      <th>34</th>\n",
       "      <td>McGill University</td>\n",
       "      <td>Montreal</td>\n",
       "      <td>Canada</td>\n",
       "      <td>3415 McTavish Street Montreal, Canada</td>\n",
       "    </tr>\n",
       "    <tr>\n",
       "      <th>35</th>\n",
       "      <td>University of California, Los Angeles (UCLA)</td>\n",
       "      <td>Los Angeles</td>\n",
       "      <td>United States</td>\n",
       "      <td>405 Hilgard Avenue Los Angeles, United States</td>\n",
       "    </tr>\n",
       "    <tr>\n",
       "      <th>36</th>\n",
       "      <td>Seoul National University</td>\n",
       "      <td>Seoul</td>\n",
       "      <td>South Korea</td>\n",
       "      <td>1 Gwanak-ro Gwanak-gu Seoul, South Korea</td>\n",
       "    </tr>\n",
       "    <tr>\n",
       "      <th>37</th>\n",
       "      <td>The University of Melbourne</td>\n",
       "      <td>University Park</td>\n",
       "      <td>Australia</td>\n",
       "      <td>Grattan Street Parkville, Australia</td>\n",
       "    </tr>\n",
       "    <tr>\n",
       "      <th>38</th>\n",
       "      <td>New York University (NYU)</td>\n",
       "      <td>New York</td>\n",
       "      <td>United States</td>\n",
       "      <td>New York University (NYU) New York, United States</td>\n",
       "    </tr>\n",
       "    <tr>\n",
       "      <th>39</th>\n",
       "      <td>Fudan University</td>\n",
       "      <td>Shanghai</td>\n",
       "      <td>China</td>\n",
       "      <td>220 Handan Road, Yang Pu Shanghai, China</td>\n",
       "    </tr>\n",
       "    <tr>\n",
       "      <th>40</th>\n",
       "      <td>KAIST - Korea Advanced Institute of Science &amp; ...</td>\n",
       "      <td>Daejeon</td>\n",
       "      <td>South Korea</td>\n",
       "      <td>373-1 Guseong-dong Daejeon, South Korea</td>\n",
       "    </tr>\n",
       "    <tr>\n",
       "      <th>41</th>\n",
       "      <td>The University of Sydney</td>\n",
       "      <td>Sydney</td>\n",
       "      <td>Australia</td>\n",
       "      <td>Camperdown Sydney, Australia</td>\n",
       "    </tr>\n",
       "    <tr>\n",
       "      <th>42</th>\n",
       "      <td>The University of New South Wales (UNSW Sydney)</td>\n",
       "      <td>Sydney</td>\n",
       "      <td>Australia</td>\n",
       "      <td>High St Kensington, Sydney, Australia</td>\n",
       "    </tr>\n",
       "    <tr>\n",
       "      <th>43</th>\n",
       "      <td>The London School of Economics and Political S...</td>\n",
       "      <td>London</td>\n",
       "      <td>United Kingdom</td>\n",
       "      <td>Houghton Street London, United Kingdom</td>\n",
       "    </tr>\n",
       "    <tr>\n",
       "      <th>44</th>\n",
       "      <td>University of California, San Diego (UCSD)</td>\n",
       "      <td>La Jolla</td>\n",
       "      <td>United States</td>\n",
       "      <td>9500 Gilman Drive La Jolla, United States</td>\n",
       "    </tr>\n",
       "    <tr>\n",
       "      <th>45</th>\n",
       "      <td>The Chinese University of Hong Kong (CUHK)</td>\n",
       "      <td>Hong Kong S.A.R.</td>\n",
       "      <td>China</td>\n",
       "      <td>The Chinese University of Hong Kong Sha Tin, H...</td>\n",
       "    </tr>\n",
       "    <tr>\n",
       "      <th>46</th>\n",
       "      <td>The University of Queensland</td>\n",
       "      <td>Brisbane</td>\n",
       "      <td>Australia</td>\n",
       "      <td>JD Story Building, Level 2, University of Quee...</td>\n",
       "    </tr>\n",
       "    <tr>\n",
       "      <th>47</th>\n",
       "      <td>Carnegie Mellon University</td>\n",
       "      <td>Pittsburgh</td>\n",
       "      <td>United States</td>\n",
       "      <td>5000 Forbes Avenue Pittsburgh, United States</td>\n",
       "    </tr>\n",
       "    <tr>\n",
       "      <th>48</th>\n",
       "      <td>University of Bristol</td>\n",
       "      <td>Bristol</td>\n",
       "      <td>United Kingdom</td>\n",
       "      <td>Beacon House, Queens Road Bristol, United Kingdom</td>\n",
       "    </tr>\n",
       "    <tr>\n",
       "      <th>49</th>\n",
       "      <td>Delft University of Technology</td>\n",
       "      <td>Delft</td>\n",
       "      <td>Netherlands</td>\n",
       "      <td>2628 CN Stevinweg 1 Delft, Netherlands</td>\n",
       "    </tr>\n",
       "    <tr>\n",
       "      <th>50</th>\n",
       "      <td>University of British Columbia</td>\n",
       "      <td>Vancouver</td>\n",
       "      <td>Canada</td>\n",
       "      <td>2329 West Mall Vancouver, Canada</td>\n",
       "    </tr>\n",
       "    <tr>\n",
       "      <th>51</th>\n",
       "      <td>City University of Hong Kong</td>\n",
       "      <td>Hong Kong S.A.R.</td>\n",
       "      <td>China</td>\n",
       "      <td>83 Tat Chee Ave Kowloon Tong Kowloon, Hong Kon...</td>\n",
       "    </tr>\n",
       "    <tr>\n",
       "      <th>52</th>\n",
       "      <td>Université PSL</td>\n",
       "      <td>Paris</td>\n",
       "      <td>France</td>\n",
       "      <td>60 rue Mazarine, Paris, 75006, France</td>\n",
       "    </tr>\n",
       "    <tr>\n",
       "      <th>53</th>\n",
       "      <td>Zhejiang University</td>\n",
       "      <td>Hangzhou</td>\n",
       "      <td>China</td>\n",
       "      <td>866 Yuhangtang Road West Lake District Hangzho...</td>\n",
       "    </tr>\n",
       "    <tr>\n",
       "      <th>54</th>\n",
       "      <td>Technical University of Munich</td>\n",
       "      <td>Munich</td>\n",
       "      <td>Germany</td>\n",
       "      <td>Technical University of Munich, Arcisstraße 21...</td>\n",
       "    </tr>\n",
       "    <tr>\n",
       "      <th>55</th>\n",
       "      <td>University of Wisconsin-Madison</td>\n",
       "      <td>Madison</td>\n",
       "      <td>United States</td>\n",
       "      <td>University of Wisconsin-Madison Madison, Unite...</td>\n",
       "    </tr>\n",
       "    <tr>\n",
       "      <th>56</th>\n",
       "      <td>Brown University</td>\n",
       "      <td>Providence</td>\n",
       "      <td>United States</td>\n",
       "      <td>Brown University Providence, United States</td>\n",
       "    </tr>\n",
       "    <tr>\n",
       "      <th>57</th>\n",
       "      <td>Monash University</td>\n",
       "      <td>Melbourne</td>\n",
       "      <td>Australia</td>\n",
       "      <td>Wellington Rd &amp; Blackburn Rd Clayton Melbourne...</td>\n",
       "    </tr>\n",
       "    <tr>\n",
       "      <th>58</th>\n",
       "      <td>Tokyo Institute of Technology (Tokyo Tech)</td>\n",
       "      <td>Tokyo</td>\n",
       "      <td>Japan</td>\n",
       "      <td>2-12-1 Ookayama Meguro-ku Tokyo, Japan</td>\n",
       "    </tr>\n",
       "    <tr>\n",
       "      <th>59</th>\n",
       "      <td>Ecole Polytechnique</td>\n",
       "      <td>Palaiseau</td>\n",
       "      <td>France</td>\n",
       "      <td>Route de Saclay Palaiseau, France</td>\n",
       "    </tr>\n",
       "    <tr>\n",
       "      <th>60</th>\n",
       "      <td>Shanghai Jiao Tong University</td>\n",
       "      <td>Shanghai</td>\n",
       "      <td>China</td>\n",
       "      <td>800 Dong Chuan Road Shanghai, China</td>\n",
       "    </tr>\n",
       "    <tr>\n",
       "      <th>61</th>\n",
       "      <td>The University of Warwick</td>\n",
       "      <td>Coventry</td>\n",
       "      <td>United Kingdom</td>\n",
       "      <td>Coventry, United Kingdom</td>\n",
       "    </tr>\n",
       "    <tr>\n",
       "      <th>62</th>\n",
       "      <td>Ludwig-Maximilians-Universität München</td>\n",
       "      <td>München</td>\n",
       "      <td>Germany</td>\n",
       "      <td>Geschwister-Scholl Platz 1 München, Germany</td>\n",
       "    </tr>\n",
       "    <tr>\n",
       "      <th>63</th>\n",
       "      <td>University of Amsterdam</td>\n",
       "      <td>Amsterdam</td>\n",
       "      <td>Netherlands</td>\n",
       "      <td>Roeterseiland, REC-E Roetersstraat 11 Amsterda...</td>\n",
       "    </tr>\n",
       "    <tr>\n",
       "      <th>64</th>\n",
       "      <td>University of Texas at Austin</td>\n",
       "      <td>Austin</td>\n",
       "      <td>United States</td>\n",
       "      <td>University of Texas at Austin Austin, United S...</td>\n",
       "    </tr>\n",
       "    <tr>\n",
       "      <th>65</th>\n",
       "      <td>Ruprecht-Karls-Universität Heidelberg</td>\n",
       "      <td>Heidelberg</td>\n",
       "      <td>Germany</td>\n",
       "      <td>Grabengasse 1 Heidelberg, Germany</td>\n",
       "    </tr>\n",
       "    <tr>\n",
       "      <th>66</th>\n",
       "      <td>University of Glasgow</td>\n",
       "      <td>Glasgow</td>\n",
       "      <td>United Kingdom</td>\n",
       "      <td>University Avenue Glasgow, United Kingdom</td>\n",
       "    </tr>\n",
       "    <tr>\n",
       "      <th>67</th>\n",
       "      <td>University of Washington</td>\n",
       "      <td>Seattle</td>\n",
       "      <td>United States</td>\n",
       "      <td>University of Washington Seattle, United States</td>\n",
       "    </tr>\n",
       "    <tr>\n",
       "      <th>68</th>\n",
       "      <td>National Taiwan University (NTU)</td>\n",
       "      <td>Taipei</td>\n",
       "      <td>Taiwan</td>\n",
       "      <td>No.1, Sec. 4, Roosevelt Road, Taipei, Taiwan</td>\n",
       "    </tr>\n",
       "    <tr>\n",
       "      <th>69</th>\n",
       "      <td>Universiti Malaya (UM)</td>\n",
       "      <td>Kuala Lumpur</td>\n",
       "      <td>Malaysia</td>\n",
       "      <td>Universiti Malaya Jalan Universiti Kuala Lumpu...</td>\n",
       "    </tr>\n",
       "    <tr>\n",
       "      <th>70</th>\n",
       "      <td>Osaka University</td>\n",
       "      <td>Osaka</td>\n",
       "      <td>Japan</td>\n",
       "      <td>1-1 Yamadaoka, Suita Osaka, Japan</td>\n",
       "    </tr>\n",
       "    <tr>\n",
       "      <th>71</th>\n",
       "      <td>Georgia Institute of Technology</td>\n",
       "      <td>Atlanta</td>\n",
       "      <td>United States</td>\n",
       "      <td>North Avenue Atlanta, United States</td>\n",
       "    </tr>\n",
       "    <tr>\n",
       "      <th>72</th>\n",
       "      <td>Universidad de Buenos Aires (UBA)</td>\n",
       "      <td>Buenos Aires</td>\n",
       "      <td>Argentina</td>\n",
       "      <td>Viamonte 430 Buenos Aires, Argentina</td>\n",
       "    </tr>\n",
       "    <tr>\n",
       "      <th>73</th>\n",
       "      <td>University of Illinois at Urbana-Champaign</td>\n",
       "      <td>Champaign</td>\n",
       "      <td>United States</td>\n",
       "      <td>901 West Illinois Street Champaign, United States</td>\n",
       "    </tr>\n",
       "    <tr>\n",
       "      <th>74</th>\n",
       "      <td>University of Zurich</td>\n",
       "      <td>Zürich</td>\n",
       "      <td>Switzerland</td>\n",
       "      <td>Rämistrasse 71 Zürich, Switzerland</td>\n",
       "    </tr>\n",
       "    <tr>\n",
       "      <th>75</th>\n",
       "      <td>Sorbonne University</td>\n",
       "      <td>Paris</td>\n",
       "      <td>France</td>\n",
       "      <td>21 Rue de l'Ecole-de-Medecine, Paris, 75006, F...</td>\n",
       "    </tr>\n",
       "    <tr>\n",
       "      <th>76</th>\n",
       "      <td>Durham University</td>\n",
       "      <td>Durham</td>\n",
       "      <td>United Kingdom</td>\n",
       "      <td>The University Office The Palatine Centre Durh...</td>\n",
       "    </tr>\n",
       "    <tr>\n",
       "      <th>77</th>\n",
       "      <td>The University of Sheffield</td>\n",
       "      <td>Sheffield</td>\n",
       "      <td>United Kingdom</td>\n",
       "      <td>Western Bank Sheffield, United Kingdom</td>\n",
       "    </tr>\n",
       "    <tr>\n",
       "      <th>78</th>\n",
       "      <td>KU Leuven</td>\n",
       "      <td>Leuven</td>\n",
       "      <td>Belgium</td>\n",
       "      <td>Oude Markt 13 Leuven, Belgium</td>\n",
       "    </tr>\n",
       "    <tr>\n",
       "      <th>79</th>\n",
       "      <td>University of Birmingham</td>\n",
       "      <td>Birmingham</td>\n",
       "      <td>United Kingdom</td>\n",
       "      <td>Edgbaston Birmingham, United Kingdom</td>\n",
       "    </tr>\n",
       "    <tr>\n",
       "      <th>80</th>\n",
       "      <td>University of Copenhagen</td>\n",
       "      <td>Copenhagen</td>\n",
       "      <td>Denmark</td>\n",
       "      <td>Nørregade 10 Copenhagen, Denmark</td>\n",
       "    </tr>\n",
       "    <tr>\n",
       "      <th>81</th>\n",
       "      <td>Tohoku University</td>\n",
       "      <td>Sendai</td>\n",
       "      <td>Japan</td>\n",
       "      <td>2-1-1 Katahira, Aoba-ku Sendai, Japan</td>\n",
       "    </tr>\n",
       "    <tr>\n",
       "      <th>82</th>\n",
       "      <td>Korea University</td>\n",
       "      <td>Seoul</td>\n",
       "      <td>South Korea</td>\n",
       "      <td>145 Anam-Ro, Seongbuk-Gu Seoul, South Korea</td>\n",
       "    </tr>\n",
       "    <tr>\n",
       "      <th>83</th>\n",
       "      <td>The University of Auckland</td>\n",
       "      <td>Auckland</td>\n",
       "      <td>New Zealand</td>\n",
       "      <td>Auckland CBD Auckland, New Zealand</td>\n",
       "    </tr>\n",
       "    <tr>\n",
       "      <th>84</th>\n",
       "      <td>Lomonosov Moscow State University</td>\n",
       "      <td>Moscow</td>\n",
       "      <td>Russia</td>\n",
       "      <td>GSP-1, Leninskie Gory Moscow, Russia</td>\n",
       "    </tr>\n",
       "    <tr>\n",
       "      <th>85</th>\n",
       "      <td>Rice University</td>\n",
       "      <td>Houston</td>\n",
       "      <td>United States</td>\n",
       "      <td>6100 Main Street Houston, United States</td>\n",
       "    </tr>\n",
       "    <tr>\n",
       "      <th>86</th>\n",
       "      <td>The University of Western Australia</td>\n",
       "      <td>Perth</td>\n",
       "      <td>Australia</td>\n",
       "      <td>35 Stirling Highway Crawley Perth, Australia</td>\n",
       "    </tr>\n",
       "    <tr>\n",
       "      <th>87</th>\n",
       "      <td>Pohang University of Science And Technology (P...</td>\n",
       "      <td>Pohang</td>\n",
       "      <td>South Korea</td>\n",
       "      <td>77 Cheongam-Ro Nam-Gu Pohang, South Korea</td>\n",
       "    </tr>\n",
       "    <tr>\n",
       "      <th>88</th>\n",
       "      <td>University of Science and Technology of China</td>\n",
       "      <td>Hefei</td>\n",
       "      <td>China</td>\n",
       "      <td>No. 96?Jinzhai Road Hefei, China</td>\n",
       "    </tr>\n",
       "    <tr>\n",
       "      <th>89</th>\n",
       "      <td>University of North Carolina, Chapel Hill</td>\n",
       "      <td>Chapel Hill</td>\n",
       "      <td>United States</td>\n",
       "      <td>CB #2200, Jackson Hall Chapel Hill, United States</td>\n",
       "    </tr>\n",
       "    <tr>\n",
       "      <th>90</th>\n",
       "      <td>The Hong Kong Polytechnic University</td>\n",
       "      <td>Hong Kong S.A.R.</td>\n",
       "      <td>China</td>\n",
       "      <td>11號 Yuk Choi Rd Hung Hom Kowloon, Hong Kong S....</td>\n",
       "    </tr>\n",
       "    <tr>\n",
       "      <th>91</th>\n",
       "      <td>Lund University</td>\n",
       "      <td>Lund</td>\n",
       "      <td>Sweden</td>\n",
       "      <td>Paradisgatan 2 Lund, Sweden</td>\n",
       "    </tr>\n",
       "    <tr>\n",
       "      <th>92</th>\n",
       "      <td>Pennsylvania State University</td>\n",
       "      <td>University Park</td>\n",
       "      <td>United States</td>\n",
       "      <td>State College University Park, United States</td>\n",
       "    </tr>\n",
       "    <tr>\n",
       "      <th>93</th>\n",
       "      <td>University of Leeds</td>\n",
       "      <td>Leeds</td>\n",
       "      <td>United Kingdom</td>\n",
       "      <td>Leeds, United Kingdom</td>\n",
       "    </tr>\n",
       "    <tr>\n",
       "      <th>94</th>\n",
       "      <td>Sungkyunkwan University(SKKU)</td>\n",
       "      <td>Suwon</td>\n",
       "      <td>South Korea</td>\n",
       "      <td>2066 Seobu-ro Jangan-gu Suwon, South Korea</td>\n",
       "    </tr>\n",
       "    <tr>\n",
       "      <th>95</th>\n",
       "      <td>University of Nottingham</td>\n",
       "      <td>Nottingham</td>\n",
       "      <td>United Kingdom</td>\n",
       "      <td>University Park Nottingham, United Kingdom</td>\n",
       "    </tr>\n",
       "    <tr>\n",
       "      <th>96</th>\n",
       "      <td>University of Southampton</td>\n",
       "      <td>Southampton</td>\n",
       "      <td>United Kingdom</td>\n",
       "      <td>University Road Southampton, United Kingdom</td>\n",
       "    </tr>\n",
       "    <tr>\n",
       "      <th>97</th>\n",
       "      <td>Boston University</td>\n",
       "      <td>Boston</td>\n",
       "      <td>United States</td>\n",
       "      <td>One Silber Way Boston, United States</td>\n",
       "    </tr>\n",
       "    <tr>\n",
       "      <th>98</th>\n",
       "      <td>KTH Royal Institute of Technology</td>\n",
       "      <td>Stockholm</td>\n",
       "      <td>Sweden</td>\n",
       "      <td>Brinellvägen 8 Stockholm, Sweden</td>\n",
       "    </tr>\n",
       "    <tr>\n",
       "      <th>99</th>\n",
       "      <td>University of St Andrews</td>\n",
       "      <td>St. Andrews</td>\n",
       "      <td>United Kingdom</td>\n",
       "      <td>University of St Andrews St. Andrews, United K...</td>\n",
       "    </tr>\n",
       "  </tbody>\n",
       "</table>\n",
       "</div>"
      ],
      "text/plain": [
       "                                     Institution Name         City/Town  \\\n",
       "0         Massachusetts Institute of Technology (MIT)         Cambridge   \n",
       "1                                 Stanford University          Stanford   \n",
       "2                                  Harvard University         Cambridge   \n",
       "3                                University of Oxford            Oxford   \n",
       "4        California Institute of Technology (Caltech)          Pasadena   \n",
       "5   ETH Zurich - Swiss Federal Institute of Techno...            Zürich   \n",
       "6                             University of Cambridge         Cambridge   \n",
       "7                                                 UCL            London   \n",
       "8                             Imperial College London            London   \n",
       "9                               University of Chicago           Chicago   \n",
       "10  Nanyang Technological University, Singapore (NTU)         Singapore   \n",
       "11             National University of Singapore (NUS)         Singapore   \n",
       "12                               Princeton University         Princeton   \n",
       "13                                 Cornell University            Ithaca   \n",
       "14                         University of Pennsylvania      Philadelphia   \n",
       "15                                Tsinghua University           Beijing   \n",
       "16                                    Yale University         New Haven   \n",
       "17                                Columbia University          New York   \n",
       "18                                               EPFL          Lausanne   \n",
       "19                        The University of Edinburgh         Edinburgh   \n",
       "20                   University of Michigan-Ann Arbor             Arbor   \n",
       "21                                  Peking University           Beijing   \n",
       "22                            The University of Tokyo             Tokyo   \n",
       "23                           Johns Hopkins University         Baltimore   \n",
       "24                                    Duke University            Durham   \n",
       "25                        The University of Hong Kong  Hong Kong S.A.R.   \n",
       "26                       The University of Manchester        Manchester   \n",
       "27           University of California, Berkeley (UCB)          Berkeley   \n",
       "28                 The Australian National University          Canberra   \n",
       "29                              University of Toronto           Toronto   \n",
       "30                            Northwestern University          Evanston   \n",
       "31  The Hong Kong University of Science and Techno...  Hong Kong S.A.R.   \n",
       "32                              King's College London            London   \n",
       "33                                   Kyoto University             Kyoto   \n",
       "34                                  McGill University          Montreal   \n",
       "35       University of California, Los Angeles (UCLA)       Los Angeles   \n",
       "36                          Seoul National University             Seoul   \n",
       "37                        The University of Melbourne   University Park   \n",
       "38                          New York University (NYU)          New York   \n",
       "39                                   Fudan University          Shanghai   \n",
       "40  KAIST - Korea Advanced Institute of Science & ...           Daejeon   \n",
       "41                           The University of Sydney            Sydney   \n",
       "42    The University of New South Wales (UNSW Sydney)            Sydney   \n",
       "43  The London School of Economics and Political S...            London   \n",
       "44         University of California, San Diego (UCSD)          La Jolla   \n",
       "45         The Chinese University of Hong Kong (CUHK)  Hong Kong S.A.R.   \n",
       "46                       The University of Queensland          Brisbane   \n",
       "47                         Carnegie Mellon University        Pittsburgh   \n",
       "48                              University of Bristol           Bristol   \n",
       "49                     Delft University of Technology             Delft   \n",
       "50                     University of British Columbia         Vancouver   \n",
       "51                       City University of Hong Kong  Hong Kong S.A.R.   \n",
       "52                                     Université PSL             Paris   \n",
       "53                                Zhejiang University          Hangzhou   \n",
       "54                     Technical University of Munich            Munich   \n",
       "55                    University of Wisconsin-Madison           Madison   \n",
       "56                                   Brown University        Providence   \n",
       "57                                  Monash University         Melbourne   \n",
       "58         Tokyo Institute of Technology (Tokyo Tech)             Tokyo   \n",
       "59                                Ecole Polytechnique         Palaiseau   \n",
       "60                      Shanghai Jiao Tong University          Shanghai   \n",
       "61                          The University of Warwick          Coventry   \n",
       "62             Ludwig-Maximilians-Universität München           München   \n",
       "63                            University of Amsterdam         Amsterdam   \n",
       "64                      University of Texas at Austin            Austin   \n",
       "65              Ruprecht-Karls-Universität Heidelberg        Heidelberg   \n",
       "66                              University of Glasgow           Glasgow   \n",
       "67                           University of Washington           Seattle   \n",
       "68                   National Taiwan University (NTU)            Taipei   \n",
       "69                             Universiti Malaya (UM)      Kuala Lumpur   \n",
       "70                                   Osaka University             Osaka   \n",
       "71                    Georgia Institute of Technology           Atlanta   \n",
       "72                  Universidad de Buenos Aires (UBA)      Buenos Aires   \n",
       "73         University of Illinois at Urbana-Champaign         Champaign   \n",
       "74                               University of Zurich            Zürich   \n",
       "75                                Sorbonne University             Paris   \n",
       "76                                  Durham University            Durham   \n",
       "77                        The University of Sheffield         Sheffield   \n",
       "78                                          KU Leuven            Leuven   \n",
       "79                           University of Birmingham        Birmingham   \n",
       "80                           University of Copenhagen        Copenhagen   \n",
       "81                                  Tohoku University            Sendai   \n",
       "82                                   Korea University             Seoul   \n",
       "83                         The University of Auckland          Auckland   \n",
       "84                  Lomonosov Moscow State University            Moscow   \n",
       "85                                    Rice University           Houston   \n",
       "86                The University of Western Australia             Perth   \n",
       "87  Pohang University of Science And Technology (P...            Pohang   \n",
       "88      University of Science and Technology of China             Hefei   \n",
       "89          University of North Carolina, Chapel Hill       Chapel Hill   \n",
       "90               The Hong Kong Polytechnic University  Hong Kong S.A.R.   \n",
       "91                                    Lund University              Lund   \n",
       "92                      Pennsylvania State University   University Park   \n",
       "93                                University of Leeds             Leeds   \n",
       "94                      Sungkyunkwan University(SKKU)             Suwon   \n",
       "95                           University of Nottingham        Nottingham   \n",
       "96                          University of Southampton       Southampton   \n",
       "97                                  Boston University            Boston   \n",
       "98                  KTH Royal Institute of Technology         Stockholm   \n",
       "99                           University of St Andrews       St. Andrews   \n",
       "\n",
       "           Country                                            Address  \n",
       "0    United States   77 Massachusetts Avenue Cambridge, United States  \n",
       "1    United States             450 Serra Mall Stanford, United States  \n",
       "2    United States  1350 Massachusetts Avenue Cambridge, United St...  \n",
       "3   United Kingdom           Wellington Square Oxford, United Kingdom  \n",
       "4    United States  1200 East California Boulevard Pasadena, Unite...  \n",
       "5      Switzerland               Raemistrasse 101 Zürich, Switzerland  \n",
       "6   United Kingdom  The Old Schools, Trinity Lane Cambridge, Unite...  \n",
       "7   United Kingdom  University College London, Gower Street London...  \n",
       "8   United Kingdom            South Kensington London, United Kingdom  \n",
       "9    United States  Edward H. Levi Hall, 5801 South Ellis Avenue C...  \n",
       "10       Singapore             50 Nanyang Avenue Singapore, Singapore  \n",
       "11       Singapore      21 Lower Kent Ridge Road Singapore, Singapore  \n",
       "12   United States      Princeton University Princeton, United States  \n",
       "13   United States              144 East Avenue Ithaca, United States  \n",
       "14   United States  University of Pennsylvania Philadelphia, Unite...  \n",
       "15           China                    30 Shuangqing Rd Beijing, China  \n",
       "16   United States           Yale University New Haven, United States  \n",
       "17   United States  Columbia University 116th Street & Broadway Ne...  \n",
       "18     Switzerland  Ecole Polytechnique Federale de Lausanne Lausa...  \n",
       "19  United Kingdom  University of Edinburgh, Old College South Bri...  \n",
       "20   United States  G-664 Haven Hall, 505 South State Street Ann A...  \n",
       "21           China  No. 5 Yiheyuan Road Haidian District Beijing, ...  \n",
       "22           Japan                           7-3-1 Hongo Tokyo, Japan  \n",
       "23   United States  Johns Hopkins University Baltimore, United States  \n",
       "24   United States  2138 Campus Drive Box 90586 Durham, United States  \n",
       "25           China  Main Building, Pokfulam Road, Pokfulam Pok Fu ...  \n",
       "26  United Kingdom  The University of Manchester, Oxford Road Manc...  \n",
       "27   United States              Campanile Way Berkeley, United States  \n",
       "28       Australia  The Australian National University Canberra, A...  \n",
       "29          Canada  27 King's College Circle Toronto, Ontario Toro...  \n",
       "30   United States         1841 Sheridan Road Evanston, United States  \n",
       "31           China   Clear Water Bay Kowloon, Hong Kong S.A.R., China  \n",
       "32  United Kingdom                  The Strand London, United Kingdom  \n",
       "33           Japan        Yoshida-Honmachi Sakyo-ku Kyoto City, Japan  \n",
       "34          Canada              3415 McTavish Street Montreal, Canada  \n",
       "35   United States      405 Hilgard Avenue Los Angeles, United States  \n",
       "36     South Korea           1 Gwanak-ro Gwanak-gu Seoul, South Korea  \n",
       "37       Australia                Grattan Street Parkville, Australia  \n",
       "38   United States  New York University (NYU) New York, United States  \n",
       "39           China           220 Handan Road, Yang Pu Shanghai, China  \n",
       "40     South Korea            373-1 Guseong-dong Daejeon, South Korea  \n",
       "41       Australia                       Camperdown Sydney, Australia  \n",
       "42       Australia              High St Kensington, Sydney, Australia  \n",
       "43  United Kingdom             Houghton Street London, United Kingdom  \n",
       "44   United States          9500 Gilman Drive La Jolla, United States  \n",
       "45           China  The Chinese University of Hong Kong Sha Tin, H...  \n",
       "46       Australia  JD Story Building, Level 2, University of Quee...  \n",
       "47   United States       5000 Forbes Avenue Pittsburgh, United States  \n",
       "48  United Kingdom  Beacon House, Queens Road Bristol, United Kingdom  \n",
       "49     Netherlands             2628 CN Stevinweg 1 Delft, Netherlands  \n",
       "50          Canada                   2329 West Mall Vancouver, Canada  \n",
       "51           China  83 Tat Chee Ave Kowloon Tong Kowloon, Hong Kon...  \n",
       "52          France              60 rue Mazarine, Paris, 75006, France  \n",
       "53           China  866 Yuhangtang Road West Lake District Hangzho...  \n",
       "54         Germany  Technical University of Munich, Arcisstraße 21...  \n",
       "55   United States  University of Wisconsin-Madison Madison, Unite...  \n",
       "56   United States         Brown University Providence, United States  \n",
       "57       Australia  Wellington Rd & Blackburn Rd Clayton Melbourne...  \n",
       "58           Japan             2-12-1 Ookayama Meguro-ku Tokyo, Japan  \n",
       "59          France                  Route de Saclay Palaiseau, France  \n",
       "60           China                800 Dong Chuan Road Shanghai, China  \n",
       "61  United Kingdom                           Coventry, United Kingdom  \n",
       "62         Germany        Geschwister-Scholl Platz 1 München, Germany  \n",
       "63     Netherlands  Roeterseiland, REC-E Roetersstraat 11 Amsterda...  \n",
       "64   United States  University of Texas at Austin Austin, United S...  \n",
       "65         Germany                  Grabengasse 1 Heidelberg, Germany  \n",
       "66  United Kingdom          University Avenue Glasgow, United Kingdom  \n",
       "67   United States    University of Washington Seattle, United States  \n",
       "68          Taiwan       No.1, Sec. 4, Roosevelt Road, Taipei, Taiwan  \n",
       "69        Malaysia  Universiti Malaya Jalan Universiti Kuala Lumpu...  \n",
       "70           Japan                  1-1 Yamadaoka, Suita Osaka, Japan  \n",
       "71   United States                North Avenue Atlanta, United States  \n",
       "72       Argentina               Viamonte 430 Buenos Aires, Argentina  \n",
       "73   United States  901 West Illinois Street Champaign, United States  \n",
       "74     Switzerland                 Rämistrasse 71 Zürich, Switzerland  \n",
       "75          France  21 Rue de l'Ecole-de-Medecine, Paris, 75006, F...  \n",
       "76  United Kingdom  The University Office The Palatine Centre Durh...  \n",
       "77  United Kingdom             Western Bank Sheffield, United Kingdom  \n",
       "78         Belgium                      Oude Markt 13 Leuven, Belgium  \n",
       "79  United Kingdom               Edgbaston Birmingham, United Kingdom  \n",
       "80         Denmark                   Nørregade 10 Copenhagen, Denmark  \n",
       "81           Japan              2-1-1 Katahira, Aoba-ku Sendai, Japan  \n",
       "82     South Korea        145 Anam-Ro, Seongbuk-Gu Seoul, South Korea  \n",
       "83     New Zealand                 Auckland CBD Auckland, New Zealand  \n",
       "84          Russia               GSP-1, Leninskie Gory Moscow, Russia  \n",
       "85   United States            6100 Main Street Houston, United States  \n",
       "86       Australia       35 Stirling Highway Crawley Perth, Australia  \n",
       "87     South Korea          77 Cheongam-Ro Nam-Gu Pohang, South Korea  \n",
       "88           China                   No. 96?Jinzhai Road Hefei, China  \n",
       "89   United States  CB #2200, Jackson Hall Chapel Hill, United States  \n",
       "90           China  11號 Yuk Choi Rd Hung Hom Kowloon, Hong Kong S....  \n",
       "91          Sweden                        Paradisgatan 2 Lund, Sweden  \n",
       "92   United States       State College University Park, United States  \n",
       "93  United Kingdom                              Leeds, United Kingdom  \n",
       "94     South Korea         2066 Seobu-ro Jangan-gu Suwon, South Korea  \n",
       "95  United Kingdom         University Park Nottingham, United Kingdom  \n",
       "96  United Kingdom        University Road Southampton, United Kingdom  \n",
       "97   United States               One Silber Way Boston, United States  \n",
       "98          Sweden                   Brinellvägen 8 Stockholm, Sweden  \n",
       "99  United Kingdom  University of St Andrews St. Andrews, United K...  "
      ]
     },
     "execution_count": 44,
     "metadata": {},
     "output_type": "execute_result"
    }
   ],
   "source": [
    "df"
   ]
  },
  {
   "cell_type": "code",
   "execution_count": 7,
   "metadata": {},
   "outputs": [
    {
     "data": {
      "text/plain": [
       "[42.35891737166005, -71.09346063887153]"
      ]
     },
     "execution_count": 7,
     "metadata": {},
     "output_type": "execute_result"
    }
   ],
   "source": [
    "import geocoder\n",
    "g = geocoder.arcgis('77 Massachusetts Avenue, Cambridge')\n",
    "g.latlng"
   ]
  },
  {
   "cell_type": "code",
   "execution_count": 5,
   "metadata": {},
   "outputs": [
    {
     "data": {
      "text/plain": [
       "<[ERROR - HTTPSConnectionPool(host='sgws2.maps.yahoo.com', port=443): Read timed out. (read timeout=5.0)] Yahoo - Geocode [empty]>"
      ]
     },
     "execution_count": 5,
     "metadata": {},
     "output_type": "execute_result"
    }
   ],
   "source": [
    "g"
   ]
  }
 ],
 "metadata": {
  "kernelspec": {
   "display_name": "Python 3",
   "language": "python",
   "name": "python3"
  },
  "language_info": {
   "codemirror_mode": {
    "name": "ipython",
    "version": 3
   },
   "file_extension": ".py",
   "mimetype": "text/x-python",
   "name": "python",
   "nbconvert_exporter": "python",
   "pygments_lexer": "ipython3",
   "version": "3.7.6"
  }
 },
 "nbformat": 4,
 "nbformat_minor": 4
}
