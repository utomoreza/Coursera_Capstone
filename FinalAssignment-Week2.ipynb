{
 "cells": [
  {
   "cell_type": "markdown",
   "metadata": {},
   "source": [
    "# What is around each of top 100 world-class universities?"
   ]
  },
  {
   "cell_type": "code",
   "execution_count": 1,
   "metadata": {},
   "outputs": [],
   "source": [
    "import pandas as pd\n",
    "import numpy as np\n",
    "import html5lib\n",
    "import lxml\n",
    "import re\n",
    "import requests\n",
    "import json\n",
    "from bs4 import BeautifulSoup\n",
    "from selenium import webdriver\n",
    "from selenium.webdriver import ActionChains\n",
    "from selenium.webdriver.support.ui import WebDriverWait\n",
    "from selenium.webdriver.common.by import By\n",
    "from selenium.webdriver.support import expected_conditions as EC\n",
    "import matplotlib.pyplot as plt\n",
    "import folium\n",
    "import time\n",
    "import geocoder\n",
    "from tqdm import tqdm\n",
    "import sys\n",
    "import linecache"
   ]
  },
  {
   "cell_type": "code",
   "execution_count": 2,
   "metadata": {},
   "outputs": [],
   "source": [
    "option = webdriver.ChromeOptions()\n",
    "chrome_prefs = {}\n",
    "option.experimental_options[\"prefs\"] = chrome_prefs\n",
    "option.add_argument('--headless')\n",
    "option.add_argument('--no-sandbox')\n",
    "option.add_argument('--disable-dev-shm-usage')\n",
    "chrome_prefs[\"profile.default_content_settings\"] = {\"images\": 2}\n",
    "chrome_prefs[\"profile.managed_default_content_settings\"] = {\"images\": 2}"
   ]
  },
  {
   "cell_type": "code",
   "execution_count": 3,
   "metadata": {},
   "outputs": [],
   "source": [
    "url = 'https://www.topuniversities.com/university-rankings/world-university-rankings/2020'"
   ]
  },
  {
   "cell_type": "code",
   "execution_count": 4,
   "metadata": {},
   "outputs": [],
   "source": [
    "tableCSSselector = '.quicktabs_main'\n",
    "clickPerPageCSSselector = '#qs-rankings_length > label > span.jcf-select.jcf-unselectable > span.jcf-select-opener'\n",
    "click100CSSselector = '#qs-rankings_length > label > span.jcf-select.jcf-unselectable.jcf-drop-active > div > div > span > span > ul > li:nth-child(3) > span'"
   ]
  },
  {
   "cell_type": "code",
   "execution_count": 5,
   "metadata": {},
   "outputs": [],
   "source": [
    "def PrintException():\n",
    "    exc_type, exc_obj, tb = sys.exc_info()\n",
    "    f = tb.tb_frame\n",
    "    lineno = tb.tb_lineno\n",
    "    filename = f.f_code.co_filename\n",
    "    linecache.checkcache(filename)\n",
    "    line = linecache.getline(filename, lineno, f.f_globals)\n",
    "    print('Exception in ({}, line {} \"{}\"): {}'.format(filename, lineno, line.strip(), exc_obj))"
   ]
  },
  {
   "cell_type": "code",
   "execution_count": 6,
   "metadata": {},
   "outputs": [
    {
     "name": "stdout",
     "output_type": "stream",
     "text": [
      "ready ro scrape.\n",
      "Top 100 institutions shown\n"
     ]
    },
    {
     "name": "stderr",
     "output_type": "stream",
     "text": [
      "  0%|                                                                                          | 0/100 [00:00<?, ?it/s]"
     ]
    },
    {
     "name": "stdout",
     "output_type": "stream",
     "text": [
      "1: Massachusetts Institute of Technology (MIT)\n"
     ]
    },
    {
     "name": "stderr",
     "output_type": "stream",
     "text": [
      "  1%|▊                                                                                 | 1/100 [00:06<10:14,  6.20s/it]"
     ]
    },
    {
     "name": "stdout",
     "output_type": "stream",
     "text": [
      "2: Stanford University\n"
     ]
    },
    {
     "name": "stderr",
     "output_type": "stream",
     "text": [
      "  2%|█▋                                                                                | 2/100 [00:24<16:03,  9.83s/it]"
     ]
    },
    {
     "name": "stdout",
     "output_type": "stream",
     "text": [
      "3: Harvard University\n"
     ]
    },
    {
     "name": "stderr",
     "output_type": "stream",
     "text": [
      "  3%|██▍                                                                               | 3/100 [00:37<17:35, 10.88s/it]"
     ]
    },
    {
     "name": "stdout",
     "output_type": "stream",
     "text": [
      "4: University of Oxford\n"
     ]
    },
    {
     "name": "stderr",
     "output_type": "stream",
     "text": [
      "  4%|███▎                                                                              | 4/100 [00:50<18:16, 11.42s/it]"
     ]
    },
    {
     "name": "stdout",
     "output_type": "stream",
     "text": [
      "5: California Institute of Technology (Caltech)\n"
     ]
    },
    {
     "name": "stderr",
     "output_type": "stream",
     "text": [
      "  5%|████                                                                              | 5/100 [01:02<18:18, 11.56s/it]"
     ]
    },
    {
     "name": "stdout",
     "output_type": "stream",
     "text": [
      "6: ETH Zurich - Swiss Federal Institute of Technology\n"
     ]
    },
    {
     "name": "stderr",
     "output_type": "stream",
     "text": [
      "  6%|████▉                                                                             | 6/100 [01:12<17:34, 11.22s/it]"
     ]
    },
    {
     "name": "stdout",
     "output_type": "stream",
     "text": [
      "7: University of Cambridge\n"
     ]
    },
    {
     "name": "stderr",
     "output_type": "stream",
     "text": [
      "  7%|█████▋                                                                            | 7/100 [01:24<17:46, 11.47s/it]"
     ]
    },
    {
     "name": "stdout",
     "output_type": "stream",
     "text": [
      "8: UCL\n"
     ]
    },
    {
     "name": "stderr",
     "output_type": "stream",
     "text": [
      "  8%|██████▌                                                                           | 8/100 [01:42<20:31, 13.38s/it]"
     ]
    },
    {
     "name": "stdout",
     "output_type": "stream",
     "text": [
      "9: Imperial College London\n"
     ]
    },
    {
     "name": "stderr",
     "output_type": "stream",
     "text": [
      "  9%|███████▍                                                                          | 9/100 [01:50<17:43, 11.68s/it]"
     ]
    },
    {
     "name": "stdout",
     "output_type": "stream",
     "text": [
      "10: University of Chicago\n"
     ]
    },
    {
     "name": "stderr",
     "output_type": "stream",
     "text": [
      " 10%|████████                                                                         | 10/100 [01:59<16:21, 10.90s/it]"
     ]
    },
    {
     "name": "stdout",
     "output_type": "stream",
     "text": [
      "11: Nanyang Technological University, Singapore (NTU)\n"
     ]
    },
    {
     "name": "stderr",
     "output_type": "stream",
     "text": [
      " 11%|████████▉                                                                        | 11/100 [02:10<16:20, 11.02s/it]"
     ]
    },
    {
     "name": "stdout",
     "output_type": "stream",
     "text": [
      "12: National University of Singapore (NUS)\n"
     ]
    },
    {
     "name": "stderr",
     "output_type": "stream",
     "text": [
      " 12%|█████████▋                                                                       | 12/100 [02:17<14:18,  9.75s/it]"
     ]
    },
    {
     "name": "stdout",
     "output_type": "stream",
     "text": [
      "13: Princeton University\n"
     ]
    },
    {
     "name": "stderr",
     "output_type": "stream",
     "text": [
      " 13%|██████████▌                                                                      | 13/100 [02:26<13:34,  9.36s/it]"
     ]
    },
    {
     "name": "stdout",
     "output_type": "stream",
     "text": [
      "14: Cornell University\n"
     ]
    },
    {
     "name": "stderr",
     "output_type": "stream",
     "text": [
      " 14%|███████████▎                                                                     | 14/100 [02:40<15:41, 10.95s/it]"
     ]
    },
    {
     "name": "stdout",
     "output_type": "stream",
     "text": [
      "15: University of Pennsylvania\n"
     ]
    },
    {
     "name": "stderr",
     "output_type": "stream",
     "text": [
      " 15%|████████████▏                                                                    | 15/100 [02:52<16:00, 11.30s/it]"
     ]
    },
    {
     "name": "stdout",
     "output_type": "stream",
     "text": [
      "16: Tsinghua University\n"
     ]
    },
    {
     "name": "stderr",
     "output_type": "stream",
     "text": [
      " 16%|████████████▉                                                                    | 16/100 [03:05<16:19, 11.66s/it]"
     ]
    },
    {
     "name": "stdout",
     "output_type": "stream",
     "text": [
      "17: Yale University\n"
     ]
    },
    {
     "name": "stderr",
     "output_type": "stream",
     "text": [
      " 17%|█████████████▊                                                                   | 17/100 [03:18<16:43, 12.09s/it]"
     ]
    },
    {
     "name": "stdout",
     "output_type": "stream",
     "text": [
      "18: Columbia University\n"
     ]
    },
    {
     "name": "stderr",
     "output_type": "stream",
     "text": [
      " 18%|██████████████▌                                                                  | 18/100 [03:30<16:23, 11.99s/it]"
     ]
    },
    {
     "name": "stdout",
     "output_type": "stream",
     "text": [
      "19: EPFL\n"
     ]
    },
    {
     "name": "stderr",
     "output_type": "stream",
     "text": [
      " 19%|███████████████▍                                                                 | 19/100 [03:41<15:56, 11.81s/it]"
     ]
    },
    {
     "name": "stdout",
     "output_type": "stream",
     "text": [
      "20: The University of Edinburgh\n"
     ]
    },
    {
     "name": "stderr",
     "output_type": "stream",
     "text": [
      " 20%|████████████████▏                                                                | 20/100 [03:56<16:51, 12.65s/it]"
     ]
    },
    {
     "name": "stdout",
     "output_type": "stream",
     "text": [
      "21: University of Michigan-Ann Arbor\n"
     ]
    },
    {
     "name": "stderr",
     "output_type": "stream",
     "text": [
      " 21%|█████████████████                                                                | 21/100 [04:06<15:52, 12.06s/it]"
     ]
    },
    {
     "name": "stdout",
     "output_type": "stream",
     "text": [
      "22: Peking University\n"
     ]
    },
    {
     "name": "stderr",
     "output_type": "stream",
     "text": [
      " 22%|█████████████████▊                                                               | 22/100 [04:19<15:53, 12.22s/it]"
     ]
    },
    {
     "name": "stdout",
     "output_type": "stream",
     "text": [
      "23: The University of Tokyo\n"
     ]
    },
    {
     "name": "stderr",
     "output_type": "stream",
     "text": [
      " 23%|██████████████████▋                                                              | 23/100 [04:30<15:18, 11.93s/it]"
     ]
    },
    {
     "name": "stdout",
     "output_type": "stream",
     "text": [
      "24: Johns Hopkins University\n"
     ]
    },
    {
     "name": "stderr",
     "output_type": "stream",
     "text": [
      " 24%|███████████████████▍                                                             | 24/100 [04:42<15:00, 11.85s/it]"
     ]
    },
    {
     "name": "stdout",
     "output_type": "stream",
     "text": [
      "25: Duke University\n"
     ]
    },
    {
     "name": "stderr",
     "output_type": "stream",
     "text": [
      " 25%|████████████████████▎                                                            | 25/100 [04:52<14:00, 11.20s/it]"
     ]
    },
    {
     "name": "stdout",
     "output_type": "stream",
     "text": [
      "26: The University of Hong Kong\n"
     ]
    },
    {
     "name": "stderr",
     "output_type": "stream",
     "text": [
      " 26%|█████████████████████                                                            | 26/100 [05:01<13:02, 10.58s/it]"
     ]
    },
    {
     "name": "stdout",
     "output_type": "stream",
     "text": [
      "27: The University of Manchester\n"
     ]
    },
    {
     "name": "stderr",
     "output_type": "stream",
     "text": [
      " 27%|█████████████████████▊                                                           | 27/100 [05:17<14:57, 12.29s/it]"
     ]
    },
    {
     "name": "stdout",
     "output_type": "stream",
     "text": [
      "28: University of California, Berkeley (UCB)\n"
     ]
    },
    {
     "name": "stderr",
     "output_type": "stream",
     "text": [
      " 28%|██████████████████████▋                                                          | 28/100 [05:28<14:09, 11.79s/it]"
     ]
    },
    {
     "name": "stdout",
     "output_type": "stream",
     "text": [
      "29: The Australian National University\n"
     ]
    },
    {
     "name": "stderr",
     "output_type": "stream",
     "text": [
      " 29%|███████████████████████▍                                                         | 29/100 [05:41<14:41, 12.42s/it]"
     ]
    },
    {
     "name": "stdout",
     "output_type": "stream",
     "text": [
      "30: University of Toronto\n"
     ]
    },
    {
     "name": "stderr",
     "output_type": "stream",
     "text": [
      " 30%|████████████████████████▎                                                        | 30/100 [05:52<13:46, 11.80s/it]"
     ]
    },
    {
     "name": "stdout",
     "output_type": "stream",
     "text": [
      "31: Northwestern University\n"
     ]
    },
    {
     "name": "stderr",
     "output_type": "stream",
     "text": [
      " 31%|█████████████████████████                                                        | 31/100 [06:04<13:49, 12.02s/it]"
     ]
    },
    {
     "name": "stdout",
     "output_type": "stream",
     "text": [
      "32: The Hong Kong University of Science and Technology\n"
     ]
    },
    {
     "name": "stderr",
     "output_type": "stream",
     "text": [
      " 32%|█████████████████████████▉                                                       | 32/100 [06:17<13:51, 12.22s/it]"
     ]
    },
    {
     "name": "stdout",
     "output_type": "stream",
     "text": [
      "33: King's College London\n"
     ]
    },
    {
     "name": "stderr",
     "output_type": "stream",
     "text": [
      " 33%|██████████████████████████▋                                                      | 33/100 [06:26<12:34, 11.27s/it]"
     ]
    },
    {
     "name": "stdout",
     "output_type": "stream",
     "text": [
      "34: Kyoto University\n"
     ]
    },
    {
     "name": "stderr",
     "output_type": "stream",
     "text": [
      " 34%|███████████████████████████▌                                                     | 34/100 [06:34<11:13, 10.21s/it]"
     ]
    },
    {
     "name": "stdout",
     "output_type": "stream",
     "text": [
      "35: McGill University\n"
     ]
    },
    {
     "name": "stderr",
     "output_type": "stream",
     "text": [
      " 35%|████████████████████████████▎                                                    | 35/100 [06:48<12:18, 11.36s/it]"
     ]
    },
    {
     "name": "stdout",
     "output_type": "stream",
     "text": [
      "36: University of California, Los Angeles (UCLA)\n"
     ]
    },
    {
     "name": "stderr",
     "output_type": "stream",
     "text": [
      " 36%|█████████████████████████████▏                                                   | 36/100 [06:57<11:31, 10.80s/it]"
     ]
    },
    {
     "name": "stdout",
     "output_type": "stream",
     "text": [
      "37: Seoul National University\n"
     ]
    },
    {
     "name": "stderr",
     "output_type": "stream",
     "text": [
      " 37%|█████████████████████████████▉                                                   | 37/100 [07:11<12:17, 11.71s/it]"
     ]
    },
    {
     "name": "stdout",
     "output_type": "stream",
     "text": [
      "38: The University of Melbourne\n"
     ]
    },
    {
     "name": "stderr",
     "output_type": "stream",
     "text": [
      " 38%|██████████████████████████████▊                                                  | 38/100 [07:21<11:27, 11.08s/it]"
     ]
    },
    {
     "name": "stdout",
     "output_type": "stream",
     "text": [
      "39: New York University (NYU)\n"
     ]
    },
    {
     "name": "stderr",
     "output_type": "stream",
     "text": [
      " 39%|███████████████████████████████▌                                                 | 39/100 [07:33<11:44, 11.55s/it]"
     ]
    },
    {
     "name": "stdout",
     "output_type": "stream",
     "text": [
      "40: Fudan University\n"
     ]
    },
    {
     "name": "stderr",
     "output_type": "stream",
     "text": [
      " 40%|████████████████████████████████▍                                                | 40/100 [07:45<11:32, 11.54s/it]"
     ]
    },
    {
     "name": "stdout",
     "output_type": "stream",
     "text": [
      "41: KAIST - Korea Advanced Institute of Science & Technology\n"
     ]
    },
    {
     "name": "stderr",
     "output_type": "stream",
     "text": [
      " 41%|█████████████████████████████████▏                                               | 41/100 [08:01<12:46, 13.00s/it]"
     ]
    },
    {
     "name": "stdout",
     "output_type": "stream",
     "text": [
      "42: The University of Sydney\n"
     ]
    },
    {
     "name": "stderr",
     "output_type": "stream",
     "text": [
      " 42%|██████████████████████████████████                                               | 42/100 [08:14<12:21, 12.79s/it]"
     ]
    },
    {
     "name": "stdout",
     "output_type": "stream",
     "text": [
      "43: The University of New South Wales (UNSW Sydney)\n"
     ]
    },
    {
     "name": "stderr",
     "output_type": "stream",
     "text": [
      " 43%|██████████████████████████████████▊                                              | 43/100 [08:27<12:10, 12.81s/it]"
     ]
    },
    {
     "name": "stdout",
     "output_type": "stream",
     "text": [
      "44: The London School of Economics and Political Science (LSE)\n"
     ]
    },
    {
     "name": "stderr",
     "output_type": "stream",
     "text": [
      " 44%|███████████████████████████████████▋                                             | 44/100 [08:40<12:10, 13.04s/it]"
     ]
    },
    {
     "name": "stdout",
     "output_type": "stream",
     "text": [
      "45: University of California, San Diego (UCSD)\n"
     ]
    },
    {
     "name": "stderr",
     "output_type": "stream",
     "text": [
      " 45%|████████████████████████████████████▍                                            | 45/100 [08:53<11:51, 12.93s/it]"
     ]
    },
    {
     "name": "stdout",
     "output_type": "stream",
     "text": [
      "46: The Chinese University of Hong Kong (CUHK)\n"
     ]
    },
    {
     "name": "stderr",
     "output_type": "stream",
     "text": [
      " 46%|█████████████████████████████████████▎                                           | 46/100 [09:08<12:14, 13.61s/it]"
     ]
    },
    {
     "name": "stdout",
     "output_type": "stream",
     "text": [
      "47: The University of Queensland\n"
     ]
    },
    {
     "name": "stderr",
     "output_type": "stream",
     "text": [
      " 47%|██████████████████████████████████████                                           | 47/100 [09:30<14:21, 16.26s/it]"
     ]
    },
    {
     "name": "stdout",
     "output_type": "stream",
     "text": [
      "48: Carnegie Mellon University\n"
     ]
    },
    {
     "name": "stderr",
     "output_type": "stream",
     "text": [
      " 48%|██████████████████████████████████████▉                                          | 48/100 [09:42<12:49, 14.80s/it]"
     ]
    },
    {
     "name": "stdout",
     "output_type": "stream",
     "text": [
      "49: University of Bristol\n"
     ]
    },
    {
     "name": "stderr",
     "output_type": "stream",
     "text": [
      " 49%|███████████████████████████████████████▋                                         | 49/100 [09:55<12:14, 14.41s/it]"
     ]
    },
    {
     "name": "stdout",
     "output_type": "stream",
     "text": [
      "50: Delft University of Technology\n"
     ]
    },
    {
     "name": "stderr",
     "output_type": "stream",
     "text": [
      " 50%|████████████████████████████████████████▌                                        | 50/100 [10:06<11:07, 13.36s/it]"
     ]
    },
    {
     "name": "stdout",
     "output_type": "stream",
     "text": [
      "51: University of British Columbia\n"
     ]
    },
    {
     "name": "stderr",
     "output_type": "stream",
     "text": [
      " 51%|█████████████████████████████████████████▎                                       | 51/100 [10:16<10:01, 12.27s/it]"
     ]
    },
    {
     "name": "stdout",
     "output_type": "stream",
     "text": [
      "52: City University of Hong Kong\n"
     ]
    },
    {
     "name": "stderr",
     "output_type": "stream",
     "text": [
      " 53%|██████████████████████████████████████████▉                                      | 53/100 [10:36<08:42, 11.12s/it]"
     ]
    },
    {
     "name": "stdout",
     "output_type": "stream",
     "text": [
      "Error occured when scraping Université PSL\n",
      "Exception in (<ipython-input-6-940c69e74e54>, line 51 \"uniLoc = re.findall('(?!\\nView\\smap).+[^View\\smap]', uniLocRaw.text)\"): 'NoneType' object has no attribute 'text'\n",
      "Continue to the next iteration.\n",
      "54: Zhejiang University\n"
     ]
    },
    {
     "name": "stderr",
     "output_type": "stream",
     "text": [
      " 54%|███████████████████████████████████████████▋                                     | 54/100 [10:50<09:04, 11.84s/it]"
     ]
    },
    {
     "name": "stdout",
     "output_type": "stream",
     "text": [
      "55: Technical University of Munich\n"
     ]
    },
    {
     "name": "stderr",
     "output_type": "stream",
     "text": [
      " 55%|████████████████████████████████████████████▌                                    | 55/100 [11:05<09:42, 12.95s/it]"
     ]
    },
    {
     "name": "stdout",
     "output_type": "stream",
     "text": [
      "56: University of Wisconsin-Madison\n"
     ]
    },
    {
     "name": "stderr",
     "output_type": "stream",
     "text": [
      " 56%|█████████████████████████████████████████████▎                                   | 56/100 [11:16<08:55, 12.17s/it]"
     ]
    },
    {
     "name": "stdout",
     "output_type": "stream",
     "text": [
      "57: Brown University\n"
     ]
    },
    {
     "name": "stderr",
     "output_type": "stream",
     "text": [
      " 57%|██████████████████████████████████████████████▏                                  | 57/100 [11:28<08:44, 12.20s/it]"
     ]
    },
    {
     "name": "stdout",
     "output_type": "stream",
     "text": [
      "58: Monash University\n"
     ]
    },
    {
     "name": "stderr",
     "output_type": "stream",
     "text": [
      " 58%|██████████████████████████████████████████████▉                                  | 58/100 [11:40<08:30, 12.15s/it]"
     ]
    },
    {
     "name": "stdout",
     "output_type": "stream",
     "text": [
      "59: Tokyo Institute of Technology (Tokyo Tech)\n"
     ]
    },
    {
     "name": "stderr",
     "output_type": "stream",
     "text": [
      " 59%|███████████████████████████████████████████████▊                                 | 59/100 [11:51<07:58, 11.67s/it]"
     ]
    },
    {
     "name": "stdout",
     "output_type": "stream",
     "text": [
      "60: Ecole Polytechnique\n"
     ]
    },
    {
     "name": "stderr",
     "output_type": "stream",
     "text": [
      " 60%|████████████████████████████████████████████████▌                                | 60/100 [12:02<07:39, 11.48s/it]"
     ]
    },
    {
     "name": "stdout",
     "output_type": "stream",
     "text": [
      "61: Shanghai Jiao Tong University\n"
     ]
    },
    {
     "name": "stderr",
     "output_type": "stream",
     "text": [
      " 61%|█████████████████████████████████████████████████▍                               | 61/100 [12:09<06:41, 10.31s/it]"
     ]
    },
    {
     "name": "stdout",
     "output_type": "stream",
     "text": [
      "62: The University of Warwick\n"
     ]
    },
    {
     "name": "stderr",
     "output_type": "stream",
     "text": [
      " 62%|██████████████████████████████████████████████████▏                              | 62/100 [12:21<06:48, 10.76s/it]"
     ]
    },
    {
     "name": "stdout",
     "output_type": "stream",
     "text": [
      "63: Ludwig-Maximilians-Universität München\n"
     ]
    },
    {
     "name": "stderr",
     "output_type": "stream",
     "text": [
      " 63%|███████████████████████████████████████████████████                              | 63/100 [12:35<07:15, 11.77s/it]"
     ]
    },
    {
     "name": "stdout",
     "output_type": "stream",
     "text": [
      "64: University of Amsterdam\n"
     ]
    },
    {
     "name": "stderr",
     "output_type": "stream",
     "text": [
      " 64%|███████████████████████████████████████████████████▊                             | 64/100 [12:44<06:34, 10.95s/it]"
     ]
    },
    {
     "name": "stdout",
     "output_type": "stream",
     "text": [
      "65: University of Texas at Austin\n"
     ]
    },
    {
     "name": "stderr",
     "output_type": "stream",
     "text": [
      " 65%|████████████████████████████████████████████████████▋                            | 65/100 [12:53<05:57, 10.22s/it]"
     ]
    },
    {
     "name": "stdout",
     "output_type": "stream",
     "text": [
      "66: Ruprecht-Karls-Universität Heidelberg\n"
     ]
    },
    {
     "name": "stderr",
     "output_type": "stream",
     "text": [
      " 66%|█████████████████████████████████████████████████████▍                           | 66/100 [13:02<05:35,  9.86s/it]"
     ]
    },
    {
     "name": "stdout",
     "output_type": "stream",
     "text": [
      "67: University of Glasgow\n"
     ]
    },
    {
     "name": "stderr",
     "output_type": "stream",
     "text": [
      " 67%|██████████████████████████████████████████████████████▎                          | 67/100 [13:17<06:16, 11.40s/it]"
     ]
    },
    {
     "name": "stdout",
     "output_type": "stream",
     "text": [
      "68: University of Washington\n"
     ]
    },
    {
     "name": "stderr",
     "output_type": "stream",
     "text": [
      " 68%|███████████████████████████████████████████████████████                          | 68/100 [13:30<06:27, 12.12s/it]"
     ]
    },
    {
     "name": "stdout",
     "output_type": "stream",
     "text": [
      "69: National Taiwan University (NTU)\n"
     ]
    },
    {
     "name": "stderr",
     "output_type": "stream",
     "text": [
      " 69%|███████████████████████████████████████████████████████▉                         | 69/100 [13:42<06:11, 11.99s/it]"
     ]
    },
    {
     "name": "stdout",
     "output_type": "stream",
     "text": [
      "70: Universiti Malaya (UM)\n"
     ]
    },
    {
     "name": "stderr",
     "output_type": "stream",
     "text": [
      " 70%|████████████████████████████████████████████████████████▋                        | 70/100 [13:56<06:17, 12.60s/it]"
     ]
    },
    {
     "name": "stdout",
     "output_type": "stream",
     "text": [
      "71: Osaka University\n"
     ]
    },
    {
     "name": "stderr",
     "output_type": "stream",
     "text": [
      " 71%|█████████████████████████████████████████████████████████▌                       | 71/100 [14:06<05:42, 11.82s/it]"
     ]
    },
    {
     "name": "stdout",
     "output_type": "stream",
     "text": [
      "72: Georgia Institute of Technology\n"
     ]
    },
    {
     "name": "stderr",
     "output_type": "stream",
     "text": [
      " 72%|██████████████████████████████████████████████████████████▎                      | 72/100 [14:18<05:27, 11.69s/it]"
     ]
    },
    {
     "name": "stdout",
     "output_type": "stream",
     "text": [
      "73: Universidad de Buenos Aires (UBA)\n"
     ]
    },
    {
     "name": "stderr",
     "output_type": "stream",
     "text": [
      " 73%|███████████████████████████████████████████████████████████▏                     | 73/100 [14:33<05:44, 12.77s/it]"
     ]
    },
    {
     "name": "stdout",
     "output_type": "stream",
     "text": [
      "74: University of Illinois at Urbana-Champaign\n"
     ]
    },
    {
     "name": "stderr",
     "output_type": "stream",
     "text": [
      " 74%|███████████████████████████████████████████████████████████▉                     | 74/100 [14:45<05:30, 12.71s/it]"
     ]
    },
    {
     "name": "stdout",
     "output_type": "stream",
     "text": [
      "75: University of Zurich\n"
     ]
    },
    {
     "name": "stderr",
     "output_type": "stream",
     "text": [
      " 76%|█████████████████████████████████████████████████████████████▌                   | 76/100 [15:09<04:50, 12.11s/it]"
     ]
    },
    {
     "name": "stdout",
     "output_type": "stream",
     "text": [
      "Error occured when scraping Sorbonne University\n",
      "Exception in (<ipython-input-6-940c69e74e54>, line 51 \"uniLoc = re.findall('(?!\\nView\\smap).+[^View\\smap]', uniLocRaw.text)\"): 'NoneType' object has no attribute 'text'\n",
      "Continue to the next iteration.\n",
      "77: Durham University\n"
     ]
    },
    {
     "name": "stderr",
     "output_type": "stream",
     "text": [
      " 77%|██████████████████████████████████████████████████████████████▎                  | 77/100 [15:25<05:06, 13.31s/it]"
     ]
    },
    {
     "name": "stdout",
     "output_type": "stream",
     "text": [
      "78: The University of Sheffield\n"
     ]
    },
    {
     "name": "stderr",
     "output_type": "stream",
     "text": [
      " 78%|███████████████████████████████████████████████████████████████▏                 | 78/100 [15:40<05:07, 13.99s/it]"
     ]
    },
    {
     "name": "stdout",
     "output_type": "stream",
     "text": [
      "79: KU Leuven\n"
     ]
    },
    {
     "name": "stderr",
     "output_type": "stream",
     "text": [
      " 79%|███████████████████████████████████████████████████████████████▉                 | 79/100 [16:23<07:53, 22.53s/it]"
     ]
    },
    {
     "name": "stdout",
     "output_type": "stream",
     "text": [
      "80: University of Birmingham\n"
     ]
    },
    {
     "name": "stderr",
     "output_type": "stream",
     "text": [
      " 80%|████████████████████████████████████████████████████████████████▊                | 80/100 [16:34<06:21, 19.06s/it]"
     ]
    },
    {
     "name": "stdout",
     "output_type": "stream",
     "text": [
      "81: University of Copenhagen\n"
     ]
    },
    {
     "name": "stderr",
     "output_type": "stream",
     "text": [
      " 81%|█████████████████████████████████████████████████████████████████▌               | 81/100 [16:48<05:36, 17.72s/it]"
     ]
    },
    {
     "name": "stdout",
     "output_type": "stream",
     "text": [
      "82: Tohoku University\n"
     ]
    },
    {
     "name": "stderr",
     "output_type": "stream",
     "text": [
      " 82%|██████████████████████████████████████████████████████████████████▍              | 82/100 [17:02<04:57, 16.54s/it]"
     ]
    },
    {
     "name": "stdout",
     "output_type": "stream",
     "text": [
      "83: Korea University\n"
     ]
    },
    {
     "name": "stderr",
     "output_type": "stream",
     "text": [
      " 83%|███████████████████████████████████████████████████████████████████▏             | 83/100 [17:15<04:23, 15.52s/it]"
     ]
    },
    {
     "name": "stdout",
     "output_type": "stream",
     "text": [
      "84: The University of Auckland\n"
     ]
    },
    {
     "name": "stderr",
     "output_type": "stream",
     "text": [
      " 84%|████████████████████████████████████████████████████████████████████             | 84/100 [17:34<04:23, 16.47s/it]"
     ]
    },
    {
     "name": "stdout",
     "output_type": "stream",
     "text": [
      "85: Lomonosov Moscow State University\n"
     ]
    },
    {
     "name": "stderr",
     "output_type": "stream",
     "text": [
      " 85%|████████████████████████████████████████████████████████████████████▊            | 85/100 [20:12<14:43, 58.90s/it]"
     ]
    },
    {
     "name": "stdout",
     "output_type": "stream",
     "text": [
      "86: Rice University\n"
     ]
    },
    {
     "name": "stderr",
     "output_type": "stream",
     "text": [
      " 86%|█████████████████████████████████████████████████████████████████████▋           | 86/100 [20:22<10:19, 44.26s/it]"
     ]
    },
    {
     "name": "stdout",
     "output_type": "stream",
     "text": [
      "87: The University of Western Australia\n"
     ]
    },
    {
     "name": "stderr",
     "output_type": "stream",
     "text": [
      " 87%|██████████████████████████████████████████████████████████████████████▍          | 87/100 [20:38<07:42, 35.61s/it]"
     ]
    },
    {
     "name": "stdout",
     "output_type": "stream",
     "text": [
      "88: Pohang University of Science And Technology (POSTECH)\n"
     ]
    },
    {
     "name": "stderr",
     "output_type": "stream",
     "text": [
      " 88%|███████████████████████████████████████████████████████████████████████▎         | 88/100 [20:51<05:46, 28.91s/it]"
     ]
    },
    {
     "name": "stdout",
     "output_type": "stream",
     "text": [
      "89: University of Science and Technology of China\n"
     ]
    },
    {
     "name": "stderr",
     "output_type": "stream",
     "text": [
      " 89%|████████████████████████████████████████████████████████████████████████         | 89/100 [21:06<04:31, 24.69s/it]"
     ]
    },
    {
     "name": "stdout",
     "output_type": "stream",
     "text": [
      "90: University of North Carolina, Chapel Hill\n"
     ]
    },
    {
     "name": "stderr",
     "output_type": "stream",
     "text": [
      " 90%|████████████████████████████████████████████████████████████████████████▉        | 90/100 [21:23<03:44, 22.48s/it]"
     ]
    },
    {
     "name": "stdout",
     "output_type": "stream",
     "text": [
      "91: The Hong Kong Polytechnic University\n"
     ]
    },
    {
     "name": "stderr",
     "output_type": "stream",
     "text": [
      " 91%|█████████████████████████████████████████████████████████████████████████▋       | 91/100 [21:44<03:17, 21.93s/it]"
     ]
    },
    {
     "name": "stdout",
     "output_type": "stream",
     "text": [
      "92: Lund University\n"
     ]
    },
    {
     "name": "stderr",
     "output_type": "stream",
     "text": [
      " 92%|██████████████████████████████████████████████████████████████████████████▌      | 92/100 [21:56<02:31, 18.97s/it]"
     ]
    },
    {
     "name": "stdout",
     "output_type": "stream",
     "text": [
      "93: Pennsylvania State University\n"
     ]
    },
    {
     "name": "stderr",
     "output_type": "stream",
     "text": [
      " 93%|███████████████████████████████████████████████████████████████████████████▎     | 93/100 [22:07<01:57, 16.81s/it]"
     ]
    },
    {
     "name": "stdout",
     "output_type": "stream",
     "text": [
      "94: University of Leeds\n"
     ]
    },
    {
     "name": "stderr",
     "output_type": "stream",
     "text": [
      " 94%|████████████████████████████████████████████████████████████████████████████▏    | 94/100 [22:22<01:35, 15.99s/it]"
     ]
    },
    {
     "name": "stdout",
     "output_type": "stream",
     "text": [
      "95: Sungkyunkwan University(SKKU)\n"
     ]
    },
    {
     "name": "stderr",
     "output_type": "stream",
     "text": [
      " 95%|████████████████████████████████████████████████████████████████████████████▉    | 95/100 [22:36<01:16, 15.39s/it]"
     ]
    },
    {
     "name": "stdout",
     "output_type": "stream",
     "text": [
      "96: University of Nottingham\n"
     ]
    },
    {
     "name": "stderr",
     "output_type": "stream",
     "text": [
      " 96%|█████████████████████████████████████████████████████████████████████████████▊   | 96/100 [22:50<01:00, 15.11s/it]"
     ]
    },
    {
     "name": "stdout",
     "output_type": "stream",
     "text": [
      "97: University of Southampton\n"
     ]
    },
    {
     "name": "stderr",
     "output_type": "stream",
     "text": [
      " 97%|██████████████████████████████████████████████████████████████████████████████▌  | 97/100 [23:04<00:44, 14.91s/it]"
     ]
    },
    {
     "name": "stdout",
     "output_type": "stream",
     "text": [
      "98: Boston University\n"
     ]
    },
    {
     "name": "stderr",
     "output_type": "stream",
     "text": [
      " 98%|███████████████████████████████████████████████████████████████████████████████▍ | 98/100 [23:17<00:28, 14.08s/it]"
     ]
    },
    {
     "name": "stdout",
     "output_type": "stream",
     "text": [
      "99: KTH Royal Institute of Technology\n"
     ]
    },
    {
     "name": "stderr",
     "output_type": "stream",
     "text": [
      " 99%|████████████████████████████████████████████████████████████████████████████████▏| 99/100 [23:29<00:13, 13.58s/it]"
     ]
    },
    {
     "name": "stdout",
     "output_type": "stream",
     "text": [
      "100: University of St Andrews\n"
     ]
    },
    {
     "name": "stderr",
     "output_type": "stream",
     "text": [
      "100%|████████████████████████████████████████████████████████████████████████████████| 100/100 [23:42<00:00, 14.23s/it]\n"
     ]
    }
   ],
   "source": [
    "driver = webdriver.Chrome() #options = option)\n",
    "driver.get(url)\n",
    "\n",
    "wait = WebDriverWait(driver, 20)\n",
    "wait.until(EC.visibility_of_all_elements_located((By.CSS_SELECTOR, tableCSSselector)))\n",
    "print('ready ro scrape.')\n",
    "\n",
    "driver.execute_script(\"window.scrollTo(0, 2100)\")\n",
    "\n",
    "time.sleep(1)\n",
    "\n",
    "cursor = driver.find_element_by_css_selector(clickPerPageCSSselector)\n",
    "cursor.click()\n",
    "time.sleep(2)\n",
    "\n",
    "cursor = driver.find_element_by_css_selector(click100CSSselector)\n",
    "cursor.click()\n",
    "time.sleep(5)\n",
    "\n",
    "print('Top 100 institutions shown')\n",
    "\n",
    "soup = BeautifulSoup(driver.page_source, 'html5lib')\n",
    "\n",
    "QSurl = 'https://www.topuniversities.com'\n",
    "\n",
    "uniName = []\n",
    "uniLink = []\n",
    "for i in soup.findAll('a', class_='title'):\n",
    "    uniName.append(i.text)\n",
    "    uniLink.append(i.get('href'))\n",
    "\n",
    "mapCanvasXpath = '//*[@id=\"scene\"]/div[3]/canvas'\n",
    "whatsHereCSSselector = '#action-menu > ul > li:nth-child(3)'\n",
    "LatLonCSSselector = '#reveal-card > div > div.widget-reveal-card-container > button.link-like.widget-reveal-card-lat-lng'\n",
    "\n",
    "uniLocList = []\n",
    "LatLonList = []\n",
    "\n",
    "for i in tqdm(range(len(uniName))):\n",
    "    try:\n",
    "        urlUni = QSurl + uniLink[i]\n",
    "        driver.get(urlUni)\n",
    "    \n",
    "        soupUni = BeautifulSoup(driver.page_source, 'html5lib')\n",
    "    \n",
    "        uniLocRaw = soupUni.select_one('.location')\n",
    "        if uniLocRaw == None:\n",
    "            locCSSselectorAltern = '#block-system-main > div > div.basic-pro > div.lead_section > header > div.container > div.title_info > div.location'\n",
    "            uniLocRaw = soupUni.select_one(locCSSselectorAltern)\n",
    "\n",
    "        uniLoc = re.findall('(?!\\nView\\smap).+[^View\\smap]', uniLocRaw.text)\n",
    "    \n",
    "#     urlUniLoc = uniLoc.find('a').get('href')\n",
    "#     gmapAPI = urlUniLoc[urlUniLoc.find('//')+2:]\n",
    "    \n",
    "#     driver.get('https://' + gmapAPI)\n",
    "    \n",
    "#     wait = WebDriverWait(driver, 30)\n",
    "#     wait.until(EC.visibility_of_all_elements_located((By.XPATH, mapCanvasXpath)))\n",
    "    \n",
    "#     action = ActionChains(driver)\n",
    "#     action.move_to_element(driver.find_element_by_xpath(mapCanvasXpath)).perform()\n",
    "#     action.context_click().perform()\n",
    "#     time.sleep(2)\n",
    "    \n",
    "#     cursor = driver.find_element_by_css_selector(whatsHereCSSselector)\n",
    "#     cursor.click()\n",
    "#     time.sleep(2)\n",
    "    \n",
    "#     soupGmaps = BeautifulSoup(driver.page_source, 'html5lib')\n",
    "\n",
    "#     LatLon = soupGmaps.select_one(LatLonCSSselector).get('aria-label')\n",
    "#     LatLon = list(map(float, LatLon.split(', ')))\n",
    "    \n",
    "        uniLocList.append(uniLoc)\n",
    "#     LatLonList.append(LatLon)\n",
    "        \n",
    "        print(str(i+1) + ': ' + uniName[i])\n",
    "        time.sleep(2)\n",
    "    except:\n",
    "        print('Error occured when scraping ' + uniName[i])\n",
    "        PrintException()\n",
    "        print('Continue to the next iteration.')\n",
    "        uniLocList.append('')\n",
    "        continue\n",
    "    \n",
    "driver.close()"
   ]
  },
  {
   "cell_type": "code",
   "execution_count": 26,
   "metadata": {},
   "outputs": [
    {
     "data": {
      "text/plain": [
       "[['77 Massachusetts Avenue Cambridge, United States'],\n",
       " ['450 Serra Mall Stanford, United States'],\n",
       " ['1350 Massachusetts Avenue Cambridge, United States'],\n",
       " ['Wellington Square Oxford, United Kingdo'],\n",
       " ['1200 East California Boulevard Pasadena, United States'],\n",
       " ['Raemistrasse 101 Zürich, Switzerland'],\n",
       " ['The Old Schools, Trinity Lane Cambridge, United Kingdo'],\n",
       " ['University College London, Gower Street London, United Kingdo'],\n",
       " ['South Kensington London, United Kingdo'],\n",
       " ['Edward H. Levi Hall, 5801 South Ellis Avenue Chicago, United States'],\n",
       " ['50 Nanyang Avenue Singapore, Singapor'],\n",
       " ['21 Lower Kent Ridge Road Singapore, Singapor'],\n",
       " ['Princeton University Princeton, United States'],\n",
       " ['144 East Avenue Ithaca, United States'],\n",
       " ['University of Pennsylvania Philadelphia, United States'],\n",
       " ['30 Shuangqing Rd Beijing, Chin'],\n",
       " ['Yale University New Haven, United States'],\n",
       " ['Columbia University 116th Street & Broadway New York, United States'],\n",
       " ['Ecole Polytechnique Federale de Lausanne Lausanne, Switzerland'],\n",
       " ['University of Edinburgh, Old College South Bridge Edinburgh, United Kingdo'],\n",
       " ['G-664 Haven Hall, 505 South State Street Ann Arbor, United States'],\n",
       " ['No. 5 Yiheyuan Road Haidian District Beijing, Chin'],\n",
       " ['7-3-1 Hongo Tokyo, Japan'],\n",
       " ['Johns Hopkins University Baltimore, United States'],\n",
       " ['2138 Campus Drive Box 90586 Durham, United States'],\n",
       " ['Main Building, Pokfulam Road, Pokfulam Pok Fu Lam, Hong Kong S.A.R., Chin'],\n",
       " ['The University of Manchester, Oxford Road Manchester, United Kingdo'],\n",
       " ['Campanile Way Berkeley, United States'],\n",
       " ['The Australian National University Canberra, Austral'],\n",
       " [\"27 King's College Circle Toronto, Ontario Toronto, Canad\"],\n",
       " ['1841 Sheridan Road Evanston, United States'],\n",
       " ['Clear Water Bay Kowloon, Hong Kong S.A.R., Chin'],\n",
       " ['The Strand London, United Kingdo'],\n",
       " ['Yoshida-Honmachi Sakyo-ku Kyoto City, Japan'],\n",
       " ['3415 McTavish Street Montreal, Canad'],\n",
       " ['405 Hilgard Avenue Los Angeles, United States'],\n",
       " ['1 Gwanak-ro Gwanak-gu Seoul, South Kor'],\n",
       " ['Grattan Street Parkville, Austral'],\n",
       " ['New York University (NYU) New York, United States'],\n",
       " ['220 Handan Road, Yang Pu Shanghai, Chin'],\n",
       " ['373-1 Guseong-dong Daejeon, South Kor'],\n",
       " ['Camperdown Sydney, Austral'],\n",
       " ['High St Kensington, Sydney, Austral'],\n",
       " ['Houghton Street London, United Kingdo'],\n",
       " ['9500 Gilman Drive La Jolla, United States'],\n",
       " ['The Chinese University of Hong Kong Sha Tin, Hong Kong S.A.R., Chin'],\n",
       " ['JD Story Building, Level 2, University of Queensland St Lucia Campus 342 Carmody Rd, St Lucia Brisbane, Austral'],\n",
       " ['5000 Forbes Avenue Pittsburgh, United States'],\n",
       " ['Beacon House, Queens Road Bristol, United Kingdo'],\n",
       " ['2628 CN Stevinweg 1 Delft, Netherlands'],\n",
       " ['2329 West Mall Vancouver, Canad'],\n",
       " ['83 Tat Chee Ave Kowloon Tong Kowloon, Hong Kong S.A.R., Chin'],\n",
       " ['866 Yuhangtang Road West Lake District Hangzhou, Chin'],\n",
       " ['Technical University of Munich, Arcisstraße 21 Munich, Germany'],\n",
       " ['University of Wisconsin-Madison Madison, United States'],\n",
       " ['Brown University Providence, United States'],\n",
       " ['Wellington Rd & Blackburn Rd Clayton Melbourne, Austral'],\n",
       " ['2-12-1 Ookayama Meguro-ku Tokyo, Japan'],\n",
       " ['Route de Saclay Palaiseau, Franc'],\n",
       " ['800 Dong Chuan Road Shanghai, Chin'],\n",
       " ['Coventry, United Kingdo'],\n",
       " ['Geschwister-Scholl Platz 1 München, Germany'],\n",
       " ['Roeterseiland, REC-E Roetersstraat 11 Amsterdam, Netherlands'],\n",
       " ['University of Texas at Austin Austin, United States'],\n",
       " ['Grabengasse 1 Heidelberg, Germany'],\n",
       " ['University Avenue Glasgow, United Kingdo'],\n",
       " ['University of Washington Seattle, United States'],\n",
       " ['No.1, Sec. 4, Roosevelt Road, Taipei, Taiwan'],\n",
       " ['Universiti Malaya Jalan Universiti Kuala Lumpur, Malays'],\n",
       " ['1-1 Yamadaoka, Suita Osaka, Japan'],\n",
       " ['North Avenue Atlanta, United States'],\n",
       " ['Viamonte 430 Buenos Aires, Argentin'],\n",
       " ['901 West Illinois Street Champaign, United States'],\n",
       " ['Rämistrasse 71 Zürich, Switzerland'],\n",
       " ['The University Office The Palatine Centre Durham, United Kingdo'],\n",
       " ['Western Bank Sheffield, United Kingdo'],\n",
       " ['Oude Markt 13 Leuven, Belgiu'],\n",
       " ['Edgbaston Birmingham, United Kingdo'],\n",
       " ['Nørregade 10 Copenhagen, Denmark'],\n",
       " ['2-1-1 Katahira, Aoba-ku Sendai, Japan'],\n",
       " ['145 Anam-Ro, Seongbuk-Gu Seoul, South Kor'],\n",
       " ['Auckland CBD Auckland, New Zealand'],\n",
       " ['GSP-1, Leninskie Gory Moscow, Russ'],\n",
       " ['6100 Main Street Houston, United States'],\n",
       " ['35 Stirling Highway Crawley Perth, Austral'],\n",
       " ['77 Cheongam-Ro Nam-Gu Pohang, South Kor'],\n",
       " ['No. 96?Jinzhai Road Hefei, Chin'],\n",
       " ['CB #2200, Jackson Hall Chapel Hill, United States'],\n",
       " ['11號 Yuk Choi Rd Hung Hom Kowloon, Hong Kong S.A.R., Chin'],\n",
       " ['Paradisgatan 2 Lund, Sweden'],\n",
       " ['State College University Park, United States'],\n",
       " ['Leeds, United Kingdo'],\n",
       " ['2066 Seobu-ro Jangan-gu Suwon, South Kor'],\n",
       " ['University Park Nottingham, United Kingdo'],\n",
       " ['University Road Southampton, United Kingdo'],\n",
       " ['One Silber Way Boston, United States'],\n",
       " ['Brinellvägen 8 Stockholm, Sweden'],\n",
       " ['University of St Andrews St. Andrews, United Kingdo']]"
      ]
     },
     "execution_count": 26,
     "metadata": {},
     "output_type": "execute_result"
    }
   ],
   "source": [
    "uniLocList"
   ]
  },
  {
   "cell_type": "code",
   "execution_count": 7,
   "metadata": {},
   "outputs": [
    {
     "data": {
      "text/plain": [
       "[42.35891737166005, -71.09346063887153]"
      ]
     },
     "execution_count": 7,
     "metadata": {},
     "output_type": "execute_result"
    }
   ],
   "source": [
    "import geocoder\n",
    "g = geocoder.arcgis('77 Massachusetts Avenue, Cambridge')\n",
    "g.latlng"
   ]
  },
  {
   "cell_type": "code",
   "execution_count": 5,
   "metadata": {},
   "outputs": [
    {
     "data": {
      "text/plain": [
       "<[ERROR - HTTPSConnectionPool(host='sgws2.maps.yahoo.com', port=443): Read timed out. (read timeout=5.0)] Yahoo - Geocode [empty]>"
      ]
     },
     "execution_count": 5,
     "metadata": {},
     "output_type": "execute_result"
    }
   ],
   "source": [
    "g"
   ]
  }
 ],
 "metadata": {
  "kernelspec": {
   "display_name": "Python 3",
   "language": "python",
   "name": "python3"
  },
  "language_info": {
   "codemirror_mode": {
    "name": "ipython",
    "version": 3
   },
   "file_extension": ".py",
   "mimetype": "text/x-python",
   "name": "python",
   "nbconvert_exporter": "python",
   "pygments_lexer": "ipython3",
   "version": "3.7.6"
  }
 },
 "nbformat": 4,
 "nbformat_minor": 4
}
