{
 "cells": [
  {
   "cell_type": "markdown",
   "metadata": {},
   "source": [
    "# Toronto"
   ]
  },
  {
   "cell_type": "markdown",
   "metadata": {},
   "source": [
    "## Introduction"
   ]
  },
  {
   "cell_type": "markdown",
   "metadata": {},
   "source": [
    "![Fig. 1 - Wikipedia screenshot](Screenshot_2020-05-18_ListofNeighbourhoodsinToronto-Wikipedia.png)"
   ]
  },
  {
   "cell_type": "markdown",
   "metadata": {},
   "source": [
    "This article aims to accomplish [Peer-graded Assignment: Segmenting and Clustering Neighborhoods in Toronto](https://www.coursera.org/learn/applied-data-science-capstone#syllabus) in the course of [Applied Data Science Capstone](https://www.coursera.org/learn/applied-data-science-capstone). This article is going to analyse Toronto neightbourhoods in Canada. Firstly, such neighbourhoods data will be scraped directly from [Wikipedia](https://en.wikipedia.org/wiki/List_of_neighbourhoods_in_Toronto)\n",
    "The dataset used is obtained from [the University of California at Irvine Machine Learning Repository](https://archive.ics.uci.edu/ml/datasets/Connectionist+Bench+(Sonar,+Mines+vs.+Rocks)), \"Connectionist Bench (Sonar, Mines vs. Rocks)\". You could see the source code fully in my GitHub account [here](https://github.com/utomoreza/C1_LBB).\n",
    "\n",
    "## Aim\n",
    "\n",
    "The goal is to model a prediction to decide between mines and rocks based on sonar signals data.\n",
    "\n",
    "## Objectives\n",
    "\n",
    "1. To compare between Logistic Regression and K-nearest neigbors performance\n",
    "\n",
    "2. To assess the models by a binary classification metric, i.e. confusion matrix.\n",
    "\n",
    "3. To interpretate the model (only for Logistic Regression)\n",
    "\n",
    "4. To test the model using dataset test and discuss the results\n",
    "\n",
    "## Structure\n",
    "\n",
    "This article is arranged as follows.\n",
    "\n",
    "1. [Introduction](#intro)\n",
    "2. [Metadata](#meta)\n",
    "3. [Preparation](#prep)\n",
    "4. [Exploratory Data Analysis](#eda)\n",
    "5. [Modelling and Predictions](#model)\n",
    "6. [Evaluation](#eval)\n",
    "6. [Model Tuning](#tuning)\n",
    "7. [Discussions](#discus)\n",
    "8. [Conclusions](#concl)\n",
    "\n",
    "# Metadata {#meta}\n",
    "\n",
    "## Content {#content}\n",
    "\n",
    "The task is to train a network to discriminate between sonar signals bounced off a metal cylinder and those bounced off a roughly cylindrical rock. The file \"sonar.mines\" contains 111 patterns obtained by bouncing sonar signals off a metal cylinder at various angles and under various conditions. The file \"sonar.rocks\" contains 97 patterns obtained from rocks under similar conditions. The transmitted sonar signal is a frequency-modulated chirp, rising in frequency. The data set contains signals obtained from a variety of different aspect angles, spanning 90 degrees for the cylinder and 180 degrees for the rock.\n",
    "\n",
    "Each pattern is a set of 60 numbers in the range 0.0 to 1.0. Each number represents the energy within a particular frequency band, integrated over a certain period of time. The integration aperture for higher frequencies occur later in time, since these frequencies are transmitted later during the chirp.\n",
    "\n",
    "The label associated with each record contains the letter \"R\" if the object is a rock and \"M\" if it is a mine (metal cylinder). The numbers in the labels are in increasing order of aspect angle, but they do not encode the angle directly."
   ]
  },
  {
   "cell_type": "markdown",
   "metadata": {},
   "source": [
    "## Table of Contents"
   ]
  },
  {
   "cell_type": "markdown",
   "metadata": {},
   "source": [
    "## Data Preparation"
   ]
  },
  {
   "cell_type": "markdown",
   "metadata": {},
   "source": [
    "## Exploratory Data Analysis"
   ]
  },
  {
   "cell_type": "markdown",
   "metadata": {},
   "source": [
    "## Data Preprocessing"
   ]
  },
  {
   "cell_type": "markdown",
   "metadata": {},
   "source": [
    "## Modelling"
   ]
  },
  {
   "cell_type": "markdown",
   "metadata": {},
   "source": [
    "## Evaluation"
   ]
  },
  {
   "cell_type": "markdown",
   "metadata": {},
   "source": [
    "## Conclusions"
   ]
  },
  {
   "cell_type": "code",
   "execution_count": null,
   "metadata": {},
   "outputs": [],
   "source": []
  }
 ],
 "metadata": {
  "kernelspec": {
   "display_name": "Python 3",
   "language": "python",
   "name": "python3"
  },
  "language_info": {
   "codemirror_mode": {
    "name": "ipython",
    "version": 3
   },
   "file_extension": ".py",
   "mimetype": "text/x-python",
   "name": "python",
   "nbconvert_exporter": "python",
   "pygments_lexer": "ipython3",
   "version": "3.7.6"
  }
 },
 "nbformat": 4,
 "nbformat_minor": 4
}
