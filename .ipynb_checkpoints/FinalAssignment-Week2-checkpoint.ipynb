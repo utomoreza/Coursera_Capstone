{
 "cells": [
  {
   "cell_type": "markdown",
   "metadata": {},
   "source": [
    "# What is around each of top 100 world-class universities?"
   ]
  },
  {
   "cell_type": "code",
   "execution_count": 35,
   "metadata": {},
   "outputs": [],
   "source": [
    "import pandas as pd\n",
    "import numpy as np\n",
    "import html5lib\n",
    "import lxml\n",
    "import re\n",
    "import requests\n",
    "import json\n",
    "from bs4 import BeautifulSoup\n",
    "from selenium import webdriver\n",
    "from selenium.webdriver import ActionChains\n",
    "from selenium.webdriver.support.ui import WebDriverWait\n",
    "from selenium.webdriver.common.by import By\n",
    "from selenium.webdriver.support import expected_conditions as EC\n",
    "import matplotlib.pyplot as plt\n",
    "import folium\n",
    "import time\n",
    "import geocoder\n",
    "from tqdm import tqdm\n",
    "import sys\n",
    "import linecache"
   ]
  },
  {
   "cell_type": "code",
   "execution_count": 2,
   "metadata": {},
   "outputs": [],
   "source": [
    "option = webdriver.ChromeOptions()\n",
    "chrome_prefs = {}\n",
    "option.experimental_options[\"prefs\"] = chrome_prefs\n",
    "option.add_argument('--headless')\n",
    "option.add_argument('--no-sandbox')\n",
    "option.add_argument('--disable-dev-shm-usage')\n",
    "chrome_prefs[\"profile.default_content_settings\"] = {\"images\": 2}\n",
    "chrome_prefs[\"profile.managed_default_content_settings\"] = {\"images\": 2}"
   ]
  },
  {
   "cell_type": "code",
   "execution_count": 3,
   "metadata": {},
   "outputs": [],
   "source": [
    "url = 'https://www.topuniversities.com/university-rankings/world-university-rankings/2020'"
   ]
  },
  {
   "cell_type": "code",
   "execution_count": 38,
   "metadata": {},
   "outputs": [],
   "source": [
    "tableCSSselector = '.quicktabs_main'\n",
    "clickPerPageCSSselector = '#qs-rankings_length > label > span.jcf-select.jcf-unselectable > span.jcf-select-opener'\n",
    "click100CSSselector = '#qs-rankings_length > label > span.jcf-select.jcf-unselectable.jcf-drop-active > div > div > span > span > ul > li:nth-child(3) > span'"
   ]
  },
  {
   "cell_type": "code",
   "execution_count": 36,
   "metadata": {},
   "outputs": [],
   "source": [
    "def PrintException():\n",
    "    exc_type, exc_obj, tb = sys.exc_info()\n",
    "    f = tb.tb_frame\n",
    "    lineno = tb.tb_lineno\n",
    "    filename = f.f_code.co_filename\n",
    "    linecache.checkcache(filename)\n",
    "    line = linecache.getline(filename, lineno, f.f_globals)\n",
    "    print('Exception in ({}, line {} \"{}\"): {}'.format(filename, lineno, line.strip(), exc_obj))"
   ]
  },
  {
   "cell_type": "code",
   "execution_count": 40,
   "metadata": {},
   "outputs": [
    {
     "name": "stdout",
     "output_type": "stream",
     "text": [
      "ready ro scrape.\n"
     ]
    },
    {
     "ename": "ElementClickInterceptedException",
     "evalue": "Message: element click intercepted: Element <span class=\"jcf-option\" data-index=\"2\">...</span> is not clickable at point (709, 499). Other element would receive the click: <button type=\"button\" class=\"agree-button eu-cookie-compliance-default-button\">...</button>\n  (Session info: headless chrome=81.0.4044.138)\n",
     "output_type": "error",
     "traceback": [
      "\u001b[1;31m---------------------------------------------------------------------------\u001b[0m",
      "\u001b[1;31mElementClickInterceptedException\u001b[0m          Traceback (most recent call last)",
      "\u001b[1;32m<ipython-input-40-2c4c45b3c388>\u001b[0m in \u001b[0;36m<module>\u001b[1;34m\u001b[0m\n\u001b[0;32m     15\u001b[0m \u001b[1;33m\u001b[0m\u001b[0m\n\u001b[0;32m     16\u001b[0m \u001b[0mcursor\u001b[0m \u001b[1;33m=\u001b[0m \u001b[0mdriver\u001b[0m\u001b[1;33m.\u001b[0m\u001b[0mfind_element_by_css_selector\u001b[0m\u001b[1;33m(\u001b[0m\u001b[0mclick100CSSselector\u001b[0m\u001b[1;33m)\u001b[0m\u001b[1;33m\u001b[0m\u001b[1;33m\u001b[0m\u001b[0m\n\u001b[1;32m---> 17\u001b[1;33m \u001b[0mcursor\u001b[0m\u001b[1;33m.\u001b[0m\u001b[0mclick\u001b[0m\u001b[1;33m(\u001b[0m\u001b[1;33m)\u001b[0m\u001b[1;33m\u001b[0m\u001b[1;33m\u001b[0m\u001b[0m\n\u001b[0m\u001b[0;32m     18\u001b[0m \u001b[0mtime\u001b[0m\u001b[1;33m.\u001b[0m\u001b[0msleep\u001b[0m\u001b[1;33m(\u001b[0m\u001b[1;36m5\u001b[0m\u001b[1;33m)\u001b[0m\u001b[1;33m\u001b[0m\u001b[1;33m\u001b[0m\u001b[0m\n\u001b[0;32m     19\u001b[0m \u001b[1;33m\u001b[0m\u001b[0m\n",
      "\u001b[1;32m~\\Anaconda3\\lib\\site-packages\\selenium\\webdriver\\remote\\webelement.py\u001b[0m in \u001b[0;36mclick\u001b[1;34m(self)\u001b[0m\n\u001b[0;32m     78\u001b[0m     \u001b[1;32mdef\u001b[0m \u001b[0mclick\u001b[0m\u001b[1;33m(\u001b[0m\u001b[0mself\u001b[0m\u001b[1;33m)\u001b[0m\u001b[1;33m:\u001b[0m\u001b[1;33m\u001b[0m\u001b[1;33m\u001b[0m\u001b[0m\n\u001b[0;32m     79\u001b[0m         \u001b[1;34m\"\"\"Clicks the element.\"\"\"\u001b[0m\u001b[1;33m\u001b[0m\u001b[1;33m\u001b[0m\u001b[0m\n\u001b[1;32m---> 80\u001b[1;33m         \u001b[0mself\u001b[0m\u001b[1;33m.\u001b[0m\u001b[0m_execute\u001b[0m\u001b[1;33m(\u001b[0m\u001b[0mCommand\u001b[0m\u001b[1;33m.\u001b[0m\u001b[0mCLICK_ELEMENT\u001b[0m\u001b[1;33m)\u001b[0m\u001b[1;33m\u001b[0m\u001b[1;33m\u001b[0m\u001b[0m\n\u001b[0m\u001b[0;32m     81\u001b[0m \u001b[1;33m\u001b[0m\u001b[0m\n\u001b[0;32m     82\u001b[0m     \u001b[1;32mdef\u001b[0m \u001b[0msubmit\u001b[0m\u001b[1;33m(\u001b[0m\u001b[0mself\u001b[0m\u001b[1;33m)\u001b[0m\u001b[1;33m:\u001b[0m\u001b[1;33m\u001b[0m\u001b[1;33m\u001b[0m\u001b[0m\n",
      "\u001b[1;32m~\\Anaconda3\\lib\\site-packages\\selenium\\webdriver\\remote\\webelement.py\u001b[0m in \u001b[0;36m_execute\u001b[1;34m(self, command, params)\u001b[0m\n\u001b[0;32m    631\u001b[0m             \u001b[0mparams\u001b[0m \u001b[1;33m=\u001b[0m \u001b[1;33m{\u001b[0m\u001b[1;33m}\u001b[0m\u001b[1;33m\u001b[0m\u001b[1;33m\u001b[0m\u001b[0m\n\u001b[0;32m    632\u001b[0m         \u001b[0mparams\u001b[0m\u001b[1;33m[\u001b[0m\u001b[1;34m'id'\u001b[0m\u001b[1;33m]\u001b[0m \u001b[1;33m=\u001b[0m \u001b[0mself\u001b[0m\u001b[1;33m.\u001b[0m\u001b[0m_id\u001b[0m\u001b[1;33m\u001b[0m\u001b[1;33m\u001b[0m\u001b[0m\n\u001b[1;32m--> 633\u001b[1;33m         \u001b[1;32mreturn\u001b[0m \u001b[0mself\u001b[0m\u001b[1;33m.\u001b[0m\u001b[0m_parent\u001b[0m\u001b[1;33m.\u001b[0m\u001b[0mexecute\u001b[0m\u001b[1;33m(\u001b[0m\u001b[0mcommand\u001b[0m\u001b[1;33m,\u001b[0m \u001b[0mparams\u001b[0m\u001b[1;33m)\u001b[0m\u001b[1;33m\u001b[0m\u001b[1;33m\u001b[0m\u001b[0m\n\u001b[0m\u001b[0;32m    634\u001b[0m \u001b[1;33m\u001b[0m\u001b[0m\n\u001b[0;32m    635\u001b[0m     \u001b[1;32mdef\u001b[0m \u001b[0mfind_element\u001b[0m\u001b[1;33m(\u001b[0m\u001b[0mself\u001b[0m\u001b[1;33m,\u001b[0m \u001b[0mby\u001b[0m\u001b[1;33m=\u001b[0m\u001b[0mBy\u001b[0m\u001b[1;33m.\u001b[0m\u001b[0mID\u001b[0m\u001b[1;33m,\u001b[0m \u001b[0mvalue\u001b[0m\u001b[1;33m=\u001b[0m\u001b[1;32mNone\u001b[0m\u001b[1;33m)\u001b[0m\u001b[1;33m:\u001b[0m\u001b[1;33m\u001b[0m\u001b[1;33m\u001b[0m\u001b[0m\n",
      "\u001b[1;32m~\\Anaconda3\\lib\\site-packages\\selenium\\webdriver\\remote\\webdriver.py\u001b[0m in \u001b[0;36mexecute\u001b[1;34m(self, driver_command, params)\u001b[0m\n\u001b[0;32m    319\u001b[0m         \u001b[0mresponse\u001b[0m \u001b[1;33m=\u001b[0m \u001b[0mself\u001b[0m\u001b[1;33m.\u001b[0m\u001b[0mcommand_executor\u001b[0m\u001b[1;33m.\u001b[0m\u001b[0mexecute\u001b[0m\u001b[1;33m(\u001b[0m\u001b[0mdriver_command\u001b[0m\u001b[1;33m,\u001b[0m \u001b[0mparams\u001b[0m\u001b[1;33m)\u001b[0m\u001b[1;33m\u001b[0m\u001b[1;33m\u001b[0m\u001b[0m\n\u001b[0;32m    320\u001b[0m         \u001b[1;32mif\u001b[0m \u001b[0mresponse\u001b[0m\u001b[1;33m:\u001b[0m\u001b[1;33m\u001b[0m\u001b[1;33m\u001b[0m\u001b[0m\n\u001b[1;32m--> 321\u001b[1;33m             \u001b[0mself\u001b[0m\u001b[1;33m.\u001b[0m\u001b[0merror_handler\u001b[0m\u001b[1;33m.\u001b[0m\u001b[0mcheck_response\u001b[0m\u001b[1;33m(\u001b[0m\u001b[0mresponse\u001b[0m\u001b[1;33m)\u001b[0m\u001b[1;33m\u001b[0m\u001b[1;33m\u001b[0m\u001b[0m\n\u001b[0m\u001b[0;32m    322\u001b[0m             response['value'] = self._unwrap_value(\n\u001b[0;32m    323\u001b[0m                 response.get('value', None))\n",
      "\u001b[1;32m~\\Anaconda3\\lib\\site-packages\\selenium\\webdriver\\remote\\errorhandler.py\u001b[0m in \u001b[0;36mcheck_response\u001b[1;34m(self, response)\u001b[0m\n\u001b[0;32m    240\u001b[0m                 \u001b[0malert_text\u001b[0m \u001b[1;33m=\u001b[0m \u001b[0mvalue\u001b[0m\u001b[1;33m[\u001b[0m\u001b[1;34m'alert'\u001b[0m\u001b[1;33m]\u001b[0m\u001b[1;33m.\u001b[0m\u001b[0mget\u001b[0m\u001b[1;33m(\u001b[0m\u001b[1;34m'text'\u001b[0m\u001b[1;33m)\u001b[0m\u001b[1;33m\u001b[0m\u001b[1;33m\u001b[0m\u001b[0m\n\u001b[0;32m    241\u001b[0m             \u001b[1;32mraise\u001b[0m \u001b[0mexception_class\u001b[0m\u001b[1;33m(\u001b[0m\u001b[0mmessage\u001b[0m\u001b[1;33m,\u001b[0m \u001b[0mscreen\u001b[0m\u001b[1;33m,\u001b[0m \u001b[0mstacktrace\u001b[0m\u001b[1;33m,\u001b[0m \u001b[0malert_text\u001b[0m\u001b[1;33m)\u001b[0m\u001b[1;33m\u001b[0m\u001b[1;33m\u001b[0m\u001b[0m\n\u001b[1;32m--> 242\u001b[1;33m         \u001b[1;32mraise\u001b[0m \u001b[0mexception_class\u001b[0m\u001b[1;33m(\u001b[0m\u001b[0mmessage\u001b[0m\u001b[1;33m,\u001b[0m \u001b[0mscreen\u001b[0m\u001b[1;33m,\u001b[0m \u001b[0mstacktrace\u001b[0m\u001b[1;33m)\u001b[0m\u001b[1;33m\u001b[0m\u001b[1;33m\u001b[0m\u001b[0m\n\u001b[0m\u001b[0;32m    243\u001b[0m \u001b[1;33m\u001b[0m\u001b[0m\n\u001b[0;32m    244\u001b[0m     \u001b[1;32mdef\u001b[0m \u001b[0m_value_or_default\u001b[0m\u001b[1;33m(\u001b[0m\u001b[0mself\u001b[0m\u001b[1;33m,\u001b[0m \u001b[0mobj\u001b[0m\u001b[1;33m,\u001b[0m \u001b[0mkey\u001b[0m\u001b[1;33m,\u001b[0m \u001b[0mdefault\u001b[0m\u001b[1;33m)\u001b[0m\u001b[1;33m:\u001b[0m\u001b[1;33m\u001b[0m\u001b[1;33m\u001b[0m\u001b[0m\n",
      "\u001b[1;31mElementClickInterceptedException\u001b[0m: Message: element click intercepted: Element <span class=\"jcf-option\" data-index=\"2\">...</span> is not clickable at point (709, 499). Other element would receive the click: <button type=\"button\" class=\"agree-button eu-cookie-compliance-default-button\">...</button>\n  (Session info: headless chrome=81.0.4044.138)\n"
     ]
    }
   ],
   "source": [
    "driver = webdriver.Chrome(options = option)\n",
    "driver.get(url)\n",
    "\n",
    "wait = WebDriverWait(driver, 20)\n",
    "wait.until(EC.visibility_of_all_elements_located((By.CSS_SELECTOR, tableCSSselector)))\n",
    "print('ready ro scrape.')\n",
    "\n",
    "driver.execute_script(\"window.scrollTo(0, 2100)\")\n",
    "\n",
    "time.sleep(1)\n",
    "\n",
    "cursor = driver.find_element_by_css_selector(clickPerPageCSSselector)\n",
    "cursor.click()\n",
    "time.sleep(2)\n",
    "\n",
    "cursor = driver.find_element_by_css_selector(click100CSSselector)\n",
    "cursor.click()\n",
    "time.sleep(5)\n",
    "\n",
    "print('Top 100 institutions shown')\n",
    "\n",
    "soup = BeautifulSoup(driver.page_source, 'html5lib')\n",
    "\n",
    "QSurl = 'https://www.topuniversities.com'\n",
    "\n",
    "uniName = []\n",
    "uniLink = []\n",
    "for i in soup.findAll('a', class_='title'):\n",
    "    uniName.append(i.text)\n",
    "    uniLink.append(i.get('href'))\n",
    "\n",
    "mapCanvasXpath = '//*[@id=\"scene\"]/div[3]/canvas'\n",
    "whatsHereCSSselector = '#action-menu > ul > li:nth-child(3)'\n",
    "LatLonCSSselector = '#reveal-card > div > div.widget-reveal-card-container > button.link-like.widget-reveal-card-lat-lng'\n",
    "\n",
    "uniLocList = []\n",
    "LatLonList = []\n",
    "\n",
    "for i in tqdm(range(len(uniName))):\n",
    "    try:\n",
    "        urlUni = QSurl + uniLink[i]\n",
    "        driver.get(urlUni)\n",
    "    \n",
    "        soupUni = BeautifulSoup(driver.page_source, 'html5lib')\n",
    "    \n",
    "        uniLocRaw = soupUni.select_one('.location')\n",
    "        if uniLocRaw == None:\n",
    "            locCSSselectorAltern = '#block-system-main > div > div.basic-pro > div.lead_section > header > div.container > div.title_info > div.location'\n",
    "            uniLocRaw = soupUni.select_one(locCSSselectorAltern)\n",
    "\n",
    "        uniLoc = re.findall('(?!\\nView\\smap).+[^View\\smap]', uniLocRaw.text)\n",
    "    \n",
    "#     urlUniLoc = uniLoc.find('a').get('href')\n",
    "#     gmapAPI = urlUniLoc[urlUniLoc.find('//')+2:]\n",
    "    \n",
    "#     driver.get('https://' + gmapAPI)\n",
    "    \n",
    "#     wait = WebDriverWait(driver, 30)\n",
    "#     wait.until(EC.visibility_of_all_elements_located((By.XPATH, mapCanvasXpath)))\n",
    "    \n",
    "#     action = ActionChains(driver)\n",
    "#     action.move_to_element(driver.find_element_by_xpath(mapCanvasXpath)).perform()\n",
    "#     action.context_click().perform()\n",
    "#     time.sleep(2)\n",
    "    \n",
    "#     cursor = driver.find_element_by_css_selector(whatsHereCSSselector)\n",
    "#     cursor.click()\n",
    "#     time.sleep(2)\n",
    "    \n",
    "#     soupGmaps = BeautifulSoup(driver.page_source, 'html5lib')\n",
    "\n",
    "#     LatLon = soupGmaps.select_one(LatLonCSSselector).get('aria-label')\n",
    "#     LatLon = list(map(float, LatLon.split(', ')))\n",
    "    \n",
    "        uniLocList.append(uniLoc)\n",
    "#     LatLonList.append(LatLon)\n",
    "        \n",
    "        print(str(i+1) + ': ' + uniName[i])\n",
    "        time.sleep(2)\n",
    "    except:\n",
    "        print('Error occured when scraping ' + uniName[i])\n",
    "        PrintException()\n",
    "        print('Continue to the next iteration.')\n",
    "        uniLocList.append('')\n",
    "        continue\n",
    "    \n",
    "driver.close()"
   ]
  },
  {
   "cell_type": "code",
   "execution_count": 41,
   "metadata": {},
   "outputs": [],
   "source": [
    "driver.close()"
   ]
  },
  {
   "cell_type": "code",
   "execution_count": null,
   "metadata": {},
   "outputs": [],
   "source": [
    "driver = webdriver.Chrome(options = option)\n",
    "driver.get(url)\n",
    "\n",
    "wait = WebDriverWait(driver, 20)\n",
    "wait.until(EC.visibility_of_all_elements_located((By.CSS_SELECTOR, tableCSSselector)))\n",
    "print('ready ro scrape.')\n",
    "\n",
    "driver.execute_script(\"window.scrollTo(0, 2100)\")\n",
    "\n",
    "time.sleep(1)"
   ]
  },
  {
   "cell_type": "code",
   "execution_count": null,
   "metadata": {},
   "outputs": [],
   "source": [
    "cursor = driver.find_element_by_css_selector(clickPerPageCSSselector)\n",
    "cursor.click()\n",
    "time.sleep(2)\n",
    "\n",
    "cursor = driver.find_element_by_css_selector(click100CSSselector)\n",
    "cursor.click()\n",
    "time.sleep(5)\n",
    "\n",
    "soup = BeautifulSoup(driver.page_source, 'html5lib')\n",
    "\n",
    "QSurl = 'https://www.topuniversities.com'\n",
    "\n",
    "uniName = []\n",
    "uniLink = []\n",
    "for i in soup.findAll('a', class_='title'):\n",
    "    uniName.append(i.text)\n",
    "    uniLink.append(i.get('href'))"
   ]
  },
  {
   "cell_type": "code",
   "execution_count": 26,
   "metadata": {},
   "outputs": [
    {
     "data": {
      "text/plain": [
       "[['77 Massachusetts Avenue Cambridge, United States'],\n",
       " ['450 Serra Mall Stanford, United States'],\n",
       " ['1350 Massachusetts Avenue Cambridge, United States'],\n",
       " ['Wellington Square Oxford, United Kingdo'],\n",
       " ['1200 East California Boulevard Pasadena, United States'],\n",
       " ['Raemistrasse 101 Zürich, Switzerland'],\n",
       " ['The Old Schools, Trinity Lane Cambridge, United Kingdo'],\n",
       " ['University College London, Gower Street London, United Kingdo'],\n",
       " ['South Kensington London, United Kingdo'],\n",
       " ['Edward H. Levi Hall, 5801 South Ellis Avenue Chicago, United States'],\n",
       " ['50 Nanyang Avenue Singapore, Singapor'],\n",
       " ['21 Lower Kent Ridge Road Singapore, Singapor'],\n",
       " ['Princeton University Princeton, United States'],\n",
       " ['144 East Avenue Ithaca, United States'],\n",
       " ['University of Pennsylvania Philadelphia, United States'],\n",
       " ['30 Shuangqing Rd Beijing, Chin'],\n",
       " ['Yale University New Haven, United States'],\n",
       " ['Columbia University 116th Street & Broadway New York, United States'],\n",
       " ['Ecole Polytechnique Federale de Lausanne Lausanne, Switzerland'],\n",
       " ['University of Edinburgh, Old College South Bridge Edinburgh, United Kingdo'],\n",
       " ['G-664 Haven Hall, 505 South State Street Ann Arbor, United States'],\n",
       " ['No. 5 Yiheyuan Road Haidian District Beijing, Chin'],\n",
       " ['7-3-1 Hongo Tokyo, Japan'],\n",
       " ['Johns Hopkins University Baltimore, United States'],\n",
       " ['2138 Campus Drive Box 90586 Durham, United States'],\n",
       " ['Main Building, Pokfulam Road, Pokfulam Pok Fu Lam, Hong Kong S.A.R., Chin'],\n",
       " ['The University of Manchester, Oxford Road Manchester, United Kingdo'],\n",
       " ['Campanile Way Berkeley, United States'],\n",
       " ['The Australian National University Canberra, Austral'],\n",
       " [\"27 King's College Circle Toronto, Ontario Toronto, Canad\"],\n",
       " ['1841 Sheridan Road Evanston, United States'],\n",
       " ['Clear Water Bay Kowloon, Hong Kong S.A.R., Chin'],\n",
       " ['The Strand London, United Kingdo'],\n",
       " ['Yoshida-Honmachi Sakyo-ku Kyoto City, Japan'],\n",
       " ['3415 McTavish Street Montreal, Canad'],\n",
       " ['405 Hilgard Avenue Los Angeles, United States'],\n",
       " ['1 Gwanak-ro Gwanak-gu Seoul, South Kor'],\n",
       " ['Grattan Street Parkville, Austral'],\n",
       " ['New York University (NYU) New York, United States'],\n",
       " ['220 Handan Road, Yang Pu Shanghai, Chin'],\n",
       " ['373-1 Guseong-dong Daejeon, South Kor'],\n",
       " ['Camperdown Sydney, Austral'],\n",
       " ['High St Kensington, Sydney, Austral'],\n",
       " ['Houghton Street London, United Kingdo'],\n",
       " ['9500 Gilman Drive La Jolla, United States'],\n",
       " ['The Chinese University of Hong Kong Sha Tin, Hong Kong S.A.R., Chin'],\n",
       " ['JD Story Building, Level 2, University of Queensland St Lucia Campus 342 Carmody Rd, St Lucia Brisbane, Austral'],\n",
       " ['5000 Forbes Avenue Pittsburgh, United States'],\n",
       " ['Beacon House, Queens Road Bristol, United Kingdo'],\n",
       " ['2628 CN Stevinweg 1 Delft, Netherlands'],\n",
       " ['2329 West Mall Vancouver, Canad'],\n",
       " ['83 Tat Chee Ave Kowloon Tong Kowloon, Hong Kong S.A.R., Chin'],\n",
       " ['866 Yuhangtang Road West Lake District Hangzhou, Chin'],\n",
       " ['Technical University of Munich, Arcisstraße 21 Munich, Germany'],\n",
       " ['University of Wisconsin-Madison Madison, United States'],\n",
       " ['Brown University Providence, United States'],\n",
       " ['Wellington Rd & Blackburn Rd Clayton Melbourne, Austral'],\n",
       " ['2-12-1 Ookayama Meguro-ku Tokyo, Japan'],\n",
       " ['Route de Saclay Palaiseau, Franc'],\n",
       " ['800 Dong Chuan Road Shanghai, Chin'],\n",
       " ['Coventry, United Kingdo'],\n",
       " ['Geschwister-Scholl Platz 1 München, Germany'],\n",
       " ['Roeterseiland, REC-E Roetersstraat 11 Amsterdam, Netherlands'],\n",
       " ['University of Texas at Austin Austin, United States'],\n",
       " ['Grabengasse 1 Heidelberg, Germany'],\n",
       " ['University Avenue Glasgow, United Kingdo'],\n",
       " ['University of Washington Seattle, United States'],\n",
       " ['No.1, Sec. 4, Roosevelt Road, Taipei, Taiwan'],\n",
       " ['Universiti Malaya Jalan Universiti Kuala Lumpur, Malays'],\n",
       " ['1-1 Yamadaoka, Suita Osaka, Japan'],\n",
       " ['North Avenue Atlanta, United States'],\n",
       " ['Viamonte 430 Buenos Aires, Argentin'],\n",
       " ['901 West Illinois Street Champaign, United States'],\n",
       " ['Rämistrasse 71 Zürich, Switzerland'],\n",
       " ['The University Office The Palatine Centre Durham, United Kingdo'],\n",
       " ['Western Bank Sheffield, United Kingdo'],\n",
       " ['Oude Markt 13 Leuven, Belgiu'],\n",
       " ['Edgbaston Birmingham, United Kingdo'],\n",
       " ['Nørregade 10 Copenhagen, Denmark'],\n",
       " ['2-1-1 Katahira, Aoba-ku Sendai, Japan'],\n",
       " ['145 Anam-Ro, Seongbuk-Gu Seoul, South Kor'],\n",
       " ['Auckland CBD Auckland, New Zealand'],\n",
       " ['GSP-1, Leninskie Gory Moscow, Russ'],\n",
       " ['6100 Main Street Houston, United States'],\n",
       " ['35 Stirling Highway Crawley Perth, Austral'],\n",
       " ['77 Cheongam-Ro Nam-Gu Pohang, South Kor'],\n",
       " ['No. 96?Jinzhai Road Hefei, Chin'],\n",
       " ['CB #2200, Jackson Hall Chapel Hill, United States'],\n",
       " ['11號 Yuk Choi Rd Hung Hom Kowloon, Hong Kong S.A.R., Chin'],\n",
       " ['Paradisgatan 2 Lund, Sweden'],\n",
       " ['State College University Park, United States'],\n",
       " ['Leeds, United Kingdo'],\n",
       " ['2066 Seobu-ro Jangan-gu Suwon, South Kor'],\n",
       " ['University Park Nottingham, United Kingdo'],\n",
       " ['University Road Southampton, United Kingdo'],\n",
       " ['One Silber Way Boston, United States'],\n",
       " ['Brinellvägen 8 Stockholm, Sweden'],\n",
       " ['University of St Andrews St. Andrews, United Kingdo']]"
      ]
     },
     "execution_count": 26,
     "metadata": {},
     "output_type": "execute_result"
    }
   ],
   "source": [
    "uniLocList"
   ]
  },
  {
   "cell_type": "code",
   "execution_count": 7,
   "metadata": {},
   "outputs": [
    {
     "data": {
      "text/plain": [
       "[42.35891737166005, -71.09346063887153]"
      ]
     },
     "execution_count": 7,
     "metadata": {},
     "output_type": "execute_result"
    }
   ],
   "source": [
    "import geocoder\n",
    "g = geocoder.arcgis('77 Massachusetts Avenue, Cambridge')\n",
    "g.latlng"
   ]
  },
  {
   "cell_type": "code",
   "execution_count": 5,
   "metadata": {},
   "outputs": [
    {
     "data": {
      "text/plain": [
       "<[ERROR - HTTPSConnectionPool(host='sgws2.maps.yahoo.com', port=443): Read timed out. (read timeout=5.0)] Yahoo - Geocode [empty]>"
      ]
     },
     "execution_count": 5,
     "metadata": {},
     "output_type": "execute_result"
    }
   ],
   "source": [
    "g"
   ]
  }
 ],
 "metadata": {
  "kernelspec": {
   "display_name": "Python 3",
   "language": "python",
   "name": "python3"
  },
  "language_info": {
   "codemirror_mode": {
    "name": "ipython",
    "version": 3
   },
   "file_extension": ".py",
   "mimetype": "text/x-python",
   "name": "python",
   "nbconvert_exporter": "python",
   "pygments_lexer": "ipython3",
   "version": "3.7.6"
  }
 },
 "nbformat": 4,
 "nbformat_minor": 4
}
